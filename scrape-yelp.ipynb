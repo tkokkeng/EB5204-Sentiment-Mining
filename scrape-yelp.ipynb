{
 "cells": [
  {
   "cell_type": "markdown",
   "metadata": {
    "collapsed": true
   },
   "source": [
    "# KE5204 New Media & Sentiment Mining - Web Scrapping of Yelp Restaurant Reviews"
   ]
  },
  {
   "cell_type": "markdown",
   "metadata": {},
   "source": [
    "## Load libraries"
   ]
  },
  {
   "cell_type": "code",
   "execution_count": 1,
   "metadata": {},
   "outputs": [],
   "source": [
    "import requests\n",
    "from bs4 import BeautifulSoup as soup\n",
    "import re\n",
    "import json\n",
    "import os"
   ]
  },
  {
   "cell_type": "markdown",
   "metadata": {},
   "source": [
    "## Explore the standard training set"
   ]
  },
  {
   "cell_type": "code",
   "execution_count": 10,
   "metadata": {},
   "outputs": [],
   "source": [
    "with open(os.path.join('data', 'yelp_2.json')) as read_file:\n",
    "    std_reviews = json.load(read_file)"
   ]
  },
  {
   "cell_type": "code",
   "execution_count": 12,
   "metadata": {},
   "outputs": [
    {
     "data": {
      "text/plain": [
       "dict_keys(['0', '20'])"
      ]
     },
     "execution_count": 12,
     "metadata": {},
     "output_type": "execute_result"
    }
   ],
   "source": [
    "std_reviews.keys()"
   ]
  },
  {
   "cell_type": "code",
   "execution_count": 14,
   "metadata": {
    "collapsed": false
   },
   "outputs": [
    {
     "data": {
      "text/plain": [
       "dict_keys(['aggregateRating', 'review', 'servesCuisine', 'priceRange', 'name', 'address', '@context', 'image', '@type', 'telephone'])"
      ]
     },
     "execution_count": 14,
     "metadata": {},
     "output_type": "execute_result"
    }
   ],
   "source": [
    "std_reviews['0'].keys()"
   ]
  },
  {
   "cell_type": "code",
   "execution_count": 15,
   "metadata": {},
   "outputs": [
    {
     "data": {
      "text/plain": [
       "{'@type': 'AggregateRating', 'ratingValue': 4.5, 'reviewCount': 36}"
      ]
     },
     "execution_count": 15,
     "metadata": {},
     "output_type": "execute_result"
    }
   ],
   "source": [
    "std_reviews['0']['aggregateRating']"
   ]
  },
  {
   "cell_type": "code",
   "execution_count": 17,
   "metadata": {},
   "outputs": [
    {
     "data": {
      "text/plain": [
       "{'author': 'Tanmay A.',\n 'datePublished': '2017-05-19',\n 'description': 'The service at Sushi Bar was great with an extremely polite and conscientious staff. Decor of the location was very intimate but also great for larger groups.\\n\\nCame here on my birthday and ordered tuna sashimi (comes with three large pieces of raw fish), crab stick roll, and the salmon aburi. All of the sushi tasted fresh and was of high quality for a fair price. They even put a little candle on the sushi, so I kinda had to give it 5 stars.\\n\\nWould definitely recommend!',\n 'reviewRating': {'ratingValue': 5}}"
      ]
     },
     "execution_count": 17,
     "metadata": {},
     "output_type": "execute_result"
    }
   ],
   "source": [
    "std_reviews['0']['review'][0]"
   ]
  },
  {
   "cell_type": "code",
   "execution_count": 19,
   "metadata": {},
   "outputs": [
    {
     "data": {
      "text/plain": [
       "'Sushi Bars'"
      ]
     },
     "execution_count": 19,
     "metadata": {},
     "output_type": "execute_result"
    }
   ],
   "source": [
    "std_reviews['0']['servesCuisine']"
   ]
  },
  {
   "cell_type": "code",
   "execution_count": 20,
   "metadata": {},
   "outputs": [
    {
     "data": {
      "text/plain": [
       "'SGD16-30'"
      ]
     },
     "execution_count": 20,
     "metadata": {},
     "output_type": "execute_result"
    }
   ],
   "source": [
    "std_reviews['0']['priceRange']"
   ]
  },
  {
   "cell_type": "code",
   "execution_count": 21,
   "metadata": {},
   "outputs": [
    {
     "data": {
      "text/plain": [
       "'The Sushi Bar'"
      ]
     },
     "execution_count": 21,
     "metadata": {},
     "output_type": "execute_result"
    }
   ],
   "source": [
    "std_reviews['0']['name']"
   ]
  },
  {
   "cell_type": "code",
   "execution_count": 22,
   "metadata": {},
   "outputs": [
    {
     "data": {
      "text/plain": [
       "{'addressCountry': 'SG',\n 'addressLocality': 'Singapore',\n 'addressRegion': None,\n 'postalCode': '228213',\n 'streetAddress': '14 Scotts Road\\n#04-28, Far East Plaza'}"
      ]
     },
     "execution_count": 22,
     "metadata": {},
     "output_type": "execute_result"
    }
   ],
   "source": [
    "std_reviews['0']['address']"
   ]
  },
  {
   "cell_type": "code",
   "execution_count": 23,
   "metadata": {},
   "outputs": [
    {
     "data": {
      "text/plain": [
       "'http://schema.org/'"
      ]
     },
     "execution_count": 23,
     "metadata": {},
     "output_type": "execute_result"
    }
   ],
   "source": [
    "std_reviews['0']['@context']"
   ]
  },
  {
   "cell_type": "code",
   "execution_count": 24,
   "metadata": {},
   "outputs": [
    {
     "data": {
      "text/plain": [
       "'https://s3-media1.fl.yelpcdn.com/bphoto/Yxmi8g683MnWaOv82YWaDw/ls.jpg'"
      ]
     },
     "execution_count": 24,
     "metadata": {},
     "output_type": "execute_result"
    }
   ],
   "source": [
    "std_reviews['0']['image']"
   ]
  },
  {
   "cell_type": "code",
   "execution_count": 27,
   "metadata": {},
   "outputs": [
    {
     "data": {
      "text/plain": [
       "'Restaurant'"
      ]
     },
     "execution_count": 27,
     "metadata": {},
     "output_type": "execute_result"
    }
   ],
   "source": [
    "std_reviews['0']['@type']"
   ]
  },
  {
   "cell_type": "code",
   "execution_count": 26,
   "metadata": {},
   "outputs": [
    {
     "data": {
      "text/plain": [
       "'+6596536464'"
      ]
     },
     "execution_count": 26,
     "metadata": {},
     "output_type": "execute_result"
    }
   ],
   "source": [
    "std_reviews['0']['telephone']"
   ]
  },
  {
   "cell_type": "markdown",
   "metadata": {},
   "source": [
    "## Scrape the Reviews for 1 Restaurant"
   ]
  },
  {
   "cell_type": "code",
   "execution_count": 2,
   "metadata": {},
   "outputs": [],
   "source": [
    "def removeIndent(phrase):\n",
    "    phrase=re.sub(\"\\n\",' ',phrase)\n",
    "    phrase=re.sub(\"\\r\",' ',phrase)\n",
    "    phrase=re.sub(\"\\t\",' ',phrase)\n",
    "    return phrase"
   ]
  },
  {
   "cell_type": "code",
   "execution_count": 83,
   "metadata": {},
   "outputs": [],
   "source": [
    "yelp_url = \"https://www.yelp.com/biz/din-tai-fung-singapore-4\""
   ]
  },
  {
   "cell_type": "code",
   "execution_count": 84,
   "metadata": {},
   "outputs": [],
   "source": [
    "url_content = requests.get(yelp_url)\n",
    "page = url_content.content.decode('utf-8','ignore')\n",
    "soup_page = soup(page, 'html.parser')\n",
    "data = soup_page.findAll(\"script\", type=\"application/ld+json\")"
   ]
  },
  {
   "cell_type": "code",
   "execution_count": 87,
   "metadata": {},
   "outputs": [
    {
     "data": {
      "text/plain": [
       "4"
      ]
     },
     "execution_count": 87,
     "metadata": {},
     "output_type": "execute_result"
    }
   ],
   "source": [
    "len(data)"
   ]
  },
  {
   "cell_type": "code",
   "execution_count": 88,
   "metadata": {},
   "outputs": [
    {
     "data": {
      "text/plain": [
       "'            {\"@context\": \"http://schema.org\", \"itemListElement\": [{\"position\": 1, \"@type\": \"ListItem\", \"item\": {\"url\": \"/c/singapore/restaurants\", \"name\": \"Restaurants\"}}, {\"position\": 2, \"@type\": \"ListItem\", \"item\": {\"url\": \"/c/singapore/chinese\", \"name\": \"Chinese\"}}, {\"position\": 3, \"@type\": \"ListItem\", \"item\": {\"url\": \"/c/singapore/shanghainese\", \"name\": \"Shanghainese\"}}], \"@type\": \"BreadcrumbList\"}\\n'"
      ]
     },
     "execution_count": 88,
     "metadata": {},
     "output_type": "execute_result"
    }
   ],
   "source": [
    "data[0].text"
   ]
  },
  {
   "cell_type": "markdown",
   "metadata": {},
   "source": [
    "There are multiple <script> tags of which only 1 has the reviews."
   ]
  },
  {
   "cell_type": "code",
   "execution_count": 89,
   "metadata": {},
   "outputs": [],
   "source": [
    "reviews = [ removeIndent(i.text.lstrip().rstrip()) for i in data ]"
   ]
  },
  {
   "cell_type": "code",
   "execution_count": 90,
   "metadata": {},
   "outputs": [],
   "source": [
    "# Search for the contents of the script tag which has the review data. The review data has the key aggregateRating.\n",
    "for i in reviews:\n",
    "    jsondata = json.loads(i)\n",
    "    if 'aggregateRating' in jsondata:\n",
    "        break"
   ]
  },
  {
   "cell_type": "code",
   "execution_count": 91,
   "metadata": {},
   "outputs": [
    {
     "data": {
      "text/plain": [
       "{'@context': 'http://schema.org/',\n '@type': 'Restaurant',\n 'address': {'addressCountry': 'SG',\n  'addressLocality': 'Singapore',\n  'addressRegion': None,\n  'postalCode': '179103',\n  'streetAddress': 'Raffles City Shopping Centre\\n252 North Bridge Road, #B1-08'},\n 'aggregateRating': {'@type': 'AggregateRating',\n  'ratingValue': 4.0,\n  'reviewCount': 45},\n 'image': 'https://s3-media4.fl.yelpcdn.com/bphoto/Gyo3iSEL9XCTPy2XcTNSGg/ls.jpg',\n 'name': 'Din Tai Fung',\n 'priceRange': 'SGD16-30',\n 'review': [{'author': 'Margaux L.',\n   'datePublished': '2015-10-22',\n   'description': 'Before traveling to Singapore for work, I checked out some Yelp reviews to see what the restaurants close to my hotel offered. I\\'m glad I read reviews of Din Tai Fung because I made the effort to find it and ended up going three times during a two week trip! My hotel (the Swissotel) was connected to the Raffles City mall, so that made it very convenient, but I still would have made the effort to go back. \\n\\nThere was usually a line but it cleared quickly and the hostesses provided order sheets and menus so you could decide on your meal before you sat down. One of my favorite parts of the experience was the \"crib\" they provide for ladies\\' bags and that once you put your bag inside they cover it with a napkin as if the bags are being tucked in for a nap. \\n\\nBut my most favorite thing were the dumplings. These soup dumplings might be the most delightful thing I have ever eaten. The sensation of putting one in your mouth and the warm soup bursting out (yeah, yeah, *phrasing boom*) just brings a smile to your face. The texture of the dumplings is firm, but soft, and the soup has great flavor. I tried several varieties, with the traditional pork being my favorite. The shrimp and the chicken were also good, but I didn\\'t care for the crab very much. I also tried the shrimp fried rice and an eggplant side dish and both were great. \\n\\nI\\'ve seriously been telling everyone about these dumplings since I went on this trip. If you\\'re in Singapore, Din Tai Fung is a must.',\n   'reviewRating': {'ratingValue': 5}},\n  {'author': 'Joyce L.',\n   'datePublished': '2018-02-09',\n   'description': 'Came to DTF with friends for brunch.  This was my first time here and the friends said they offered more on the Singapore menu than the one back at home.  We tried the pork and veggie dumplings (yum), shrimp and pork shumai (yum), fried pork and shrimp wontons (yum), pork rib soup (yum), soup dumplings (yum), stir fried bok choy (yum), shrimp and pork wontons in soup (yum), crab and pork dumplings (good- very crabby), aaaaand crispy shrimp pancake (BOMB!!!).  Overall, my first experience at DTF was so worth it!',\n   'reviewRating': {'ratingValue': 5}},\n  {'author': 'Dianne B.',\n   'datePublished': '2018-04-06',\n   'description': \"The food is always consistent at any Din Tai Fung I've been too. I loooove the oriental salad and all the yummy dimsum!\",\n   'reviewRating': {'ratingValue': 4}},\n  {'author': 'Bob U.',\n   'datePublished': '2016-09-18',\n   'description': \"I've been here twice now. I waited to write a review because I wanted to make sure my first trip wasn't an anomaly\\n\\nI don't understand why everyone is so crazy about this place. one just opened near San Francisco and the wait time can be three hours. I figured I'd try it in SE Asia. the second time there I waited for a single table almost one hour. \\n\\nthe service is lousy. a runner just dumps the dish on the table and leaves without checking if it's correct or you need anything else. but the worst part was the xiao long bao, both times, was dried out like it had been sitting on a warming shelf for a while. this is supposed to be the reason people come here. my order was wrong one of the times, but I was too annoyed at waiting an hour so I didn't complain. the sides were okay.\\n\\nI'll never come back\",\n   'reviewRating': {'ratingValue': 2}},\n  {'author': 'Yuvik G.',\n   'datePublished': '2018-02-16',\n   'description': 'Really good! Huge menu, I tasted many of them, good prices even for Singapore, free refill tea is great, what can I say - I loved it',\n   'reviewRating': {'ratingValue': 5}},\n  {'author': 'Sylvia K.',\n   'datePublished': '2015-09-05',\n   'description': \"I finally got to try the Din Tai Fung's famous steamed pork dumplings. There's a location in the Raffles City shopping center. \\n\\nThe verdict: pretty tasty! How do they make these? How do they get the soup to stay inside? The meat and the dumpling itself was delicious, but I wouldn't say it was mind blowing. Maybe I had high expectations because it was so hyped up. \\n\\nI also tried the steamed chicken soup, because the menu said it was another thing they were famous for. I didn't like this as much. I thought the broth was kind of bland and most of the chicken was white meat, so slightly dry.\\n\\nThey give you a pen and you have to mark down how many of each item you want. For the dumplings, you have the option of getting six pieces or ten pieces. And it comes out in one of those bamboo steamer baskets. \\n\\nOverall, tasty dumplings, but nothing to go out of your way for!\",\n   'reviewRating': {'ratingValue': 4}},\n  {'author': 'Mark H.',\n   'datePublished': '2017-07-17',\n   'description': 'Wow. I am not a Chinese food expert, but this was good stuff. Chicken Soup was indescribably delicious and made my tummy feel good. The steamed pork dumplings were amazing.',\n   'reviewRating': {'ratingValue': 4}},\n  {'author': 'Emily K.',\n   'datePublished': '2016-08-09',\n   'description': 'Decent quality and consistent food. I like the egg fried rice (sometimes I get it with shrimp) and the wonton soup. Good stuff. Can count on it being the same every time I go. Of course, the xiao long baos are decent too.',\n   'reviewRating': {'ratingValue': 4}},\n  {'author': 'Tram N.',\n   'datePublished': '2016-03-13',\n   'description': \"Overrated. \\n\\nIf you order 1 or 2 orders of dumplings then you might be able to distinguish the taste but we ordered more than 6 orders (all different ones) so I felt that it all tasted the same after my 2nd dumpling. \\n\\nThe oriental salad was delicious and my favorite. The fried rice was incredibly tasty, too. The duck wrap I ordered was good but I would not order it again. I was not a fan of their BBQ pork buns (all dough and barely any meat filling). \\n\\nService was subpar. \\n\\nWe were ignored for a short while. \\n\\nI'd pick the dim sum at the hawker centers instead.\",\n   'reviewRating': {'ratingValue': 3}},\n  {'author': 'C C.',\n   'datePublished': '2016-04-30',\n   'description': \"If you ever find yourself in Singapore,  do your self a favor.  Avoid the super snooty overpriced restaurants.  Find this little gem which truthfully isn't so little at all. And come hungry. They have an incredibly  wide assortment of dim sum as week as their speciality, soup dumplings. \\n\\n Nom nom\\nYou will certainly not be disappointed. \\n\\nThough this location won't win any rewards in ambience and decor, it's clean decorum coupled with an efficiency in both acquiring a table and being served or food with 5 minutes of being seated, is an award all to itself. \\n\\nWhilst waiting to be seated you are given both a menu on a clipboard and a picture book of all the succulent options. Some options come in multiples of 1, 3, 6 or 10 so make sure to carefully discern quantity when making your selections. \\n\\nYou are also assigned a queue number which is conveniently illuminated at the entrance just above your head. Thus no mystery as to when you'll be seated. \\nOnce your number your number is called, the hostess takes your menu, reviews your order with you before seating at your table which is being cleaned quickly during that time.  Once you're seated you receive the first of your items usually within 5 minutes.\\nEFFICIENCY LADIES AND GENTS IS THE NAME OF THE GAME WHEN GOING TO MOST PLACES IN SINGAPORE.\",\n   'reviewRating': {'ratingValue': 4}},\n  {'author': 'Joyce L.',\n   'datePublished': '2017-02-06',\n   'description': 'I would say this place is overrated. Stopped by for dinner last night, and ordered the soup dumpling with a vermicelli soup. The vermicelli soup with fried tofu was pretty good, the broth was really flavorful. But the soup dumpling is lacking in flavor big time. True, the skin is thin, has the right consistency, and there juice inside. However, the flavor of the filling is also a big part of the soup dumpling, and I found the meat filling was rather bland.',\n   'reviewRating': {'ratingValue': 3}},\n  {'author': 'Lauren N.',\n   'datePublished': '2015-07-08',\n   'description': 'This was our first stop for food on the first morning of our most recent visit to Singapore. DUMPLINGS! I love the consistency. Every restaurant churns out the same great food and hopefully decent service. This place gives you a basket for your purse and a napkin to cover it- that way no dumpling juice or soy splashes it! We shared the pork and tofu noodles, pork XLB, shrimp and pork XLB, duck skin cigars and red bean sticky rice. All solid choices and I enjoyed everything we ate!',\n   'reviewRating': {'ratingValue': 4}},\n  {'author': 'Rachel C.',\n   'datePublished': '2015-01-31',\n   'description': \"Came here during my 2 week visit to Singapore about 3 times :) \\n\\nLOVED their seaweed/vegetable salad app, the pork dumplings, spicy cucumber and the shrimp fried rice. There was typically a wait if you came at normal eating hours, and even off peak there were always plenty of tables filled up! I do like the numbering system and how they call out the tables, easier to hear than names being called and lets you not stand in a line like other places in the mall. \\n\\nService was typically quick, although items came out as they were ready and not necessarily in the order that you would expect them. This didn't bother me as i was eating alone, but might be weird if you are in a group and ordering separately. \\n\\nAlthough this is a chain, i felt that this location was a nice option for dinner for almost any occasion from date night to casual eating alone. I think you have to visit one location of this restaurant if you are visiting Singapore!\",\n   'reviewRating': {'ratingValue': 4}},\n  {'author': 'Kavita K.',\n   'datePublished': '2016-10-04',\n   'description': \"I realise I've falled into a predictable pattern of late. Whenever I want dim sum, I go to DTF. Few restaurants have inspired such loyalty from me and that's simply owing to their reliable dim sum with consistent quality. \\n\\nNot to say there aren't ANY cons. The waiting time can range from 10-30 minutes on the weekends although they are kind enough to let you pick your food while you wait and make your order just as you are whisked to a table. The menu is a bit limited in my opinion. No char siew pau or chee cheong fun, two staples on the dim sum menu. It's also not particularly adventurous if you are into that sort of thing. \\n\\nHaving said that, whatever they do serve is very good promptly dished. The pork and chilli crab steamed bun is delicious, as is their soup dumplings. I'm also a sucker for their mango pudding which I never have space for because I've just gorged on 6 prawn and pork dumplings. \\n\\nIf you want some otherworldly dim sum, you won't get it here. If you just want a straightforward, good dumpling, this place will not fail you.\",\n   'reviewRating': {'ratingValue': 4}},\n  {'author': 'Perry O.',\n   'datePublished': '2017-05-05',\n   'description': 'Taipei, Singapore, and Seattle .... always count on Din Tai Fung to bring their A game.  Especially XLB!',\n   'reviewRating': {'ratingValue': 5}},\n  {'author': 'Marlin O.',\n   'datePublished': '2016-01-13',\n   'description': \"We were there on the last Saturday of the year so it seemed like it was a bit of a mad rush at the centre. Thankfully there wasn't the usual long queue at DTF as it was a late lunch. We pre-ordered at the queue to cut wait time but there was still a wait at the table. Luckily the beers didn't take too long! \\n\\nMy companions were vegetarians so we only opted for vegetarian dishes and were very pleased with our choices. The stir fried dou miao with garlic was outstanding as were the steamed red bean paste buns.\\n\\nService was so-so. Staff weren't rude but not that friendly either. One of our dumpling dishes was forgotten so we had to ask for it and there was a bit of a delay though it wasn't too long.\\n\\nIt was a pleasant experience and the flavour of the food is consistent with DTF in Hong Kong, Malaysia and Sydney.\",\n   'reviewRating': {'ratingValue': 3}},\n  {'author': 'Scott G.',\n   'datePublished': '2015-06-27',\n   'description': \"Other than the Edge breakfast I enjoyed every morning, this was my favorite meal in Singapore. I am now absolutely addicted to dumpling and buns.\\n\\nIt is almost impossible to find soup dumplings in the US, so my friend was on the hunt for some. Enter Din Tai Fung. The soup dumplings were absolutely delicious, and I can't complain about anything else we ate.\\n\\nI loved watching them make all of the food while we waited. Their kitchen is glassed in, and you can see them moving all of the trays around in the steam. Definitely worth the wait.\",\n   'reviewRating': {'ratingValue': 5}},\n  {'author': 'Mark D.',\n   'datePublished': '2013-08-13',\n   'description': \"On a personal note, this is the last restaurant review I will write from my recent time living in Singapore.  I truly loved the island and took immense joy in exploring its varied culinary landscape.  It is special place populated by such amazing people (locals and expats).  From the depth of my heart, I hope I am able to return someday.\\n\\nThis is a review of dinner with two friends at Din Tai Fung in Raffles City Shopping Centre.\\n\\nhttp://tinyurl.com/lvn2cb4\\n\\nThis Din Tai Fung is located in the basement level of Raffles CIty.  It is pretty far into the level and can be a little difficult to locate.  Also, unless you arrive early for dinner, you should expect a wait.  I think we arrived around 6:30 or so.  We had a 20 to 25 minute wait for our table.  But, I think those arriving when we were being seated were probably having a little longer wait.\\n\\nThe ambiance is a notch above basic but still trends towards the functional.  I would not place it at the level of fine dining.  It lacks the attention to detail that a fine dining room displays.\\n\\nhttp://tinyurl.com/kldx5xd\\n\\nThe staff is very effective.  I wouldn't necessarily use the word friendly.  Though they are certainly not rude.  Everyone just seems too busy and focused on their tasks to take a moment for overt politeness.  Also, the experience seems to be based on speed; get folks seated, get their order, get them their food ASAP, and get them on their way, rinse and repeat.\\n\\nThe food ranged from good to extremely good.\\n\\nhttp://tinyurl.com/lfurlwm\\n\\nCrispy Prawn Pancake - This was my least favourite dish. There wasn't anything  particularly wrong with it but it lacked layers of flavours that would have brought it up a notch.\\n\\nhttp://tinyurl.com/md9rrdp\\n\\nChicken with wine sauce - This was such a enjoyable chicken dish.  it is another example of a dish that allowed the basic ingredient to shine through.  The wine sauce complimented the chicken without overwhelming it.  Plus, the chicken was very tender.\\n\\nhttp://tinyurl.com/lyzsb9g\\n\\nPrawn Fried Rice - I love rice.  But I tend to prefer steamed rices.  However, if I keep running into fried rices as good as this, I may become a convert.  It was light.  The prawns were sweet.  The eggs provided a rich earthy note.  At some level, it was difficult to believe this was a fried dish.\\n\\nhttp://tinyurl.com/kcpztlb\\n\\nCold Pork - I enjoyed the flavours of this dish.  The lightness of the pork.  The freshness of the onions.  The nice touch of the sesame seeds.  All that being said, I would prefer this dish with the pork served hot.\\n\\nhttp://tinyurl.com/mc6hn5j\\n\\nPrawn Dumplings - I love prawn dumplings.  These were very good.  Fresh, hot, sweet, etc..\\n\\nhttp://tinyurl.com/lpqr9n5\\n\\nXia Long Bao (soup dumplings) - This is the dish that brings a lot of folks to Din Tai Fung.   They did not disappoint.  Dipped into the vinegar and ginger and then popped into your mouth for a flavour explosion.  Just make sure not to burn yourself.\\n\\nhttp://tinyurl.com/m7efulr\\n\\nI do not know the cost.  My friends were kind enough to treat me to dinner.\\n\\nOverall - Din Tai Fung is about the food and they delivered.  For the overall experience, I would say this was more 3.5 star than 4.  The food definitely warranted 4 stars.  The service could be a little more personable and little less rushed.   But, I guess if they didn't hurry, we would all have to wait a little longer to get our delicious Xia Long Bao.\",\n   'reviewRating': {'ratingValue': 4}},\n  {'author': 'Diana Y.',\n   'datePublished': '2016-01-11',\n   'description': \"Din Tai Fung is a great place to take first-time visitors to Singapore, especially when you're on a moderate budget. They have great soup dumplings, portions are good, and it's air-conditioned (which is so key for foreigners).  Whenever my husband and I are stuck in choosing options for hosting people, Din Tai Fung is always our go-to choice.\",\n   'reviewRating': {'ratingValue': 4}},\n  {'author': 'Tyrion L.',\n   'datePublished': '2016-09-24',\n   'description': \"The heavy weight champion of soup dumplings. While they could've stopped there, they didn't. Spectacular noodles. Amazing starters (duck filled spring rolls). Incredible fried rice (get it w pork chop). Why this place doesn't have a Michelin star is a mystery.\",\n   'reviewRating': {'ratingValue': 5}}],\n 'servesCuisine': 'Shanghainese',\n 'telephone': '+6563366369'}"
      ]
     },
     "execution_count": 91,
     "metadata": {},
     "output_type": "execute_result"
    }
   ],
   "source": [
    "jsondata"
   ]
  },
  {
   "cell_type": "markdown",
   "metadata": {},
   "source": [
    "## Try scraping the reviews on the next page"
   ]
  },
  {
   "cell_type": "code",
   "execution_count": 92,
   "metadata": {},
   "outputs": [],
   "source": [
    "url_content = requests.get(yelp_url + '?start=20')\n",
    "page = url_content.content.decode('utf-8','ignore')\n",
    "soup_page = soup(page, 'html.parser')\n",
    "data = soup_page.findAll(\"script\", type=\"application/ld+json\")"
   ]
  },
  {
   "cell_type": "code",
   "execution_count": 93,
   "metadata": {},
   "outputs": [],
   "source": [
    "reviews2 = [ removeIndent(i.text.lstrip().rstrip()) for i in data ]\n",
    "for i in reviews2:\n",
    "    jsondata2 = json.loads(i)\n",
    "    if 'aggregateRating' in jsondata2:\n",
    "        break"
   ]
  },
  {
   "cell_type": "code",
   "execution_count": 94,
   "metadata": {
    "collapsed": false
   },
   "outputs": [
    {
     "data": {
      "text/plain": [
       "{'@context': 'http://schema.org/',\n '@type': 'Restaurant',\n 'address': {'addressCountry': 'SG',\n  'addressLocality': 'Singapore',\n  'addressRegion': None,\n  'postalCode': '179103',\n  'streetAddress': 'Raffles City Shopping Centre\\n252 North Bridge Road, #B1-08'},\n 'aggregateRating': {'@type': 'AggregateRating',\n  'ratingValue': 4.0,\n  'reviewCount': 45},\n 'image': 'https://s3-media4.fl.yelpcdn.com/bphoto/Gyo3iSEL9XCTPy2XcTNSGg/ls.jpg',\n 'name': 'Din Tai Fung',\n 'priceRange': 'SGD16-30',\n 'review': [{'author': 'Dru C.',\n   'datePublished': '2012-10-23',\n   'description': \"I've eaten at the DTF location in Arcadia, CA in the states plenty of times and I'm a big fan for only their trademark pork XLB's and nothing else. Naturally, once I found out that there was a location minutes away from my hotel in Singapore, I just had to check it out for comparison purposes. \\n\\nPrices are definitely higher, which is no shocking surprise. In the US, it's around $7-8 for a 10 pc of the juicy pork dumplings. In Singapore, it's closer to $11-12. The group of us weren't that hungry, so we only ordered 20 total for 4 people. Not only do they tack on $1 per person for tea (without even asking), but they also automatically added a service charge. So it ended up being close to $30 US dollars.\\n\\nNot a good value, by any means, and the XLB's where just about the same compared to the Arcadia location. If there was a slight difference, the skin was slightly thicker and chewier in Singapore -- which I didn't mind at all. Worth a try, but not again if I'm ever in Singapore again.\",\n   'reviewRating': {'ratingValue': 4}},\n  {'author': 'Mimi C.',\n   'datePublished': '2016-09-12',\n   'description': 'Small location in the basement of the mall. The soup dumplings were good but not as good as some of their other locations within Singapore.',\n   'reviewRating': {'ratingValue': 3}},\n  {'author': 'Abby m.',\n   'datePublished': '2014-09-05',\n   'description': 'They do not take American Express, so beware :) i come here for the dumplings only, which are really good!! So flavorful, and juicy after you bite into them!!! :) \\nI once got the dan dan noodles, and did not like at all... Very little flavor, and feel a bit more fast food like. \\nOne day I came here and the hostess was a little rude, and sat couples who came after me, and when it was my turn, she told me that there was a 30 min wait, even though there were two empty tables in the back.. I was a party of one that day, but still....',\n   'reviewRating': {'ratingValue': 4}},\n  {'author': 'Amrita P.',\n   'datePublished': '2015-11-02',\n   'description': \"I dream of Din Tai Fung when I'm in the states. This place is super consistent and gets it right every time. The pork chop and fried rice is a must and obviously if you leave without trying the variety of soup dumplings if not ALL the soup dumplings you must be from another planet. You seriously can't go wrong here...\",\n   'reviewRating': {'ratingValue': 5}},\n  {'author': 'Ernie K.',\n   'datePublished': '2012-09-21',\n   'description': \"Yes, I am a fan of this place.  \\n\\nI was a bit worried that it won't be as good as the original place in Taiwan but they are quite good.  When I worked near City Hall, I used to come here once a week and yes, that's how satisfying it was.  \\n\\nTry their red-bean dessert dumplings.\",\n   'reviewRating': {'ratingValue': 4}},\n  {'author': 'Deborah S.',\n   'datePublished': '2014-06-28',\n   'description': \"I was back in Singapore visiting family and attending my brother's wedding, and had to get a xiao long bao fix. HAD to. We were in the area because there was a little anime festival going on at Funan mall, and this was the closest thing that served xiao long bao. \\n\\nWe were seated promptly, and politely. It was rather cramped- you can tell they're trying to maximize space, and when there's only 2 people in your party... well. But really, we're not big, so we didn't mind rubbing elbows a little. Wound up chatting a bit to a couple of Frenchmen that were dining next to us, actually! (Frenchmen! You never get Frenchmen in Phoenix. I sometimes forget how urbane Singapore is.) \\n\\nThe food we ordered was pretty standard. I waffled about getting the truffle xiao long bao but decided against it, going instead for the regular order of that, plus the signature jiao zi. My girlfriend got the dan dan mien, I got the zha jiang mien. We also shared the pickled shredded vegetables. \\n\\nEverything was pretty good- the skin on the bao thin, the broth hot. My zha jiang mien was delicious, and definitely better than what I could replicate at home. Mostly it was just a good fix of chinese food, and the coveted xiao long bao. I don't get a chance to have food like this back in Phoenix. \\n\\n3.5 stars out of 5 for sure. Didn't round up as #1- it's a chain restaurant and #2, really nothing out of this world. Good solid fare, in a nice, air conditioned environment. WIN for me.\",\n   'reviewRating': {'ratingValue': 3}},\n  {'author': 'Arthur H.',\n   'datePublished': '2013-10-26',\n   'description': \"This was the 5th or 6th DTF I'd eaten at on my current traveling spree, and it was very similar to the other DTFs I've had in my life (with the exception of branches in Shanghai and Taipei).\\n\\nYou know what the deal is here. Delicious xiaolongbao, with different kinds if you're looking for some variety. It's not exactly cheap, but the quality's pretty good. I personally think it's worth it. There are also a few other dishes, but I didn't get to order them this time around. We just ordered a lot of different kinds of XLB hahaha.\",\n   'reviewRating': {'ratingValue': 5}},\n  {'author': 'Katie B.',\n   'datePublished': '2014-04-15',\n   'description': '4.5 stars for Din Tai Fung!   The Xao long bao soup dumplings were super good.  They had a chili crab \"special\" one that I really enjoyed.  We also ordered a veggie dish that was just okay, and dan dan noodles which were pretty good.  I recommend sticking to their dumplings.  \\n\\nService was good.  Atmosphere was good.  All in all I would recommend trying Din Tai Fung...although not sure if it\\'s worth the potentially long lines.',\n   'reviewRating': {'ratingValue': 4}},\n  {'author': 'Martin H.',\n   'datePublished': '2015-04-14',\n   'description': \"If you like dim sum, don't miss this one. Have tried this and a second location for this chain. Ordered a wide variety of their menu offerings and all were great. Don't miss the soup filled dumplings, the noodle dishes.....etc.\",\n   'reviewRating': {'ratingValue': 5}},\n  {'author': 'Josh T.',\n   'datePublished': '2013-07-01',\n   'description': \"It speaks volume of a chain restaurant that I can return to again, and again, and again.\\nAnd look. The shizz here is foh real and is definitely good. So let's not waste words on waxing lyrical.\\n\\nI like this branch in general, service is almost always good, the lines move fast, and I've never had a bad experience here. Food appears promptly, and they're a polished operation. (Which can't be said of every Din Tai Fung I've tried in Singapore)\\n\\nThis is the Joshua list of what you MUST try at Din Tai Fung. Okay. Maybe not 'must' try. It's MY list after all. But trust me, these are some of the best things on the menu.\\n\\nXiao Long Bao. The normal kind with pork.\\nXiao Long Bao WITH BLACK TRUFFLE. Now I know they're expensive at about $4 a pop, but HOT DIGGIDY DAMN they ARE GOOD. They're worth that $4, trust you me. \\n\\nThe dumplings in chili oil and vinegar. These are so tasty it's ridonkulous. \\nEat them dumplings up, and keep a little of the oil and vinegar mix so you can dump it in the...\\n\\nDouble boiled chicken soup with noodles.\\nThis is the one where the noodles and the soup come separate. The noodles are dry, in a bowl with spring onion and salt, and you're supposed to pour in some soup. BUT WAIT. We have that awesome vinegar chili oil mix still left over. POUR THAT IN. Spoon in 2-3 spoons of soup. And SAVOUR.\\n\\nAlso definitely worth trying is the Shanghai drunken chicken. PACKED with flavour, this is my favourite cold starter item on the menu.\\n\\nAlso generally well liked is the prawn pancake, which is crisp, seafoody goodness.\\n\\nOMG I need some XLB right now.\",\n   'reviewRating': {'ratingValue': 4}},\n  {'author': 'Boon K.',\n   'datePublished': '2013-02-07',\n   'description': \"Hello soupy dumpling you are so amazing and I can't believe I ate almost two orders on my own. Why i love you so much, the perfect bite size and not hint of greasiness in the broth or skin. The thin chewy skin, and the super tender meat were amazing.\\nThe also like the chinese broccoli with garlic and sauce!\",\n   'reviewRating': {'ratingValue': 5}},\n  {'author': 'Cecilia S.',\n   'datePublished': '2015-02-06',\n   'description': \"Breezed right in on a Friday afternoon around 3pm. Service was a bit slow but I was too excited for my dumplings to care.  Dui Mui (greens) came out first and weren't completely pipping hot. Remaining dumplings followed shortly. The truffle xiao long bao was a bit over the top, but I would probably order it again since we don't have it in the States. Chili crab bun was interesting, but I'm here for the xiao long baos.\",\n   'reviewRating': {'ratingValue': 4}},\n  {'author': 'Candice A.',\n   'datePublished': '2012-08-22',\n   'description': \"Din Tai Fung is one of my favourite places to go to for xiao long baos. Although they lack the novelty of the creative multi flavoured xiao long baos at Paradise Dynasty, they do the normal xiao long baos really well and have their own varieties like chilli crab dumplings, pork and crab dumplings, red bean paste dumplings etc.\\n\\nThe dumpling skin is just right in thickness and the broth is delicious! The chicken soup is also really tasty, as is the beef soup. We also really like the fried rice which is one of the best we've had. The dou miao is also really commendable and is sold out pretty often by dinner time. \\n\\nThe prawn beancurd skin rolls are a tad oily and I'm not that big a fan of the pork chop, but their noodles are quite decent.\\n\\nOverall a great place for a meal.\",\n   'reviewRating': {'ratingValue': 4}},\n  {'author': 'Pui Yeng C.',\n   'datePublished': '2012-08-14',\n   'description': \"Din Tai Fung is one of those places that I always fall back on when we don't feel like being creative with our dining choices, simply because they can do no wrong. Their top seller is definitely their Xiao Long Baos, which are soup dumplings with pork fillings. They explode in your mouth with a soupy broth that tastes both rich and thick at the same time, one of the best in Singapore! \\n\\nOne of my recent discoveries was their Yam Dumplings, which are usually served as dessert dumplings. It's a sweet dumpling, filled with a soft and finely milled yam paste that isn't too cloyingly sweet. \\n\\nAside from their dumplings, they also serve a great Bean Paste Noodles, that is mixed with  minced pork and tofu to give it a more Oriental feel compared to its Korean influences. Their Pork Chop Fried Rice, which sounds unassuming, is also deliciously crispy but thick served with steaming fragrant rice fried with battered eggs. \\n\\nService is always as prompt as they can, given the perpetual long queues. But seating arrangements are always well organized with a numbered system. Hot chinese tea is also served free-flow throughout your meal, and continuously filled to the point where you filled obliged to drink several pots before saying No!\",\n   'reviewRating': {'ratingValue': 5}},\n  {'author': 'Vidya G.',\n   'datePublished': '2014-11-30',\n   'description': \"This place has amazing dumplings! I had the veggie dumplings and bun, and it was amazing. My boyfriend had pork dumplings, which he loved as well. They also serve complementary hot jasmine green tea with the food. The service is fast, the kitchen is very hygienic (they wear masks and serious hairnets), and I totally recommend it if you're looking for a place for a quick bite!\",\n   'reviewRating': {'ratingValue': 5}},\n  {'author': 'Conan H.',\n   'datePublished': '2013-01-22',\n   'description': \"World famous DTF... there's nothing I can write in this review that someone else hasn't already written. Suffice to say the xiaolanpo is one of the best, and the pork fat cures any hangover ills.\\n\\nExpect to wait during peak hours.\",\n   'reviewRating': {'ratingValue': 4}},\n  {'author': 'Stephanie H.',\n   'datePublished': '2012-12-12',\n   'description': \"This is the very first Din Tai Fung we ever ate at and wow, we were missing out on one of the world's best foods. The Xiao Long Baos here are the best, taste just like every other Din Tai Fung, even the original ones in Taipei. \\n\\nWe eat only the pork XLB, and this places gives you a lot compared to other countries!! We tried the royal truffle bao and it was ok. \\n\\nThe pork fried rice is also good and try the tapioca based desserts.\",\n   'reviewRating': {'ratingValue': 4}},\n  {'author': 'Nicolas M.',\n   'datePublished': '2013-01-29',\n   'description': 'Dim Sum is something that is hard to come by in the states, I guess the recipes and ingredients are hard to recreate here.\\n\\nBut, din tai fung is a restaurant I look forward to every time I travel to Singapore! Best soup dumplings () ever, and almost any other dim sum on their menu is bound to be good. Do not even think about visiting Singapore without stopping by one of their locations (I think there is like 4-5 locations across the island).',\n   'reviewRating': {'ratingValue': 4}},\n  {'author': 'Samuel L.',\n   'datePublished': '2012-08-31',\n   'description': 'Din Tai Fung is a Chinese restaurant that is associated with its famous signature Xiao Long Baos (steamed pork dumplings), but it offers so much more than that. Dining amidst this brightly lit modern setting will surely give you an enjoyable dining experience. \\n\\nTheir Taiwan Shrimp and Pork Oriental Wantons with Spicy Sauce bring a fiery twist to the normal pork dumplings. These bite-sized dumplings are generously doused with chili oil and black vinegar, bringing out the flavor of the pork and shrimp. Another simple yet fulfilling dish to try is their Fried Rice with Pork Chop. The fried rice is cooked till fragrant, while the pork chop is tender and savory. If you seek a heavier meal, then the Minced Meat Noodles would satisfy you. The noodles are smooth while the saltiness and flavor of the sauce makes it appetizing. The food can be a tad oily, so be sure to order some Chinese Tea to flush it down.',\n   'reviewRating': {'ratingValue': 3}},\n  {'author': 'September H.',\n   'datePublished': '2014-03-26',\n   'description': 'For a quick and easy and delicious meal, this is the place.  Have been in Singapore and in Shanghai.  Service is always quick, though there may be a wait to get a table and the food comes right away and is great.',\n   'reviewRating': {'ratingValue': 5}}],\n 'servesCuisine': 'Shanghainese',\n 'telephone': '+6563366369'}"
      ]
     },
     "execution_count": 94,
     "metadata": {},
     "output_type": "execute_result"
    }
   ],
   "source": [
    "jsondata2"
   ]
  },
  {
   "cell_type": "markdown",
   "metadata": {},
   "source": [
    "We will need to consolidate the reviews from multiple pages into 1 json file."
   ]
  },
  {
   "cell_type": "markdown",
   "metadata": {},
   "source": [
    "## Scrape Reviews for a List of Restaurants"
   ]
  },
  {
   "cell_type": "code",
   "execution_count": 3,
   "metadata": {},
   "outputs": [],
   "source": [
    "yelp_urls = [\"https://www.yelp.com/biz/tim-ho-wan-singapore-7?start=\",\n",
    "             \"https://www.yelp.com/biz/din-tai-fung-singapore-4?start=\",\n",
    "             \"https://www.yelp.com/biz/lei-garden-singapore-2?start=\",\n",
    "             \"https://www.yelp.com/biz/jai-thai-singapore?start=\",\n",
    "             \"https://www.yelp.com/biz/yhingthai-palace-singapore-2?start=\",\n",
    "             \"https://www.yelp.com/biz/first-thai-food-singapore?start=\",\n",
    "             \"https://www.yelp.com/biz/standing-sushi-bar-singapore?start=\",\n",
    "             \"https://www.yelp.com/biz/menya-musashi-singapore?start=\",\n",
    "             \"https://www.yelp.com/biz/osaka-ohsho-singapore?start=\",\n",
    "             \"https://www.yelp.com/biz/garibaldi-italian-restaurant-and-bar-singapore-2?start=\",\n",
    "             \"https://www.yelp.com/biz/trattoria-lafiandra-singapore-2?start=\",\n",
    "             \"https://www.yelp.com/biz/prego-singapore?start=\"]"
   ]
  },
  {
   "cell_type": "code",
   "execution_count": 4,
   "metadata": {},
   "outputs": [],
   "source": [
    "for yelp_url in yelp_urls:\n",
    "\n",
    "    # Open the file to save the reviews.\n",
    "    ffile = open(os.path.join('data', 'yelp_' + yelp_url.split('/')[-1] + '.json'), \"w\")\n",
    "\n",
    "    # Get the reviews on the first page.\n",
    "    url_content = requests.get(yelp_url)\n",
    "    page = url_content.content.decode('utf-8', 'ignore')\n",
    "    soup_page = soup(page, 'html.parser')\n",
    "    data = soup_page.findAll(\"script\", type=\"application/ld+json\")\n",
    "\n",
    "    reviews = [removeIndent(i.text.lstrip().rstrip()) for i in data]\n",
    "    for i in reviews:\n",
    "        jsondata = json.loads(i)\n",
    "        if 'aggregateRating' in jsondata:\n",
    "            break\n",
    "\n",
    "    # Get the reviews from the next pages.\n",
    "    page_counter = 20\n",
    "\n",
    "    while True:\n",
    "\n",
    "        yelp_url_nextpage = yelp_url + str(page_counter)\n",
    "        url_content = requests.get(yelp_url_nextpage)\n",
    "\n",
    "        try:\n",
    "            url_content.raise_for_status()\n",
    "\n",
    "            page = url_content.content.decode('utf-8', 'ignore')\n",
    "            soup_page = soup(page, 'html.parser')\n",
    "            data = soup_page.findAll(\"script\", type=\"application/ld+json\")\n",
    "\n",
    "            reviews = [removeIndent(i.text.lstrip().rstrip()) for i in data]\n",
    "            found = False\n",
    "            for i in reviews:\n",
    "                jsondata_nextpage = json.loads(i)\n",
    "                if 'aggregateRating' in jsondata_nextpage:\n",
    "                    found = True\n",
    "                    break\n",
    "\n",
    "            # If no more reviews are available, the review list will be empty.\n",
    "            if found and jsondata_nextpage['review']:\n",
    "                # Consolidate the new reviews with those already scraped.\n",
    "                jsondata.update({'review': jsondata['review'] + jsondata_nextpage['review']})\n",
    "            else:\n",
    "                # No more reviews.\n",
    "                break\n",
    "\n",
    "            page_counter += 20\n",
    "\n",
    "        except requests.exceptions.HTTPError:\n",
    "            break\n",
    "            \n",
    "    # Save all tehe reviews to file.\n",
    "    json.dump(jsondata, ffile)\n",
    "    ffile.close()"
   ]
  },
  {
   "cell_type": "code",
   "execution_count": null,
   "metadata": {},
   "outputs": [],
   "source": []
  }
 ],
 "metadata": {
  "kernelspec": {
   "display_name": "Python 2",
   "language": "python",
   "name": "python2"
  },
  "language_info": {
   "codemirror_mode": {
    "name": "ipython",
    "version": 2
   },
   "file_extension": ".py",
   "mimetype": "text/x-python",
   "name": "python",
   "nbconvert_exporter": "python",
   "pygments_lexer": "ipython2",
   "version": "2.7.6"
  }
 },
 "nbformat": 4,
 "nbformat_minor": 0
}
