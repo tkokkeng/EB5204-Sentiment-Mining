{
 "cells": [
  {
   "cell_type": "markdown",
   "metadata": {},
   "source": [
    "# # EB5204 New Media & Sentiment Mining - Naive Bayes and SVM Classifier ()"
   ]
  },
  {
   "cell_type": "code",
   "execution_count": 1,
   "metadata": {
    "collapsed": true
   },
   "outputs": [],
   "source": [
    "%matplotlib inline\n",
    "import matplotlib.pyplot as plt\n",
    "import json\n",
    "import os\n",
    "import pandas as pd\n",
    "from nltk.tokenize import word_tokenize\n",
    "from sklearn.model_selection import train_test_split\n",
    "from nltk.classify import NaiveBayesClassifier\n",
    "from sklearn.metrics import confusion_matrix\n",
    "from sklearn.metrics import classification_report\n",
    "import numpy as np\n",
    "import itertools\n",
    "from sklearn.feature_extraction.text import TfidfVectorizer\n",
    "from sklearn.svm import SVC"
   ]
  },
  {
   "cell_type": "markdown",
   "metadata": {},
   "source": [
    "### Load 1 review dataset"
   ]
  },
  {
   "cell_type": "code",
   "execution_count": 2,
   "metadata": {},
   "outputs": [],
   "source": [
    "with open(os.path.join('data', 'yelp_menya-musashi-singapore?start=.json')) as read_file:\n",
    "    reviews = json.load(read_file)"
   ]
  },
  {
   "cell_type": "code",
   "execution_count": 3,
   "metadata": {},
   "outputs": [
    {
     "data": {
      "text/plain": [
       "18"
      ]
     },
     "execution_count": 3,
     "metadata": {},
     "output_type": "execute_result"
    }
   ],
   "source": [
    "len(reviews['review'])"
   ]
  },
  {
   "cell_type": "code",
   "execution_count": 4,
   "metadata": {},
   "outputs": [
    {
     "data": {
      "text/plain": [
       "{'author': 'Conan H.',\n 'datePublished': '2013-01-22',\n 'description': \"Its above average as ramen goes - and a real value meal if you order the tsukemen because you can order up to 5 portions of noodles for the same price. Perfect for the hungry hippo.\\n\\nThe black soup comes recommended. Service is typical Singaporean nonsense.\\n\\nI lived in Tokyo for over a decade and am a purveyor of good ramen. 5 years ago there were only mediocre places. Now you have this, Ippudou and Tonkotsu King. I'd say the latter is one of the best.\",\n 'reviewRating': {'ratingValue': 4}}"
      ]
     },
     "execution_count": 4,
     "metadata": {},
     "output_type": "execute_result"
    }
   ],
   "source": [
    "reviews['review'][0]"
   ]
  },
  {
   "cell_type": "code",
   "execution_count": 5,
   "metadata": {},
   "outputs": [
    {
     "data": {
      "text/plain": [
       "{'@type': 'AggregateRating', 'ratingValue': 3.5, 'reviewCount': 18}"
      ]
     },
     "execution_count": 5,
     "metadata": {},
     "output_type": "execute_result"
    }
   ],
   "source": [
    "reviews['aggregateRating']"
   ]
  },
  {
   "cell_type": "markdown",
   "metadata": {},
   "source": [
    "### Load all the reviews"
   ]
  },
  {
   "cell_type": "code",
   "execution_count": 6,
   "metadata": {},
   "outputs": [
    {
     "name": "stdout",
     "output_type": "stream",
     "text": [
      "yelp_first-thai-food-singapore?start=.json\nyelp_trattoria-lafiandra-singapore-2?start=.json\nyelp_khansama-tandoori-singapore?osq=indian?start=.json\nyelp_zam-zam-restaurant-singapore?osq=indian?start=.json\nyelp_garibaldi-italian-restaurant-and-bar-singapore-2?start=.json\nyelp_yhingthai-palace-singapore-2?start=.json\nyelp_jai-thai-singapore?start=.json\nyelp_el-mero-mero-singapore?start=.json\nyelp_vatos-urban-tacos-singapore?start=.json\nyelp_prego-singapore?start=.json\nyelp_lei-garden-singapore-2?start=.json\nyelp_piedra-negra-singapore?start=.json\nyelp_komala-vilas-restaurant-singapore?osq=indian?start=.json\nyelp_the-curry-cultures-no-title?osq=indian?start=.json\nyelp_osaka-ohsho-singapore?start=.json\nyelp_menya-musashi-singapore?start=.json\nyelp_din-tai-fung-singapore-4?start=.json\nyelp_tim-ho-wan-singapore-7?start=.json\nyelp_caf%C3%A9-iguana-singapore-2?start=.json\nyelp_standing-sushi-bar-singapore?start=.json\n"
     ]
    }
   ],
   "source": [
    "reviews = []\n",
    "for afile in os.listdir('data'):\n",
    "    if os.path.isfile(os.path.join('data', afile)):\n",
    "        print(afile)\n",
    "        with open(os.path.join('data', afile)) as read_file:\n",
    "            reviews.append(json.load(read_file))"
   ]
  },
  {
   "cell_type": "code",
   "execution_count": 7,
   "metadata": {},
   "outputs": [
    {
     "data": {
      "text/plain": [
       "20"
      ]
     },
     "execution_count": 7,
     "metadata": {},
     "output_type": "execute_result"
    }
   ],
   "source": [
    "len(reviews)"
   ]
  },
  {
   "cell_type": "markdown",
   "metadata": {},
   "source": [
    "### Check the total number of reviews"
   ]
  },
  {
   "cell_type": "code",
   "execution_count": 8,
   "metadata": {},
   "outputs": [
    {
     "data": {
      "text/plain": [
       "661"
      ]
     },
     "execution_count": 8,
     "metadata": {},
     "output_type": "execute_result"
    }
   ],
   "source": [
    "total_reviews = sum([ len(i['review']) for i in reviews ])\n",
    "total_reviews"
   ]
  },
  {
   "cell_type": "code",
   "execution_count": 9,
   "metadata": {},
   "outputs": [
    {
     "data": {
      "text/plain": [
       "dict_keys(['aggregateRating', 'review', 'servesCuisine', 'priceRange', 'name', 'address', '@context', 'image', '@type', 'telephone'])"
      ]
     },
     "execution_count": 9,
     "metadata": {},
     "output_type": "execute_result"
    }
   ],
   "source": [
    "reviews[2].keys()"
   ]
  },
  {
   "cell_type": "code",
   "execution_count": 10,
   "metadata": {},
   "outputs": [
    {
     "data": {
      "text/plain": [
       "{'author': 'Maggie C.',\n 'datePublished': '2018-08-20',\n 'description': 'Every dish we got was excellent: vegetable pakora, agra chaat, garlic naan, fish tikka and aloo matter.  Service was quick and attentive.',\n 'reviewRating': {'ratingValue': 4}}"
      ]
     },
     "execution_count": 10,
     "metadata": {},
     "output_type": "execute_result"
    }
   ],
   "source": [
    "reviews[2]['review'][7]"
   ]
  },
  {
   "cell_type": "code",
   "execution_count": 11,
   "metadata": {},
   "outputs": [
    {
     "data": {
      "text/plain": [
       "'Khansama Tandoori'"
      ]
     },
     "execution_count": 11,
     "metadata": {},
     "output_type": "execute_result"
    }
   ],
   "source": [
    "reviews[2]['name']"
   ]
  },
  {
   "cell_type": "code",
   "execution_count": 12,
   "metadata": {},
   "outputs": [
    {
     "data": {
      "text/plain": [
       "'Indian'"
      ]
     },
     "execution_count": 12,
     "metadata": {},
     "output_type": "execute_result"
    }
   ],
   "source": [
    "reviews[2]['servesCuisine']"
   ]
  },
  {
   "cell_type": "markdown",
   "metadata": {},
   "source": [
    "### Put the reviews into a data frame"
   ]
  },
  {
   "cell_type": "code",
   "execution_count": 13,
   "metadata": {},
   "outputs": [
    {
     "data": {
      "text/html": [
       "<div>\n",
       "<style scoped>\n",
       "    .dataframe tbody tr th:only-of-type {\n",
       "        vertical-align: middle;\n",
       "    }\n",
       "\n",
       "    .dataframe tbody tr th {\n",
       "        vertical-align: top;\n",
       "    }\n",
       "\n",
       "    .dataframe thead th {\n",
       "        text-align: right;\n",
       "    }\n",
       "</style>\n",
       "<table border=\"1\" class=\"dataframe\">\n",
       "  <thead>\n",
       "    <tr style=\"text-align: right;\">\n",
       "      <th></th>\n",
       "      <th>author</th>\n",
       "      <th>datePublished</th>\n",
       "      <th>description</th>\n",
       "      <th>reviewRating</th>\n",
       "      <th>name</th>\n",
       "      <th>cuisine</th>\n",
       "    </tr>\n",
       "  </thead>\n",
       "  <tbody>\n",
       "    <tr>\n",
       "      <th>0</th>\n",
       "      <td>Karen W.</td>\n",
       "      <td>2017-02-22</td>\n",
       "      <td>If you love strong flavours, you'll dig the Du...</td>\n",
       "      <td>4</td>\n",
       "      <td>First Thai Food</td>\n",
       "      <td>Thai</td>\n",
       "    </tr>\n",
       "    <tr>\n",
       "      <th>1</th>\n",
       "      <td>Chan L.</td>\n",
       "      <td>2017-11-12</td>\n",
       "      <td>It's a hit or miss here. This time they tried ...</td>\n",
       "      <td>1</td>\n",
       "      <td>First Thai Food</td>\n",
       "      <td>Thai</td>\n",
       "    </tr>\n",
       "    <tr>\n",
       "      <th>2</th>\n",
       "      <td>Max C.</td>\n",
       "      <td>2017-08-03</td>\n",
       "      <td>Total disaster, don't order the duck soup nood...</td>\n",
       "      <td>2</td>\n",
       "      <td>First Thai Food</td>\n",
       "      <td>Thai</td>\n",
       "    </tr>\n",
       "    <tr>\n",
       "      <th>3</th>\n",
       "      <td>Carolyn L.</td>\n",
       "      <td>2014-08-01</td>\n",
       "      <td>The place can get super crowded, especially af...</td>\n",
       "      <td>4</td>\n",
       "      <td>First Thai Food</td>\n",
       "      <td>Thai</td>\n",
       "    </tr>\n",
       "    <tr>\n",
       "      <th>4</th>\n",
       "      <td>Ernie K.</td>\n",
       "      <td>2012-09-27</td>\n",
       "      <td>I simply love this place.  Not the service or ...</td>\n",
       "      <td>4</td>\n",
       "      <td>First Thai Food</td>\n",
       "      <td>Thai</td>\n",
       "    </tr>\n",
       "  </tbody>\n",
       "</table>\n",
       "</div>"
      ],
      "text/plain": [
       "<div>\n",
       "<style scoped>\n",
       "    .dataframe tbody tr th:only-of-type {\n",
       "        vertical-align: middle;\n",
       "    }\n",
       "\n",
       "    .dataframe tbody tr th {\n",
       "        vertical-align: top;\n",
       "    }\n",
       "\n",
       "    .dataframe thead th {\n",
       "        text-align: right;\n",
       "    }\n",
       "</style>\n",
       "<table border=\"1\" class=\"dataframe\">\n",
       "  <thead>\n",
       "    <tr style=\"text-align: right;\">\n",
       "      <th></th>\n",
       "      <th>author</th>\n",
       "      <th>datePublished</th>\n",
       "      <th>description</th>\n",
       "      <th>reviewRating</th>\n",
       "      <th>name</th>\n",
       "      <th>cuisine</th>\n",
       "    </tr>\n",
       "  </thead>\n",
       "  <tbody>\n",
       "    <tr>\n",
       "      <th>0</th>\n",
       "      <td>Karen W.</td>\n",
       "      <td>2017-02-22</td>\n",
       "      <td>If you love strong flavours, you'll dig the Du...</td>\n",
       "      <td>4</td>\n",
       "      <td>First Thai Food</td>\n",
       "      <td>Thai</td>\n",
       "    </tr>\n",
       "    <tr>\n",
       "      <th>1</th>\n",
       "      <td>Chan L.</td>\n",
       "      <td>2017-11-12</td>\n",
       "      <td>It's a hit or miss here. This time they tried ...</td>\n",
       "      <td>1</td>\n",
       "      <td>First Thai Food</td>\n",
       "      <td>Thai</td>\n",
       "    </tr>\n",
       "    <tr>\n",
       "      <th>2</th>\n",
       "      <td>Max C.</td>\n",
       "      <td>2017-08-03</td>\n",
       "      <td>Total disaster, don't order the duck soup nood...</td>\n",
       "      <td>2</td>\n",
       "      <td>First Thai Food</td>\n",
       "      <td>Thai</td>\n",
       "    </tr>\n",
       "    <tr>\n",
       "      <th>3</th>\n",
       "      <td>Carolyn L.</td>\n",
       "      <td>2014-08-01</td>\n",
       "      <td>The place can get super crowded, especially af...</td>\n",
       "      <td>4</td>\n",
       "      <td>First Thai Food</td>\n",
       "      <td>Thai</td>\n",
       "    </tr>\n",
       "    <tr>\n",
       "      <th>4</th>\n",
       "      <td>Ernie K.</td>\n",
       "      <td>2012-09-27</td>\n",
       "      <td>I simply love this place.  Not the service or ...</td>\n",
       "      <td>4</td>\n",
       "      <td>First Thai Food</td>\n",
       "      <td>Thai</td>\n",
       "    </tr>\n",
       "  </tbody>\n",
       "</table>\n",
       "</div>"
      ]
     },
     "execution_count": 13,
     "metadata": {},
     "output_type": "execute_result"
    }
   ],
   "source": [
    "df_list = []\n",
    "for a_restaurant in reviews:\n",
    "    \n",
    "    a_df = pd.DataFrame(a_restaurant['review'])\n",
    "    a_df['reviewRating'] = a_df['reviewRating'].apply(lambda x: x['ratingValue'])\n",
    "    a_df['name'] = a_restaurant['name']\n",
    "    a_df['cuisine'] = a_restaurant['servesCuisine']\n",
    "    df_list.append(a_df)\n",
    "\n",
    "reviews_df = pd.concat(df_list)\n",
    "reviews_df.head()"
   ]
  },
  {
   "cell_type": "code",
   "execution_count": 14,
   "metadata": {},
   "outputs": [],
   "source": [
    "len(reviews_df)"
   ]
  },
  {
   "cell_type": "code",
   "execution_count": 15,
   "metadata": {},
   "outputs": [
    {
     "data": {
      "text/plain": [
       "cuisine\nDim Sum                37\nFrench                 22\nIndian                244\nItalian                30\nJapanese               41\nMexican               142\nRamen                  18\nShanghainese           43\nTapas/Small Plates     40\nThai                   44\ndtype: int64"
      ]
     },
     "execution_count": 15,
     "metadata": {},
     "output_type": "execute_result"
    }
   ],
   "source": [
    "reviews_df.groupby('cuisine').size()"
   ]
  },
  {
   "cell_type": "code",
   "execution_count": 16,
   "metadata": {},
   "outputs": [
    {
     "data": {
      "text/html": [
       "<div>\n",
       "<style scoped>\n",
       "    .dataframe tbody tr th:only-of-type {\n",
       "        vertical-align: middle;\n",
       "    }\n",
       "\n",
       "    .dataframe tbody tr th {\n",
       "        vertical-align: top;\n",
       "    }\n",
       "\n",
       "    .dataframe thead th {\n",
       "        text-align: right;\n",
       "    }\n",
       "</style>\n",
       "<table border=\"1\" class=\"dataframe\">\n",
       "  <thead>\n",
       "    <tr style=\"text-align: right;\">\n",
       "      <th></th>\n",
       "      <th>author</th>\n",
       "      <th>datePublished</th>\n",
       "      <th>description</th>\n",
       "      <th>reviewRating</th>\n",
       "      <th>name</th>\n",
       "      <th>cuisine</th>\n",
       "    </tr>\n",
       "  </thead>\n",
       "  <tbody>\n",
       "    <tr>\n",
       "      <th>0</th>\n",
       "      <td>Kevin W.</td>\n",
       "      <td>2018-05-27</td>\n",
       "      <td>We have been on the hunt for some good Mexican...</td>\n",
       "      <td>4</td>\n",
       "      <td>Café Iguana</td>\n",
       "      <td>Tapas/Small Plates</td>\n",
       "    </tr>\n",
       "    <tr>\n",
       "      <th>1</th>\n",
       "      <td>Ka L.</td>\n",
       "      <td>2018-08-15</td>\n",
       "      <td>Happy hour at Cafe Iguana ($40 for a jug of ma...</td>\n",
       "      <td>3</td>\n",
       "      <td>Café Iguana</td>\n",
       "      <td>Tapas/Small Plates</td>\n",
       "    </tr>\n",
       "    <tr>\n",
       "      <th>2</th>\n",
       "      <td>Robert B.</td>\n",
       "      <td>2017-08-23</td>\n",
       "      <td>Walked by this place from my hotel. Was very c...</td>\n",
       "      <td>5</td>\n",
       "      <td>Café Iguana</td>\n",
       "      <td>Tapas/Small Plates</td>\n",
       "    </tr>\n",
       "    <tr>\n",
       "      <th>3</th>\n",
       "      <td>J P.</td>\n",
       "      <td>2018-08-06</td>\n",
       "      <td>Food is pretty good but it's a touristy area s...</td>\n",
       "      <td>3</td>\n",
       "      <td>Café Iguana</td>\n",
       "      <td>Tapas/Small Plates</td>\n",
       "    </tr>\n",
       "    <tr>\n",
       "      <th>4</th>\n",
       "      <td>Yonji H.</td>\n",
       "      <td>2017-02-25</td>\n",
       "      <td>I like it. The food is good, the atmosphere is...</td>\n",
       "      <td>5</td>\n",
       "      <td>Café Iguana</td>\n",
       "      <td>Tapas/Small Plates</td>\n",
       "    </tr>\n",
       "    <tr>\n",
       "      <th>5</th>\n",
       "      <td>Gaurav B.</td>\n",
       "      <td>2017-10-01</td>\n",
       "      <td>Very good \\n food and service. Would definitel...</td>\n",
       "      <td>4</td>\n",
       "      <td>Café Iguana</td>\n",
       "      <td>Tapas/Small Plates</td>\n",
       "    </tr>\n",
       "    <tr>\n",
       "      <th>6</th>\n",
       "      <td>Li T.</td>\n",
       "      <td>2015-06-17</td>\n",
       "      <td>With a good selection of Mexican special cockt...</td>\n",
       "      <td>3</td>\n",
       "      <td>Café Iguana</td>\n",
       "      <td>Tapas/Small Plates</td>\n",
       "    </tr>\n",
       "    <tr>\n",
       "      <th>7</th>\n",
       "      <td>Jeannie L.</td>\n",
       "      <td>2015-09-17</td>\n",
       "      <td>Touristy spot serving barely edible tex-mex.\\n...</td>\n",
       "      <td>2</td>\n",
       "      <td>Café Iguana</td>\n",
       "      <td>Tapas/Small Plates</td>\n",
       "    </tr>\n",
       "    <tr>\n",
       "      <th>8</th>\n",
       "      <td>Sam K.</td>\n",
       "      <td>2017-04-20</td>\n",
       "      <td>This was awesome! The food was great! Customer...</td>\n",
       "      <td>5</td>\n",
       "      <td>Café Iguana</td>\n",
       "      <td>Tapas/Small Plates</td>\n",
       "    </tr>\n",
       "    <tr>\n",
       "      <th>9</th>\n",
       "      <td>Troy E.</td>\n",
       "      <td>2015-11-07</td>\n",
       "      <td>This trip was my second to Cafe Iguana and my ...</td>\n",
       "      <td>4</td>\n",
       "      <td>Café Iguana</td>\n",
       "      <td>Tapas/Small Plates</td>\n",
       "    </tr>\n",
       "    <tr>\n",
       "      <th>10</th>\n",
       "      <td>Ethan P.</td>\n",
       "      <td>2017-02-21</td>\n",
       "      <td>One of my favorite Mexican restaurants in Sing...</td>\n",
       "      <td>5</td>\n",
       "      <td>Café Iguana</td>\n",
       "      <td>Tapas/Small Plates</td>\n",
       "    </tr>\n",
       "    <tr>\n",
       "      <th>11</th>\n",
       "      <td>Sing K.</td>\n",
       "      <td>2016-08-22</td>\n",
       "      <td>New menu and none the better. The margaritas a...</td>\n",
       "      <td>2</td>\n",
       "      <td>Café Iguana</td>\n",
       "      <td>Tapas/Small Plates</td>\n",
       "    </tr>\n",
       "    <tr>\n",
       "      <th>12</th>\n",
       "      <td>Wayne M.</td>\n",
       "      <td>2016-07-31</td>\n",
       "      <td>My wife and I eat here all the time, its consi...</td>\n",
       "      <td>5</td>\n",
       "      <td>Café Iguana</td>\n",
       "      <td>Tapas/Small Plates</td>\n",
       "    </tr>\n",
       "    <tr>\n",
       "      <th>13</th>\n",
       "      <td>Hildegunn N.</td>\n",
       "      <td>2015-06-06</td>\n",
       "      <td>Since we only had a few drinks, I cannot provi...</td>\n",
       "      <td>3</td>\n",
       "      <td>Café Iguana</td>\n",
       "      <td>Tapas/Small Plates</td>\n",
       "    </tr>\n",
       "    <tr>\n",
       "      <th>14</th>\n",
       "      <td>Gale D.</td>\n",
       "      <td>2016-01-22</td>\n",
       "      <td>Visiting on business from California. Found a ...</td>\n",
       "      <td>5</td>\n",
       "      <td>Café Iguana</td>\n",
       "      <td>Tapas/Small Plates</td>\n",
       "    </tr>\n",
       "    <tr>\n",
       "      <th>15</th>\n",
       "      <td>Amanat A.</td>\n",
       "      <td>2017-06-15</td>\n",
       "      <td>I had the jalapeño poppers and veggie tacos - ...</td>\n",
       "      <td>2</td>\n",
       "      <td>Café Iguana</td>\n",
       "      <td>Tapas/Small Plates</td>\n",
       "    </tr>\n",
       "    <tr>\n",
       "      <th>16</th>\n",
       "      <td>Genevieve H.</td>\n",
       "      <td>2015-09-05</td>\n",
       "      <td>An easy option if you're seeking Mexican food ...</td>\n",
       "      <td>3</td>\n",
       "      <td>Café Iguana</td>\n",
       "      <td>Tapas/Small Plates</td>\n",
       "    </tr>\n",
       "    <tr>\n",
       "      <th>17</th>\n",
       "      <td>Jennifer B.</td>\n",
       "      <td>2014-10-08</td>\n",
       "      <td>Okay, Okay, I know I'm in Asia and I shouldn't...</td>\n",
       "      <td>1</td>\n",
       "      <td>Café Iguana</td>\n",
       "      <td>Tapas/Small Plates</td>\n",
       "    </tr>\n",
       "    <tr>\n",
       "      <th>18</th>\n",
       "      <td>Raymond L.</td>\n",
       "      <td>2012-08-08</td>\n",
       "      <td>I'll just reiterate what others have said: get...</td>\n",
       "      <td>4</td>\n",
       "      <td>Café Iguana</td>\n",
       "      <td>Tapas/Small Plates</td>\n",
       "    </tr>\n",
       "    <tr>\n",
       "      <th>19</th>\n",
       "      <td>Logan V.</td>\n",
       "      <td>2015-11-01</td>\n",
       "      <td>As far as service goes it's consistently some ...</td>\n",
       "      <td>5</td>\n",
       "      <td>Café Iguana</td>\n",
       "      <td>Tapas/Small Plates</td>\n",
       "    </tr>\n",
       "    <tr>\n",
       "      <th>20</th>\n",
       "      <td>Augustine S.</td>\n",
       "      <td>2012-08-27</td>\n",
       "      <td>It's not easy to find good Mexican food in Sin...</td>\n",
       "      <td>3</td>\n",
       "      <td>Café Iguana</td>\n",
       "      <td>Tapas/Small Plates</td>\n",
       "    </tr>\n",
       "    <tr>\n",
       "      <th>21</th>\n",
       "      <td>Ben L.</td>\n",
       "      <td>2014-05-05</td>\n",
       "      <td>Bottomless chips and salsa, no extra charges (...</td>\n",
       "      <td>3</td>\n",
       "      <td>Café Iguana</td>\n",
       "      <td>Tapas/Small Plates</td>\n",
       "    </tr>\n",
       "    <tr>\n",
       "      <th>22</th>\n",
       "      <td>Ping L.</td>\n",
       "      <td>2013-12-14</td>\n",
       "      <td>I don't know my drinks very well so this revie...</td>\n",
       "      <td>4</td>\n",
       "      <td>Café Iguana</td>\n",
       "      <td>Tapas/Small Plates</td>\n",
       "    </tr>\n",
       "    <tr>\n",
       "      <th>23</th>\n",
       "      <td>Steve A.</td>\n",
       "      <td>2012-07-26</td>\n",
       "      <td>Have always been a fan of this place. I first ...</td>\n",
       "      <td>5</td>\n",
       "      <td>Café Iguana</td>\n",
       "      <td>Tapas/Small Plates</td>\n",
       "    </tr>\n",
       "    <tr>\n",
       "      <th>24</th>\n",
       "      <td>Amanda L.</td>\n",
       "      <td>2013-01-08</td>\n",
       "      <td>Might have taken a munch or two out of my frie...</td>\n",
       "      <td>3</td>\n",
       "      <td>Café Iguana</td>\n",
       "      <td>Tapas/Small Plates</td>\n",
       "    </tr>\n",
       "    <tr>\n",
       "      <th>25</th>\n",
       "      <td>Gigi H.</td>\n",
       "      <td>2016-09-11</td>\n",
       "      <td>This is as close to Real Tex Mex  as I have fo...</td>\n",
       "      <td>5</td>\n",
       "      <td>Café Iguana</td>\n",
       "      <td>Tapas/Small Plates</td>\n",
       "    </tr>\n",
       "    <tr>\n",
       "      <th>26</th>\n",
       "      <td>T J.</td>\n",
       "      <td>2014-09-12</td>\n",
       "      <td>As good a Mexican as you can get in Singapore....</td>\n",
       "      <td>4</td>\n",
       "      <td>Café Iguana</td>\n",
       "      <td>Tapas/Small Plates</td>\n",
       "    </tr>\n",
       "    <tr>\n",
       "      <th>27</th>\n",
       "      <td>Lala T.</td>\n",
       "      <td>2015-01-11</td>\n",
       "      <td>Had dinner with 8 ppl last night, it was sunda...</td>\n",
       "      <td>3</td>\n",
       "      <td>Café Iguana</td>\n",
       "      <td>Tapas/Small Plates</td>\n",
       "    </tr>\n",
       "    <tr>\n",
       "      <th>28</th>\n",
       "      <td>Jill B.</td>\n",
       "      <td>2015-01-31</td>\n",
       "      <td>Amazing fajitas,  great nachos, wonderful marg...</td>\n",
       "      <td>5</td>\n",
       "      <td>Café Iguana</td>\n",
       "      <td>Tapas/Small Plates</td>\n",
       "    </tr>\n",
       "    <tr>\n",
       "      <th>29</th>\n",
       "      <td>Adrianna T.</td>\n",
       "      <td>2012-08-08</td>\n",
       "      <td>I've been coming here for years since the days...</td>\n",
       "      <td>4</td>\n",
       "      <td>Café Iguana</td>\n",
       "      <td>Tapas/Small Plates</td>\n",
       "    </tr>\n",
       "    <tr>\n",
       "      <th>30</th>\n",
       "      <td>Antoinette H.</td>\n",
       "      <td>2014-09-27</td>\n",
       "      <td>I have been visiting Café Iguana for several y...</td>\n",
       "      <td>5</td>\n",
       "      <td>Café Iguana</td>\n",
       "      <td>Tapas/Small Plates</td>\n",
       "    </tr>\n",
       "    <tr>\n",
       "      <th>31</th>\n",
       "      <td>Jac S.</td>\n",
       "      <td>2012-07-22</td>\n",
       "      <td>Cafe Iguana is run by the same folks at Brewer...</td>\n",
       "      <td>3</td>\n",
       "      <td>Café Iguana</td>\n",
       "      <td>Tapas/Small Plates</td>\n",
       "    </tr>\n",
       "    <tr>\n",
       "      <th>32</th>\n",
       "      <td>ChewLin K.</td>\n",
       "      <td>2012-08-08</td>\n",
       "      <td>Don't mind me, I'm only here for the guac\\n\\nC...</td>\n",
       "      <td>4</td>\n",
       "      <td>Café Iguana</td>\n",
       "      <td>Tapas/Small Plates</td>\n",
       "    </tr>\n",
       "    <tr>\n",
       "      <th>33</th>\n",
       "      <td>John Q.</td>\n",
       "      <td>2013-12-16</td>\n",
       "      <td>Chips and salsa are served at your table. The ...</td>\n",
       "      <td>3</td>\n",
       "      <td>Café Iguana</td>\n",
       "      <td>Tapas/Small Plates</td>\n",
       "    </tr>\n",
       "    <tr>\n",
       "      <th>34</th>\n",
       "      <td>Mathias G.</td>\n",
       "      <td>2013-11-28</td>\n",
       "      <td>Nice mexican Restaurant in Clarke Quay and a s...</td>\n",
       "      <td>4</td>\n",
       "      <td>Café Iguana</td>\n",
       "      <td>Tapas/Small Plates</td>\n",
       "    </tr>\n",
       "    <tr>\n",
       "      <th>35</th>\n",
       "      <td>Christine L.</td>\n",
       "      <td>2014-06-01</td>\n",
       "      <td>I'm a Texan and the food itself at Cafe Iguana...</td>\n",
       "      <td>4</td>\n",
       "      <td>Café Iguana</td>\n",
       "      <td>Tapas/Small Plates</td>\n",
       "    </tr>\n",
       "    <tr>\n",
       "      <th>36</th>\n",
       "      <td>Julian C.</td>\n",
       "      <td>2013-02-02</td>\n",
       "      <td>This place is one of my favourite places to ge...</td>\n",
       "      <td>4</td>\n",
       "      <td>Café Iguana</td>\n",
       "      <td>Tapas/Small Plates</td>\n",
       "    </tr>\n",
       "    <tr>\n",
       "      <th>37</th>\n",
       "      <td>John S.</td>\n",
       "      <td>2013-09-14</td>\n",
       "      <td>When an American expat needs fajitas, there ar...</td>\n",
       "      <td>4</td>\n",
       "      <td>Café Iguana</td>\n",
       "      <td>Tapas/Small Plates</td>\n",
       "    </tr>\n",
       "    <tr>\n",
       "      <th>38</th>\n",
       "      <td>R C.</td>\n",
       "      <td>2013-05-07</td>\n",
       "      <td>I always get the Borracho Bean Dip here. All o...</td>\n",
       "      <td>4</td>\n",
       "      <td>Café Iguana</td>\n",
       "      <td>Tapas/Small Plates</td>\n",
       "    </tr>\n",
       "    <tr>\n",
       "      <th>39</th>\n",
       "      <td>jeff l.</td>\n",
       "      <td>2012-10-07</td>\n",
       "      <td>not good mexican food.  soggy chips, bland fla...</td>\n",
       "      <td>2</td>\n",
       "      <td>Café Iguana</td>\n",
       "      <td>Tapas/Small Plates</td>\n",
       "    </tr>\n",
       "  </tbody>\n",
       "</table>\n",
       "</div>"
      ],
      "text/plain": [
       "<div>\n",
       "<style scoped>\n",
       "    .dataframe tbody tr th:only-of-type {\n",
       "        vertical-align: middle;\n",
       "    }\n",
       "\n",
       "    .dataframe tbody tr th {\n",
       "        vertical-align: top;\n",
       "    }\n",
       "\n",
       "    .dataframe thead th {\n",
       "        text-align: right;\n",
       "    }\n",
       "</style>\n",
       "<table border=\"1\" class=\"dataframe\">\n",
       "  <thead>\n",
       "    <tr style=\"text-align: right;\">\n",
       "      <th></th>\n",
       "      <th>author</th>\n",
       "      <th>datePublished</th>\n",
       "      <th>description</th>\n",
       "      <th>reviewRating</th>\n",
       "      <th>name</th>\n",
       "      <th>cuisine</th>\n",
       "    </tr>\n",
       "  </thead>\n",
       "  <tbody>\n",
       "    <tr>\n",
       "      <th>0</th>\n",
       "      <td>Kevin W.</td>\n",
       "      <td>2018-05-27</td>\n",
       "      <td>We have been on the hunt for some good Mexican...</td>\n",
       "      <td>4</td>\n",
       "      <td>Café Iguana</td>\n",
       "      <td>Tapas/Small Plates</td>\n",
       "    </tr>\n",
       "    <tr>\n",
       "      <th>1</th>\n",
       "      <td>Ka L.</td>\n",
       "      <td>2018-08-15</td>\n",
       "      <td>Happy hour at Cafe Iguana ($40 for a jug of ma...</td>\n",
       "      <td>3</td>\n",
       "      <td>Café Iguana</td>\n",
       "      <td>Tapas/Small Plates</td>\n",
       "    </tr>\n",
       "    <tr>\n",
       "      <th>2</th>\n",
       "      <td>Robert B.</td>\n",
       "      <td>2017-08-23</td>\n",
       "      <td>Walked by this place from my hotel. Was very c...</td>\n",
       "      <td>5</td>\n",
       "      <td>Café Iguana</td>\n",
       "      <td>Tapas/Small Plates</td>\n",
       "    </tr>\n",
       "    <tr>\n",
       "      <th>3</th>\n",
       "      <td>J P.</td>\n",
       "      <td>2018-08-06</td>\n",
       "      <td>Food is pretty good but it's a touristy area s...</td>\n",
       "      <td>3</td>\n",
       "      <td>Café Iguana</td>\n",
       "      <td>Tapas/Small Plates</td>\n",
       "    </tr>\n",
       "    <tr>\n",
       "      <th>4</th>\n",
       "      <td>Yonji H.</td>\n",
       "      <td>2017-02-25</td>\n",
       "      <td>I like it. The food is good, the atmosphere is...</td>\n",
       "      <td>5</td>\n",
       "      <td>Café Iguana</td>\n",
       "      <td>Tapas/Small Plates</td>\n",
       "    </tr>\n",
       "    <tr>\n",
       "      <th>5</th>\n",
       "      <td>Gaurav B.</td>\n",
       "      <td>2017-10-01</td>\n",
       "      <td>Very good \\n food and service. Would definitel...</td>\n",
       "      <td>4</td>\n",
       "      <td>Café Iguana</td>\n",
       "      <td>Tapas/Small Plates</td>\n",
       "    </tr>\n",
       "    <tr>\n",
       "      <th>6</th>\n",
       "      <td>Li T.</td>\n",
       "      <td>2015-06-17</td>\n",
       "      <td>With a good selection of Mexican special cockt...</td>\n",
       "      <td>3</td>\n",
       "      <td>Café Iguana</td>\n",
       "      <td>Tapas/Small Plates</td>\n",
       "    </tr>\n",
       "    <tr>\n",
       "      <th>7</th>\n",
       "      <td>Jeannie L.</td>\n",
       "      <td>2015-09-17</td>\n",
       "      <td>Touristy spot serving barely edible tex-mex.\\n...</td>\n",
       "      <td>2</td>\n",
       "      <td>Café Iguana</td>\n",
       "      <td>Tapas/Small Plates</td>\n",
       "    </tr>\n",
       "    <tr>\n",
       "      <th>8</th>\n",
       "      <td>Sam K.</td>\n",
       "      <td>2017-04-20</td>\n",
       "      <td>This was awesome! The food was great! Customer...</td>\n",
       "      <td>5</td>\n",
       "      <td>Café Iguana</td>\n",
       "      <td>Tapas/Small Plates</td>\n",
       "    </tr>\n",
       "    <tr>\n",
       "      <th>9</th>\n",
       "      <td>Troy E.</td>\n",
       "      <td>2015-11-07</td>\n",
       "      <td>This trip was my second to Cafe Iguana and my ...</td>\n",
       "      <td>4</td>\n",
       "      <td>Café Iguana</td>\n",
       "      <td>Tapas/Small Plates</td>\n",
       "    </tr>\n",
       "    <tr>\n",
       "      <th>10</th>\n",
       "      <td>Ethan P.</td>\n",
       "      <td>2017-02-21</td>\n",
       "      <td>One of my favorite Mexican restaurants in Sing...</td>\n",
       "      <td>5</td>\n",
       "      <td>Café Iguana</td>\n",
       "      <td>Tapas/Small Plates</td>\n",
       "    </tr>\n",
       "    <tr>\n",
       "      <th>11</th>\n",
       "      <td>Sing K.</td>\n",
       "      <td>2016-08-22</td>\n",
       "      <td>New menu and none the better. The margaritas a...</td>\n",
       "      <td>2</td>\n",
       "      <td>Café Iguana</td>\n",
       "      <td>Tapas/Small Plates</td>\n",
       "    </tr>\n",
       "    <tr>\n",
       "      <th>12</th>\n",
       "      <td>Wayne M.</td>\n",
       "      <td>2016-07-31</td>\n",
       "      <td>My wife and I eat here all the time, its consi...</td>\n",
       "      <td>5</td>\n",
       "      <td>Café Iguana</td>\n",
       "      <td>Tapas/Small Plates</td>\n",
       "    </tr>\n",
       "    <tr>\n",
       "      <th>13</th>\n",
       "      <td>Hildegunn N.</td>\n",
       "      <td>2015-06-06</td>\n",
       "      <td>Since we only had a few drinks, I cannot provi...</td>\n",
       "      <td>3</td>\n",
       "      <td>Café Iguana</td>\n",
       "      <td>Tapas/Small Plates</td>\n",
       "    </tr>\n",
       "    <tr>\n",
       "      <th>14</th>\n",
       "      <td>Gale D.</td>\n",
       "      <td>2016-01-22</td>\n",
       "      <td>Visiting on business from California. Found a ...</td>\n",
       "      <td>5</td>\n",
       "      <td>Café Iguana</td>\n",
       "      <td>Tapas/Small Plates</td>\n",
       "    </tr>\n",
       "    <tr>\n",
       "      <th>15</th>\n",
       "      <td>Amanat A.</td>\n",
       "      <td>2017-06-15</td>\n",
       "      <td>I had the jalapeño poppers and veggie tacos - ...</td>\n",
       "      <td>2</td>\n",
       "      <td>Café Iguana</td>\n",
       "      <td>Tapas/Small Plates</td>\n",
       "    </tr>\n",
       "    <tr>\n",
       "      <th>16</th>\n",
       "      <td>Genevieve H.</td>\n",
       "      <td>2015-09-05</td>\n",
       "      <td>An easy option if you're seeking Mexican food ...</td>\n",
       "      <td>3</td>\n",
       "      <td>Café Iguana</td>\n",
       "      <td>Tapas/Small Plates</td>\n",
       "    </tr>\n",
       "    <tr>\n",
       "      <th>17</th>\n",
       "      <td>Jennifer B.</td>\n",
       "      <td>2014-10-08</td>\n",
       "      <td>Okay, Okay, I know I'm in Asia and I shouldn't...</td>\n",
       "      <td>1</td>\n",
       "      <td>Café Iguana</td>\n",
       "      <td>Tapas/Small Plates</td>\n",
       "    </tr>\n",
       "    <tr>\n",
       "      <th>18</th>\n",
       "      <td>Raymond L.</td>\n",
       "      <td>2012-08-08</td>\n",
       "      <td>I'll just reiterate what others have said: get...</td>\n",
       "      <td>4</td>\n",
       "      <td>Café Iguana</td>\n",
       "      <td>Tapas/Small Plates</td>\n",
       "    </tr>\n",
       "    <tr>\n",
       "      <th>19</th>\n",
       "      <td>Logan V.</td>\n",
       "      <td>2015-11-01</td>\n",
       "      <td>As far as service goes it's consistently some ...</td>\n",
       "      <td>5</td>\n",
       "      <td>Café Iguana</td>\n",
       "      <td>Tapas/Small Plates</td>\n",
       "    </tr>\n",
       "    <tr>\n",
       "      <th>20</th>\n",
       "      <td>Augustine S.</td>\n",
       "      <td>2012-08-27</td>\n",
       "      <td>It's not easy to find good Mexican food in Sin...</td>\n",
       "      <td>3</td>\n",
       "      <td>Café Iguana</td>\n",
       "      <td>Tapas/Small Plates</td>\n",
       "    </tr>\n",
       "    <tr>\n",
       "      <th>21</th>\n",
       "      <td>Ben L.</td>\n",
       "      <td>2014-05-05</td>\n",
       "      <td>Bottomless chips and salsa, no extra charges (...</td>\n",
       "      <td>3</td>\n",
       "      <td>Café Iguana</td>\n",
       "      <td>Tapas/Small Plates</td>\n",
       "    </tr>\n",
       "    <tr>\n",
       "      <th>22</th>\n",
       "      <td>Ping L.</td>\n",
       "      <td>2013-12-14</td>\n",
       "      <td>I don't know my drinks very well so this revie...</td>\n",
       "      <td>4</td>\n",
       "      <td>Café Iguana</td>\n",
       "      <td>Tapas/Small Plates</td>\n",
       "    </tr>\n",
       "    <tr>\n",
       "      <th>23</th>\n",
       "      <td>Steve A.</td>\n",
       "      <td>2012-07-26</td>\n",
       "      <td>Have always been a fan of this place. I first ...</td>\n",
       "      <td>5</td>\n",
       "      <td>Café Iguana</td>\n",
       "      <td>Tapas/Small Plates</td>\n",
       "    </tr>\n",
       "    <tr>\n",
       "      <th>24</th>\n",
       "      <td>Amanda L.</td>\n",
       "      <td>2013-01-08</td>\n",
       "      <td>Might have taken a munch or two out of my frie...</td>\n",
       "      <td>3</td>\n",
       "      <td>Café Iguana</td>\n",
       "      <td>Tapas/Small Plates</td>\n",
       "    </tr>\n",
       "    <tr>\n",
       "      <th>25</th>\n",
       "      <td>Gigi H.</td>\n",
       "      <td>2016-09-11</td>\n",
       "      <td>This is as close to Real Tex Mex  as I have fo...</td>\n",
       "      <td>5</td>\n",
       "      <td>Café Iguana</td>\n",
       "      <td>Tapas/Small Plates</td>\n",
       "    </tr>\n",
       "    <tr>\n",
       "      <th>26</th>\n",
       "      <td>T J.</td>\n",
       "      <td>2014-09-12</td>\n",
       "      <td>As good a Mexican as you can get in Singapore....</td>\n",
       "      <td>4</td>\n",
       "      <td>Café Iguana</td>\n",
       "      <td>Tapas/Small Plates</td>\n",
       "    </tr>\n",
       "    <tr>\n",
       "      <th>27</th>\n",
       "      <td>Lala T.</td>\n",
       "      <td>2015-01-11</td>\n",
       "      <td>Had dinner with 8 ppl last night, it was sunda...</td>\n",
       "      <td>3</td>\n",
       "      <td>Café Iguana</td>\n",
       "      <td>Tapas/Small Plates</td>\n",
       "    </tr>\n",
       "    <tr>\n",
       "      <th>28</th>\n",
       "      <td>Jill B.</td>\n",
       "      <td>2015-01-31</td>\n",
       "      <td>Amazing fajitas,  great nachos, wonderful marg...</td>\n",
       "      <td>5</td>\n",
       "      <td>Café Iguana</td>\n",
       "      <td>Tapas/Small Plates</td>\n",
       "    </tr>\n",
       "    <tr>\n",
       "      <th>29</th>\n",
       "      <td>Adrianna T.</td>\n",
       "      <td>2012-08-08</td>\n",
       "      <td>I've been coming here for years since the days...</td>\n",
       "      <td>4</td>\n",
       "      <td>Café Iguana</td>\n",
       "      <td>Tapas/Small Plates</td>\n",
       "    </tr>\n",
       "    <tr>\n",
       "      <th>30</th>\n",
       "      <td>Antoinette H.</td>\n",
       "      <td>2014-09-27</td>\n",
       "      <td>I have been visiting Café Iguana for several y...</td>\n",
       "      <td>5</td>\n",
       "      <td>Café Iguana</td>\n",
       "      <td>Tapas/Small Plates</td>\n",
       "    </tr>\n",
       "    <tr>\n",
       "      <th>31</th>\n",
       "      <td>Jac S.</td>\n",
       "      <td>2012-07-22</td>\n",
       "      <td>Cafe Iguana is run by the same folks at Brewer...</td>\n",
       "      <td>3</td>\n",
       "      <td>Café Iguana</td>\n",
       "      <td>Tapas/Small Plates</td>\n",
       "    </tr>\n",
       "    <tr>\n",
       "      <th>32</th>\n",
       "      <td>ChewLin K.</td>\n",
       "      <td>2012-08-08</td>\n",
       "      <td>Don't mind me, I'm only here for the guac\\n\\nC...</td>\n",
       "      <td>4</td>\n",
       "      <td>Café Iguana</td>\n",
       "      <td>Tapas/Small Plates</td>\n",
       "    </tr>\n",
       "    <tr>\n",
       "      <th>33</th>\n",
       "      <td>John Q.</td>\n",
       "      <td>2013-12-16</td>\n",
       "      <td>Chips and salsa are served at your table. The ...</td>\n",
       "      <td>3</td>\n",
       "      <td>Café Iguana</td>\n",
       "      <td>Tapas/Small Plates</td>\n",
       "    </tr>\n",
       "    <tr>\n",
       "      <th>34</th>\n",
       "      <td>Mathias G.</td>\n",
       "      <td>2013-11-28</td>\n",
       "      <td>Nice mexican Restaurant in Clarke Quay and a s...</td>\n",
       "      <td>4</td>\n",
       "      <td>Café Iguana</td>\n",
       "      <td>Tapas/Small Plates</td>\n",
       "    </tr>\n",
       "    <tr>\n",
       "      <th>35</th>\n",
       "      <td>Christine L.</td>\n",
       "      <td>2014-06-01</td>\n",
       "      <td>I'm a Texan and the food itself at Cafe Iguana...</td>\n",
       "      <td>4</td>\n",
       "      <td>Café Iguana</td>\n",
       "      <td>Tapas/Small Plates</td>\n",
       "    </tr>\n",
       "    <tr>\n",
       "      <th>36</th>\n",
       "      <td>Julian C.</td>\n",
       "      <td>2013-02-02</td>\n",
       "      <td>This place is one of my favourite places to ge...</td>\n",
       "      <td>4</td>\n",
       "      <td>Café Iguana</td>\n",
       "      <td>Tapas/Small Plates</td>\n",
       "    </tr>\n",
       "    <tr>\n",
       "      <th>37</th>\n",
       "      <td>John S.</td>\n",
       "      <td>2013-09-14</td>\n",
       "      <td>When an American expat needs fajitas, there ar...</td>\n",
       "      <td>4</td>\n",
       "      <td>Café Iguana</td>\n",
       "      <td>Tapas/Small Plates</td>\n",
       "    </tr>\n",
       "    <tr>\n",
       "      <th>38</th>\n",
       "      <td>R C.</td>\n",
       "      <td>2013-05-07</td>\n",
       "      <td>I always get the Borracho Bean Dip here. All o...</td>\n",
       "      <td>4</td>\n",
       "      <td>Café Iguana</td>\n",
       "      <td>Tapas/Small Plates</td>\n",
       "    </tr>\n",
       "    <tr>\n",
       "      <th>39</th>\n",
       "      <td>jeff l.</td>\n",
       "      <td>2012-10-07</td>\n",
       "      <td>not good mexican food.  soggy chips, bland fla...</td>\n",
       "      <td>2</td>\n",
       "      <td>Café Iguana</td>\n",
       "      <td>Tapas/Small Plates</td>\n",
       "    </tr>\n",
       "  </tbody>\n",
       "</table>\n",
       "</div>"
      ]
     },
     "execution_count": 16,
     "metadata": {},
     "output_type": "execute_result"
    }
   ],
   "source": [
    "reviews_df[reviews_df['cuisine'].str.contains('Tapas')]"
   ]
  },
  {
   "cell_type": "code",
   "execution_count": 17,
   "metadata": {},
   "outputs": [],
   "source": [
    "reviews_df.loc[reviews_df['cuisine'].str.contains('Tapas'), 'cuisine'] = 'Mexican'"
   ]
  },
  {
   "cell_type": "code",
   "execution_count": 18,
   "metadata": {},
   "outputs": [
    {
     "data": {
      "text/plain": [
       "cuisine\nDim Sum          37\nFrench           22\nIndian          244\nItalian          30\nJapanese         41\nMexican         182\nRamen            18\nShanghainese     43\nThai             44\ndtype: int64"
      ]
     },
     "execution_count": 18,
     "metadata": {},
     "output_type": "execute_result"
    }
   ],
   "source": [
    "reviews_df.groupby('cuisine').size()"
   ]
  },
  {
   "cell_type": "code",
   "execution_count": 19,
   "metadata": {},
   "outputs": [],
   "source": [
    "reviews_df.loc[reviews_df['cuisine'].str.contains('Ramen'), 'cuisine'] = 'Japanese'\n",
    "reviews_df.loc[reviews_df['cuisine'].str.contains('Shanghainese'), 'cuisine'] = 'Chinese'\n",
    "reviews_df.loc[reviews_df['cuisine'].str.contains('Dim Sum'), 'cuisine'] = 'Chinese'"
   ]
  },
  {
   "cell_type": "code",
   "execution_count": 20,
   "metadata": {},
   "outputs": [
    {
     "data": {
      "text/plain": [
       "cuisine\nChinese      80\nFrench       22\nIndian      244\nItalian      30\nJapanese     59\nMexican     182\nThai         44\ndtype: int64"
      ]
     },
     "execution_count": 20,
     "metadata": {},
     "output_type": "execute_result"
    }
   ],
   "source": [
    "reviews_df.groupby('cuisine').size()"
   ]
  },
  {
   "cell_type": "markdown",
   "metadata": {},
   "source": [
    "### Convert the ratings to positive and negative"
   ]
  },
  {
   "cell_type": "code",
   "execution_count": 21,
   "metadata": {},
   "outputs": [
    {
     "data": {
      "text/html": [
       "<div>\n",
       "<style scoped>\n",
       "    .dataframe tbody tr th:only-of-type {\n",
       "        vertical-align: middle;\n",
       "    }\n",
       "\n",
       "    .dataframe tbody tr th {\n",
       "        vertical-align: top;\n",
       "    }\n",
       "\n",
       "    .dataframe thead th {\n",
       "        text-align: right;\n",
       "    }\n",
       "</style>\n",
       "<table border=\"1\" class=\"dataframe\">\n",
       "  <thead>\n",
       "    <tr style=\"text-align: right;\">\n",
       "      <th></th>\n",
       "      <th>author</th>\n",
       "      <th>datePublished</th>\n",
       "      <th>description</th>\n",
       "      <th>reviewRating</th>\n",
       "      <th>name</th>\n",
       "      <th>cuisine</th>\n",
       "      <th>PosNeg</th>\n",
       "    </tr>\n",
       "  </thead>\n",
       "  <tbody>\n",
       "    <tr>\n",
       "      <th>0</th>\n",
       "      <td>Karen W.</td>\n",
       "      <td>2017-02-22</td>\n",
       "      <td>If you love strong flavours, you'll dig the Du...</td>\n",
       "      <td>4</td>\n",
       "      <td>First Thai Food</td>\n",
       "      <td>Thai</td>\n",
       "      <td>1</td>\n",
       "    </tr>\n",
       "    <tr>\n",
       "      <th>1</th>\n",
       "      <td>Chan L.</td>\n",
       "      <td>2017-11-12</td>\n",
       "      <td>It's a hit or miss here. This time they tried ...</td>\n",
       "      <td>1</td>\n",
       "      <td>First Thai Food</td>\n",
       "      <td>Thai</td>\n",
       "      <td>-1</td>\n",
       "    </tr>\n",
       "    <tr>\n",
       "      <th>2</th>\n",
       "      <td>Max C.</td>\n",
       "      <td>2017-08-03</td>\n",
       "      <td>Total disaster, don't order the duck soup nood...</td>\n",
       "      <td>2</td>\n",
       "      <td>First Thai Food</td>\n",
       "      <td>Thai</td>\n",
       "      <td>-1</td>\n",
       "    </tr>\n",
       "    <tr>\n",
       "      <th>3</th>\n",
       "      <td>Carolyn L.</td>\n",
       "      <td>2014-08-01</td>\n",
       "      <td>The place can get super crowded, especially af...</td>\n",
       "      <td>4</td>\n",
       "      <td>First Thai Food</td>\n",
       "      <td>Thai</td>\n",
       "      <td>1</td>\n",
       "    </tr>\n",
       "    <tr>\n",
       "      <th>4</th>\n",
       "      <td>Ernie K.</td>\n",
       "      <td>2012-09-27</td>\n",
       "      <td>I simply love this place.  Not the service or ...</td>\n",
       "      <td>4</td>\n",
       "      <td>First Thai Food</td>\n",
       "      <td>Thai</td>\n",
       "      <td>1</td>\n",
       "    </tr>\n",
       "  </tbody>\n",
       "</table>\n",
       "</div>"
      ],
      "text/plain": [
       "<div>\n",
       "<style scoped>\n",
       "    .dataframe tbody tr th:only-of-type {\n",
       "        vertical-align: middle;\n",
       "    }\n",
       "\n",
       "    .dataframe tbody tr th {\n",
       "        vertical-align: top;\n",
       "    }\n",
       "\n",
       "    .dataframe thead th {\n",
       "        text-align: right;\n",
       "    }\n",
       "</style>\n",
       "<table border=\"1\" class=\"dataframe\">\n",
       "  <thead>\n",
       "    <tr style=\"text-align: right;\">\n",
       "      <th></th>\n",
       "      <th>author</th>\n",
       "      <th>datePublished</th>\n",
       "      <th>description</th>\n",
       "      <th>reviewRating</th>\n",
       "      <th>name</th>\n",
       "      <th>cuisine</th>\n",
       "      <th>PosNeg</th>\n",
       "    </tr>\n",
       "  </thead>\n",
       "  <tbody>\n",
       "    <tr>\n",
       "      <th>0</th>\n",
       "      <td>Karen W.</td>\n",
       "      <td>2017-02-22</td>\n",
       "      <td>If you love strong flavours, you'll dig the Du...</td>\n",
       "      <td>4</td>\n",
       "      <td>First Thai Food</td>\n",
       "      <td>Thai</td>\n",
       "      <td>1</td>\n",
       "    </tr>\n",
       "    <tr>\n",
       "      <th>1</th>\n",
       "      <td>Chan L.</td>\n",
       "      <td>2017-11-12</td>\n",
       "      <td>It's a hit or miss here. This time they tried ...</td>\n",
       "      <td>1</td>\n",
       "      <td>First Thai Food</td>\n",
       "      <td>Thai</td>\n",
       "      <td>-1</td>\n",
       "    </tr>\n",
       "    <tr>\n",
       "      <th>2</th>\n",
       "      <td>Max C.</td>\n",
       "      <td>2017-08-03</td>\n",
       "      <td>Total disaster, don't order the duck soup nood...</td>\n",
       "      <td>2</td>\n",
       "      <td>First Thai Food</td>\n",
       "      <td>Thai</td>\n",
       "      <td>-1</td>\n",
       "    </tr>\n",
       "    <tr>\n",
       "      <th>3</th>\n",
       "      <td>Carolyn L.</td>\n",
       "      <td>2014-08-01</td>\n",
       "      <td>The place can get super crowded, especially af...</td>\n",
       "      <td>4</td>\n",
       "      <td>First Thai Food</td>\n",
       "      <td>Thai</td>\n",
       "      <td>1</td>\n",
       "    </tr>\n",
       "    <tr>\n",
       "      <th>4</th>\n",
       "      <td>Ernie K.</td>\n",
       "      <td>2012-09-27</td>\n",
       "      <td>I simply love this place.  Not the service or ...</td>\n",
       "      <td>4</td>\n",
       "      <td>First Thai Food</td>\n",
       "      <td>Thai</td>\n",
       "      <td>1</td>\n",
       "    </tr>\n",
       "  </tbody>\n",
       "</table>\n",
       "</div>"
      ]
     },
     "execution_count": 21,
     "metadata": {},
     "output_type": "execute_result"
    }
   ],
   "source": [
    "reviews_df['PosNeg'] = reviews_df['reviewRating'].apply(lambda x: 1 if x > 3 else -1)\n",
    "reviews_df.head()"
   ]
  },
  {
   "cell_type": "markdown",
   "metadata": {},
   "source": [
    "### Load the reviews standard set"
   ]
  },
  {
   "cell_type": "code",
   "execution_count": 22,
   "metadata": {},
   "outputs": [],
   "source": [
    "with open(os.path.join('data', 'others', 'yelp_2.json')) as read_file:\n",
    "    std_reviews = json.load(read_file)"
   ]
  },
  {
   "cell_type": "code",
   "execution_count": 23,
   "metadata": {},
   "outputs": [
    {
     "data": {
      "text/plain": [
       "dict_keys(['0', '20'])"
      ]
     },
     "execution_count": 23,
     "metadata": {},
     "output_type": "execute_result"
    }
   ],
   "source": [
    "std_reviews.keys()"
   ]
  },
  {
   "cell_type": "code",
   "execution_count": 24,
   "metadata": {},
   "outputs": [
    {
     "data": {
      "text/html": [
       "<div>\n",
       "<style scoped>\n",
       "    .dataframe tbody tr th:only-of-type {\n",
       "        vertical-align: middle;\n",
       "    }\n",
       "\n",
       "    .dataframe tbody tr th {\n",
       "        vertical-align: top;\n",
       "    }\n",
       "\n",
       "    .dataframe thead th {\n",
       "        text-align: right;\n",
       "    }\n",
       "</style>\n",
       "<table border=\"1\" class=\"dataframe\">\n",
       "  <thead>\n",
       "    <tr style=\"text-align: right;\">\n",
       "      <th></th>\n",
       "      <th>author</th>\n",
       "      <th>datePublished</th>\n",
       "      <th>description</th>\n",
       "      <th>reviewRating</th>\n",
       "      <th>name</th>\n",
       "      <th>cuisine</th>\n",
       "    </tr>\n",
       "  </thead>\n",
       "  <tbody>\n",
       "    <tr>\n",
       "      <th>0</th>\n",
       "      <td>Tanmay A.</td>\n",
       "      <td>2017-05-19</td>\n",
       "      <td>The service at Sushi Bar was great with an ext...</td>\n",
       "      <td>5</td>\n",
       "      <td>The Sushi Bar</td>\n",
       "      <td>Sushi Bars</td>\n",
       "    </tr>\n",
       "    <tr>\n",
       "      <th>1</th>\n",
       "      <td>Alex L.</td>\n",
       "      <td>2017-04-06</td>\n",
       "      <td>OMG Yelp let me down big time.  I don't know h...</td>\n",
       "      <td>2</td>\n",
       "      <td>The Sushi Bar</td>\n",
       "      <td>Sushi Bars</td>\n",
       "    </tr>\n",
       "    <tr>\n",
       "      <th>2</th>\n",
       "      <td>Jenn W.</td>\n",
       "      <td>2017-07-01</td>\n",
       "      <td>Heard that this was the best sushi joint in Si...</td>\n",
       "      <td>4</td>\n",
       "      <td>The Sushi Bar</td>\n",
       "      <td>Sushi Bars</td>\n",
       "    </tr>\n",
       "    <tr>\n",
       "      <th>3</th>\n",
       "      <td>Nicola L.</td>\n",
       "      <td>2017-12-17</td>\n",
       "      <td>Ebi fry salmon Aburizal ($17.90++) - 3 stars\\n...</td>\n",
       "      <td>3</td>\n",
       "      <td>The Sushi Bar</td>\n",
       "      <td>Sushi Bars</td>\n",
       "    </tr>\n",
       "    <tr>\n",
       "      <th>4</th>\n",
       "      <td>Birgit W.</td>\n",
       "      <td>2016-05-15</td>\n",
       "      <td>Yes I also get the raving reviews now.\\nWe dec...</td>\n",
       "      <td>5</td>\n",
       "      <td>The Sushi Bar</td>\n",
       "      <td>Sushi Bars</td>\n",
       "    </tr>\n",
       "  </tbody>\n",
       "</table>\n",
       "</div>"
      ],
      "text/plain": [
       "<div>\n",
       "<style scoped>\n",
       "    .dataframe tbody tr th:only-of-type {\n",
       "        vertical-align: middle;\n",
       "    }\n",
       "\n",
       "    .dataframe tbody tr th {\n",
       "        vertical-align: top;\n",
       "    }\n",
       "\n",
       "    .dataframe thead th {\n",
       "        text-align: right;\n",
       "    }\n",
       "</style>\n",
       "<table border=\"1\" class=\"dataframe\">\n",
       "  <thead>\n",
       "    <tr style=\"text-align: right;\">\n",
       "      <th></th>\n",
       "      <th>author</th>\n",
       "      <th>datePublished</th>\n",
       "      <th>description</th>\n",
       "      <th>reviewRating</th>\n",
       "      <th>name</th>\n",
       "      <th>cuisine</th>\n",
       "    </tr>\n",
       "  </thead>\n",
       "  <tbody>\n",
       "    <tr>\n",
       "      <th>0</th>\n",
       "      <td>Tanmay A.</td>\n",
       "      <td>2017-05-19</td>\n",
       "      <td>The service at Sushi Bar was great with an ext...</td>\n",
       "      <td>5</td>\n",
       "      <td>The Sushi Bar</td>\n",
       "      <td>Sushi Bars</td>\n",
       "    </tr>\n",
       "    <tr>\n",
       "      <th>1</th>\n",
       "      <td>Alex L.</td>\n",
       "      <td>2017-04-06</td>\n",
       "      <td>OMG Yelp let me down big time.  I don't know h...</td>\n",
       "      <td>2</td>\n",
       "      <td>The Sushi Bar</td>\n",
       "      <td>Sushi Bars</td>\n",
       "    </tr>\n",
       "    <tr>\n",
       "      <th>2</th>\n",
       "      <td>Jenn W.</td>\n",
       "      <td>2017-07-01</td>\n",
       "      <td>Heard that this was the best sushi joint in Si...</td>\n",
       "      <td>4</td>\n",
       "      <td>The Sushi Bar</td>\n",
       "      <td>Sushi Bars</td>\n",
       "    </tr>\n",
       "    <tr>\n",
       "      <th>3</th>\n",
       "      <td>Nicola L.</td>\n",
       "      <td>2017-12-17</td>\n",
       "      <td>Ebi fry salmon Aburizal ($17.90++) - 3 stars\\n...</td>\n",
       "      <td>3</td>\n",
       "      <td>The Sushi Bar</td>\n",
       "      <td>Sushi Bars</td>\n",
       "    </tr>\n",
       "    <tr>\n",
       "      <th>4</th>\n",
       "      <td>Birgit W.</td>\n",
       "      <td>2016-05-15</td>\n",
       "      <td>Yes I also get the raving reviews now.\\nWe dec...</td>\n",
       "      <td>5</td>\n",
       "      <td>The Sushi Bar</td>\n",
       "      <td>Sushi Bars</td>\n",
       "    </tr>\n",
       "  </tbody>\n",
       "</table>\n",
       "</div>"
      ]
     },
     "execution_count": 24,
     "metadata": {},
     "output_type": "execute_result"
    }
   ],
   "source": [
    "df_list = []\n",
    "for i in std_reviews.keys():\n",
    "    \n",
    "    a_df = pd.DataFrame(std_reviews[i]['review'])\n",
    "    a_df['reviewRating'] = a_df['reviewRating'].apply(lambda x: x['ratingValue'])\n",
    "    a_df['name'] = std_reviews[i]['name']\n",
    "    a_df['cuisine'] = std_reviews[i]['servesCuisine']\n",
    "    df_list.append(a_df)\n",
    "\n",
    "std_reviews_df = pd.concat(df_list)\n",
    "std_reviews_df.head()"
   ]
  },
  {
   "cell_type": "code",
   "execution_count": 25,
   "metadata": {},
   "outputs": [
    {
     "data": {
      "text/plain": [
       "cuisine\nSushi Bars    35\ndtype: int64"
      ]
     },
     "execution_count": 25,
     "metadata": {},
     "output_type": "execute_result"
    }
   ],
   "source": [
    "std_reviews_df.groupby('cuisine').size()"
   ]
  },
  {
   "cell_type": "code",
   "execution_count": 26,
   "metadata": {},
   "outputs": [
    {
     "data": {
      "text/html": [
       "<div>\n",
       "<style scoped>\n",
       "    .dataframe tbody tr th:only-of-type {\n",
       "        vertical-align: middle;\n",
       "    }\n",
       "\n",
       "    .dataframe tbody tr th {\n",
       "        vertical-align: top;\n",
       "    }\n",
       "\n",
       "    .dataframe thead th {\n",
       "        text-align: right;\n",
       "    }\n",
       "</style>\n",
       "<table border=\"1\" class=\"dataframe\">\n",
       "  <thead>\n",
       "    <tr style=\"text-align: right;\">\n",
       "      <th></th>\n",
       "      <th>author</th>\n",
       "      <th>datePublished</th>\n",
       "      <th>description</th>\n",
       "      <th>reviewRating</th>\n",
       "      <th>name</th>\n",
       "      <th>cuisine</th>\n",
       "      <th>PosNeg</th>\n",
       "    </tr>\n",
       "  </thead>\n",
       "  <tbody>\n",
       "    <tr>\n",
       "      <th>0</th>\n",
       "      <td>Tanmay A.</td>\n",
       "      <td>2017-05-19</td>\n",
       "      <td>The service at Sushi Bar was great with an ext...</td>\n",
       "      <td>5</td>\n",
       "      <td>The Sushi Bar</td>\n",
       "      <td>Japanese</td>\n",
       "      <td>1</td>\n",
       "    </tr>\n",
       "    <tr>\n",
       "      <th>1</th>\n",
       "      <td>Alex L.</td>\n",
       "      <td>2017-04-06</td>\n",
       "      <td>OMG Yelp let me down big time.  I don't know h...</td>\n",
       "      <td>2</td>\n",
       "      <td>The Sushi Bar</td>\n",
       "      <td>Japanese</td>\n",
       "      <td>-1</td>\n",
       "    </tr>\n",
       "    <tr>\n",
       "      <th>2</th>\n",
       "      <td>Jenn W.</td>\n",
       "      <td>2017-07-01</td>\n",
       "      <td>Heard that this was the best sushi joint in Si...</td>\n",
       "      <td>4</td>\n",
       "      <td>The Sushi Bar</td>\n",
       "      <td>Japanese</td>\n",
       "      <td>1</td>\n",
       "    </tr>\n",
       "    <tr>\n",
       "      <th>3</th>\n",
       "      <td>Nicola L.</td>\n",
       "      <td>2017-12-17</td>\n",
       "      <td>Ebi fry salmon Aburizal ($17.90++) - 3 stars\\n...</td>\n",
       "      <td>3</td>\n",
       "      <td>The Sushi Bar</td>\n",
       "      <td>Japanese</td>\n",
       "      <td>-1</td>\n",
       "    </tr>\n",
       "    <tr>\n",
       "      <th>4</th>\n",
       "      <td>Birgit W.</td>\n",
       "      <td>2016-05-15</td>\n",
       "      <td>Yes I also get the raving reviews now.\\nWe dec...</td>\n",
       "      <td>5</td>\n",
       "      <td>The Sushi Bar</td>\n",
       "      <td>Japanese</td>\n",
       "      <td>1</td>\n",
       "    </tr>\n",
       "  </tbody>\n",
       "</table>\n",
       "</div>"
      ],
      "text/plain": [
       "<div>\n",
       "<style scoped>\n",
       "    .dataframe tbody tr th:only-of-type {\n",
       "        vertical-align: middle;\n",
       "    }\n",
       "\n",
       "    .dataframe tbody tr th {\n",
       "        vertical-align: top;\n",
       "    }\n",
       "\n",
       "    .dataframe thead th {\n",
       "        text-align: right;\n",
       "    }\n",
       "</style>\n",
       "<table border=\"1\" class=\"dataframe\">\n",
       "  <thead>\n",
       "    <tr style=\"text-align: right;\">\n",
       "      <th></th>\n",
       "      <th>author</th>\n",
       "      <th>datePublished</th>\n",
       "      <th>description</th>\n",
       "      <th>reviewRating</th>\n",
       "      <th>name</th>\n",
       "      <th>cuisine</th>\n",
       "      <th>PosNeg</th>\n",
       "    </tr>\n",
       "  </thead>\n",
       "  <tbody>\n",
       "    <tr>\n",
       "      <th>0</th>\n",
       "      <td>Tanmay A.</td>\n",
       "      <td>2017-05-19</td>\n",
       "      <td>The service at Sushi Bar was great with an ext...</td>\n",
       "      <td>5</td>\n",
       "      <td>The Sushi Bar</td>\n",
       "      <td>Japanese</td>\n",
       "      <td>1</td>\n",
       "    </tr>\n",
       "    <tr>\n",
       "      <th>1</th>\n",
       "      <td>Alex L.</td>\n",
       "      <td>2017-04-06</td>\n",
       "      <td>OMG Yelp let me down big time.  I don't know h...</td>\n",
       "      <td>2</td>\n",
       "      <td>The Sushi Bar</td>\n",
       "      <td>Japanese</td>\n",
       "      <td>-1</td>\n",
       "    </tr>\n",
       "    <tr>\n",
       "      <th>2</th>\n",
       "      <td>Jenn W.</td>\n",
       "      <td>2017-07-01</td>\n",
       "      <td>Heard that this was the best sushi joint in Si...</td>\n",
       "      <td>4</td>\n",
       "      <td>The Sushi Bar</td>\n",
       "      <td>Japanese</td>\n",
       "      <td>1</td>\n",
       "    </tr>\n",
       "    <tr>\n",
       "      <th>3</th>\n",
       "      <td>Nicola L.</td>\n",
       "      <td>2017-12-17</td>\n",
       "      <td>Ebi fry salmon Aburizal ($17.90++) - 3 stars\\n...</td>\n",
       "      <td>3</td>\n",
       "      <td>The Sushi Bar</td>\n",
       "      <td>Japanese</td>\n",
       "      <td>-1</td>\n",
       "    </tr>\n",
       "    <tr>\n",
       "      <th>4</th>\n",
       "      <td>Birgit W.</td>\n",
       "      <td>2016-05-15</td>\n",
       "      <td>Yes I also get the raving reviews now.\\nWe dec...</td>\n",
       "      <td>5</td>\n",
       "      <td>The Sushi Bar</td>\n",
       "      <td>Japanese</td>\n",
       "      <td>1</td>\n",
       "    </tr>\n",
       "  </tbody>\n",
       "</table>\n",
       "</div>"
      ]
     },
     "execution_count": 26,
     "metadata": {},
     "output_type": "execute_result"
    }
   ],
   "source": [
    "std_reviews_df.loc[std_reviews_df['cuisine'].str.contains('Sushi'), 'cuisine'] = 'Japanese'\n",
    "std_reviews_df['PosNeg'] = std_reviews_df['reviewRating'].apply(lambda x: 1 if x > 3 else -1)\n",
    "std_reviews_df.head()"
   ]
  },
  {
   "cell_type": "markdown",
   "metadata": {},
   "source": [
    "### Add the standard set of reviews to the UGC from Yelp"
   ]
  },
  {
   "cell_type": "code",
   "execution_count": 27,
   "metadata": {},
   "outputs": [
    {
     "data": {
      "text/plain": [
       "696"
      ]
     },
     "execution_count": 27,
     "metadata": {},
     "output_type": "execute_result"
    }
   ],
   "source": [
    "reviews_df = pd.concat([reviews_df, std_reviews_df])\n",
    "len(reviews_df)"
   ]
  },
  {
   "cell_type": "markdown",
   "metadata": {},
   "source": [
    "### Pre-process the text data"
   ]
  },
  {
   "cell_type": "code",
   "execution_count": 28,
   "metadata": {},
   "outputs": [
    {
     "data": {
      "text/plain": [
       "0    [If, you, love, strong, flavours, ,, you, 'll,...\n1    [It, 's, a, hit, or, miss, here, ., This, time...\n2    [Total, disaster, ,, do, n't, order, the, duck...\n3    [The, place, can, get, super, crowded, ,, espe...\n4    [I, simply, love, this, place, ., Not, the, se...\nName: desc_tokenised, dtype: object"
      ]
     },
     "execution_count": 28,
     "metadata": {},
     "output_type": "execute_result"
    }
   ],
   "source": [
    "# Tokenised the text data.\n",
    "reviews_df['desc_tokenised'] = reviews_df['description'].apply(lambda x: word_tokenize(x))\n",
    "reviews_df['desc_tokenised'][:5]"
   ]
  },
  {
   "cell_type": "markdown",
   "metadata": {},
   "source": [
    "## Prepare the Train / Test Dataset"
   ]
  },
  {
   "cell_type": "code",
   "execution_count": 29,
   "metadata": {},
   "outputs": [],
   "source": [
    "# Split the data.\n",
    "X_train, X_test, y_train, y_test = train_test_split(reviews_df.loc[:, reviews_df.columns != 'PosNeg'].values, reviews_df['PosNeg'].values,\n",
    "                                                    random_state=582, test_size=.05)"
   ]
  },
  {
   "cell_type": "code",
   "execution_count": 30,
   "metadata": {},
   "outputs": [
    {
     "data": {
      "text/plain": [
       "['I', \"'ve\", 'eaten', 'at', 'the', 'DTF', 'location', 'in', 'Arcadia', ',']"
      ]
     },
     "execution_count": 30,
     "metadata": {},
     "output_type": "execute_result"
    }
   ],
   "source": [
    "X_train[0, 6][:10]"
   ]
  },
  {
   "cell_type": "code",
   "execution_count": 31,
   "metadata": {},
   "outputs": [
    {
     "data": {
      "text/plain": [
       "array([ 1, -1,  1,  1,  1])"
      ]
     },
     "execution_count": 31,
     "metadata": {},
     "output_type": "execute_result"
    }
   ],
   "source": [
    "y_train[:5]"
   ]
  },
  {
   "cell_type": "code",
   "execution_count": 32,
   "metadata": {},
   "outputs": [
    {
     "data": {
      "text/plain": [
       "array(['Vasiliy M.', '2016-12-05',\n       'Great location on Haji Ln, right next to live music! I can only speak to the smoothies I got--they were really fresh and flavorful, but a little on the pricey end. Nevertheless, a cool spot to check out on Friday or Saturday nights!',\n       4, 'Piedra Negra', 'Mexican',\n       list(['Great', 'location', 'on', 'Haji', 'Ln', ',', 'right', 'next', 'to', 'live', 'music', '!', 'I', 'can', 'only', 'speak', 'to', 'the', 'smoothies', 'I', 'got', '--', 'they', 'were', 'really', 'fresh', 'and', 'flavorful', ',', 'but', 'a', 'little', 'on', 'the', 'pricey', 'end', '.', 'Nevertheless', ',', 'a', 'cool', 'spot', 'to', 'check', 'out', 'on', 'Friday', 'or', 'Saturday', 'nights', '!'])], dtype=object)"
      ]
     },
     "execution_count": 32,
     "metadata": {},
     "output_type": "execute_result"
    }
   ],
   "source": [
    "X_test[6]"
   ]
  },
  {
   "cell_type": "code",
   "execution_count": 33,
   "metadata": {},
   "outputs": [
    {
     "data": {
      "text/plain": [
       "Index(['author', 'datePublished', 'description', 'reviewRating', 'name',\n       'cuisine', 'PosNeg', 'desc_tokenised'],\n      dtype='object')"
      ]
     },
     "execution_count": 33,
     "metadata": {},
     "output_type": "execute_result"
    }
   ],
   "source": [
    "reviews_df.columns"
   ]
  },
  {
   "cell_type": "code",
   "execution_count": 34,
   "metadata": {},
   "outputs": [
    {
     "data": {
      "text/html": [
       "<div>\n",
       "<style scoped>\n",
       "    .dataframe tbody tr th:only-of-type {\n",
       "        vertical-align: middle;\n",
       "    }\n",
       "\n",
       "    .dataframe tbody tr th {\n",
       "        vertical-align: top;\n",
       "    }\n",
       "\n",
       "    .dataframe thead th {\n",
       "        text-align: right;\n",
       "    }\n",
       "</style>\n",
       "<table border=\"1\" class=\"dataframe\">\n",
       "  <thead>\n",
       "    <tr style=\"text-align: right;\">\n",
       "      <th></th>\n",
       "      <th>author</th>\n",
       "      <th>datePublished</th>\n",
       "      <th>description</th>\n",
       "      <th>reviewRating</th>\n",
       "      <th>name</th>\n",
       "      <th>cuisine</th>\n",
       "      <th>desc_tokenised</th>\n",
       "    </tr>\n",
       "  </thead>\n",
       "  <tbody>\n",
       "    <tr>\n",
       "      <th>0</th>\n",
       "      <td>Leslie S.</td>\n",
       "      <td>2015-12-04</td>\n",
       "      <td>The ambience is quite clean and casual. \\n\\nTh...</td>\n",
       "      <td>2</td>\n",
       "      <td>Osaka Ohsho</td>\n",
       "      <td>Japanese</td>\n",
       "      <td>[The, ambience, is, quite, clean, and, casual,...</td>\n",
       "    </tr>\n",
       "    <tr>\n",
       "      <th>1</th>\n",
       "      <td>John A.</td>\n",
       "      <td>2014-07-22</td>\n",
       "      <td>I loved this place!  Very friendly staff and f...</td>\n",
       "      <td>4</td>\n",
       "      <td>The Curry Cultures</td>\n",
       "      <td>Indian</td>\n",
       "      <td>[I, loved, this, place, !, Very, friendly, sta...</td>\n",
       "    </tr>\n",
       "    <tr>\n",
       "      <th>2</th>\n",
       "      <td>Yelp R.</td>\n",
       "      <td>2018-05-30</td>\n",
       "      <td>Amazing, delicious and taste buds are happy.  ...</td>\n",
       "      <td>5</td>\n",
       "      <td>The Curry Cultures</td>\n",
       "      <td>Indian</td>\n",
       "      <td>[Amazing, ,, delicious, and, taste, buds, are,...</td>\n",
       "    </tr>\n",
       "    <tr>\n",
       "      <th>3</th>\n",
       "      <td>Sahil A.</td>\n",
       "      <td>2018-05-13</td>\n",
       "      <td>We had a chicken biryani which was fine. The a...</td>\n",
       "      <td>3</td>\n",
       "      <td>The Curry Cultures</td>\n",
       "      <td>Indian</td>\n",
       "      <td>[We, had, a, chicken, biryani, which, was, fin...</td>\n",
       "    </tr>\n",
       "    <tr>\n",
       "      <th>4</th>\n",
       "      <td>Matthew D.</td>\n",
       "      <td>2017-07-23</td>\n",
       "      <td>Place is alright. I got few types of tacos.  I...</td>\n",
       "      <td>3</td>\n",
       "      <td>Vatos Urban Tacos</td>\n",
       "      <td>Mexican</td>\n",
       "      <td>[Place, is, alright, ., I, got, few, types, of...</td>\n",
       "    </tr>\n",
       "  </tbody>\n",
       "</table>\n",
       "</div>"
      ],
      "text/plain": [
       "<div>\n",
       "<style scoped>\n",
       "    .dataframe tbody tr th:only-of-type {\n",
       "        vertical-align: middle;\n",
       "    }\n",
       "\n",
       "    .dataframe tbody tr th {\n",
       "        vertical-align: top;\n",
       "    }\n",
       "\n",
       "    .dataframe thead th {\n",
       "        text-align: right;\n",
       "    }\n",
       "</style>\n",
       "<table border=\"1\" class=\"dataframe\">\n",
       "  <thead>\n",
       "    <tr style=\"text-align: right;\">\n",
       "      <th></th>\n",
       "      <th>author</th>\n",
       "      <th>datePublished</th>\n",
       "      <th>description</th>\n",
       "      <th>reviewRating</th>\n",
       "      <th>name</th>\n",
       "      <th>cuisine</th>\n",
       "      <th>desc_tokenised</th>\n",
       "    </tr>\n",
       "  </thead>\n",
       "  <tbody>\n",
       "    <tr>\n",
       "      <th>0</th>\n",
       "      <td>Leslie S.</td>\n",
       "      <td>2015-12-04</td>\n",
       "      <td>The ambience is quite clean and casual. \\n\\nTh...</td>\n",
       "      <td>2</td>\n",
       "      <td>Osaka Ohsho</td>\n",
       "      <td>Japanese</td>\n",
       "      <td>[The, ambience, is, quite, clean, and, casual,...</td>\n",
       "    </tr>\n",
       "    <tr>\n",
       "      <th>1</th>\n",
       "      <td>John A.</td>\n",
       "      <td>2014-07-22</td>\n",
       "      <td>I loved this place!  Very friendly staff and f...</td>\n",
       "      <td>4</td>\n",
       "      <td>The Curry Cultures</td>\n",
       "      <td>Indian</td>\n",
       "      <td>[I, loved, this, place, !, Very, friendly, sta...</td>\n",
       "    </tr>\n",
       "    <tr>\n",
       "      <th>2</th>\n",
       "      <td>Yelp R.</td>\n",
       "      <td>2018-05-30</td>\n",
       "      <td>Amazing, delicious and taste buds are happy.  ...</td>\n",
       "      <td>5</td>\n",
       "      <td>The Curry Cultures</td>\n",
       "      <td>Indian</td>\n",
       "      <td>[Amazing, ,, delicious, and, taste, buds, are,...</td>\n",
       "    </tr>\n",
       "    <tr>\n",
       "      <th>3</th>\n",
       "      <td>Sahil A.</td>\n",
       "      <td>2018-05-13</td>\n",
       "      <td>We had a chicken biryani which was fine. The a...</td>\n",
       "      <td>3</td>\n",
       "      <td>The Curry Cultures</td>\n",
       "      <td>Indian</td>\n",
       "      <td>[We, had, a, chicken, biryani, which, was, fin...</td>\n",
       "    </tr>\n",
       "    <tr>\n",
       "      <th>4</th>\n",
       "      <td>Matthew D.</td>\n",
       "      <td>2017-07-23</td>\n",
       "      <td>Place is alright. I got few types of tacos.  I...</td>\n",
       "      <td>3</td>\n",
       "      <td>Vatos Urban Tacos</td>\n",
       "      <td>Mexican</td>\n",
       "      <td>[Place, is, alright, ., I, got, few, types, of...</td>\n",
       "    </tr>\n",
       "  </tbody>\n",
       "</table>\n",
       "</div>"
      ]
     },
     "execution_count": 34,
     "metadata": {},
     "output_type": "execute_result"
    }
   ],
   "source": [
    "test_df = pd.DataFrame(X_test, columns=[i for i in reviews_df.columns if i!='PosNeg'])\n",
    "#test_df = pd.DataFrame(X_test)\n",
    "test_df.head()"
   ]
  },
  {
   "cell_type": "code",
   "execution_count": 35,
   "metadata": {},
   "outputs": [
    {
     "data": {
      "text/plain": [
       "35"
      ]
     },
     "execution_count": 35,
     "metadata": {},
     "output_type": "execute_result"
    }
   ],
   "source": [
    "len(test_df)"
   ]
  },
  {
   "cell_type": "code",
   "execution_count": 36,
   "metadata": {},
   "outputs": [
    {
     "data": {
      "text/plain": [
       "cuisine\nFrench       1\nIndian      11\nJapanese     9\nMexican     12\nThai         2\ndtype: int64"
      ]
     },
     "execution_count": 36,
     "metadata": {},
     "output_type": "execute_result"
    }
   ],
   "source": [
    "test_df.groupby('cuisine').size()"
   ]
  },
  {
   "cell_type": "code",
   "execution_count": 37,
   "metadata": {},
   "outputs": [
    {
     "data": {
      "text/plain": [
       "14"
      ]
     },
     "execution_count": 37,
     "metadata": {},
     "output_type": "execute_result"
    }
   ],
   "source": [
    "len(test_df.groupby('name').groups)"
   ]
  },
  {
   "cell_type": "markdown",
   "metadata": {},
   "source": [
    "There are 14 restaurants in the test set in 5 categories."
   ]
  },
  {
   "cell_type": "code",
   "execution_count": 38,
   "metadata": {},
   "outputs": [],
   "source": [
    "# dict for nltk NB classifier\n",
    "def word_feats(words):\n",
    "    return dict([ (word, True) for word in words ])\n",
    "\n",
    "train_featureset = [ (word_feats(X_train[i, 6]), y_train[i]) for i in range(len(X_train)) ]\n",
    "test_featureset = [ (word_feats(X_test[i, 6]), y_test[i]) for i in range(len(X_test)) ]"
   ]
  },
  {
   "cell_type": "markdown",
   "metadata": {},
   "source": [
    "## Train the Naive-Bayes Classifier"
   ]
  },
  {
   "cell_type": "code",
   "execution_count": 39,
   "metadata": {},
   "outputs": [
    {
     "name": "stdout",
     "output_type": "stream",
     "text": [
      "Most Informative Features\n                    Then = True               -1 : 1      =     22.4 : 1.0\n                   short = True               -1 : 1      =     17.1 : 1.0\n           unfortunately = True               -1 : 1      =     14.7 : 1.0\n                mediocre = True               -1 : 1      =     13.6 : 1.0\n                 manager = True               -1 : 1      =     13.1 : 1.0\n                   flaky = True               -1 : 1      =     13.1 : 1.0\n               accompany = True               -1 : 1      =     13.1 : 1.0\n               primarily = True               -1 : 1      =     13.1 : 1.0\n                informed = True               -1 : 1      =     13.1 : 1.0\n                 heavily = True               -1 : 1      =     13.1 : 1.0\n"
     ]
    }
   ],
   "source": [
    "## Naive Bayes Rule using nltk\n",
    "classifier_nb = NaiveBayesClassifier.train(train_featureset)\n",
    "classifier_nb.show_most_informative_features(10)  # -10 to see positive"
   ]
  },
  {
   "cell_type": "code",
   "execution_count": 40,
   "metadata": {},
   "outputs": [],
   "source": [
    "y_train_pred = [ classifier_nb.classify(word_feats(i)) for i in X_train[:, 6] ]\n",
    "y_test_pred = [ classifier_nb.classify(word_feats(i)) for i in X_test[:, 6] ]"
   ]
  },
  {
   "cell_type": "code",
   "execution_count": 41,
   "metadata": {},
   "outputs": [
    {
     "ename": "NameError",
     "evalue": "name 'predict_y' is not defined",
     "traceback": [
      "\u001b[0;31m---------------------------------------------------------------------------\u001b[0m",
      "\u001b[0;31mNameError\u001b[0m                                 Traceback (most recent call last)",
      "\u001b[0;32m<ipython-input-41-6eacae85ae2c>\u001b[0m in \u001b[0;36m<module>\u001b[0;34m()\u001b[0m\n\u001b[0;32m----> 1\u001b[0;31m \u001b[0mpredict_y\u001b[0m\u001b[0;34m[\u001b[0m\u001b[0;34m:\u001b[0m\u001b[0;36m5\u001b[0m\u001b[0;34m]\u001b[0m\u001b[0;34m\u001b[0m\u001b[0m\n\u001b[0m",
      "\u001b[0;31mNameError\u001b[0m: name 'predict_y' is not defined"
     ],
     "output_type": "error"
    }
   ],
   "source": [
    "predict_y[:5]"
   ]
  },
  {
   "cell_type": "code",
   "execution_count": 42,
   "metadata": {},
   "outputs": [
    {
     "data": {
      "text/plain": [
       "array([[199,   0],\n       [167, 295]])"
      ]
     },
     "execution_count": 42,
     "metadata": {},
     "output_type": "execute_result"
    }
   ],
   "source": [
    "cf_matrix_train = confusion_matrix(y_train, y_train_pred)\n",
    "cf_matrix_train"
   ]
  },
  {
   "cell_type": "code",
   "execution_count": 43,
   "metadata": {},
   "outputs": [
    {
     "data": {
      "text/plain": [
       "array([[ 7,  0],\n       [19,  9]])"
      ]
     },
     "execution_count": 43,
     "metadata": {},
     "output_type": "execute_result"
    }
   ],
   "source": [
    "cf_matrix_test = confusion_matrix(y_test, y_test_pred)\n",
    "cf_matrix_test"
   ]
  },
  {
   "cell_type": "code",
   "execution_count": 44,
   "metadata": {},
   "outputs": [],
   "source": [
    "# This function prints and plots the confusion matrix. Normalization can be applied by setting `normalize=True`.\n",
    "def plot_confusion_matrix(cm, classes,\n",
    "                          normalize=False,\n",
    "                          title='Confusion matrix',\n",
    "                          cmap=plt.cm.Blues):\n",
    "    if normalize:\n",
    "        cm = cm.astype('float') / cm.sum(axis=1)[:, np.newaxis]\n",
    "        print(\"Normalized confusion matrix\")\n",
    "    else:\n",
    "        print('Confusion matrix, without normalization')\n",
    "\n",
    "    print(cm)\n",
    "\n",
    "    # plt.figure(figsize=(7, 7))\n",
    "    plt.imshow(cm, interpolation='nearest', cmap=cmap)\n",
    "    plt.title(title)\n",
    "    plt.colorbar()\n",
    "    tick_marks = np.arange(len(classes))\n",
    "    plt.xticks(tick_marks, classes, rotation=45)\n",
    "    plt.yticks(tick_marks, classes)\n",
    "\n",
    "    fmt = '.2f' if normalize else 'd'\n",
    "    thresh = cm.max() / 2.\n",
    "    for i, j in itertools.product(range(cm.shape[0]), range(cm.shape[1])):\n",
    "        plt.text(j, i, format(cm[i, j], fmt),\n",
    "                 horizontalalignment=\"center\",\n",
    "                 color=\"white\" if cm[i, j] > thresh else \"black\")\n",
    "\n",
    "    plt.tight_layout()\n",
    "    plt.ylabel('True label')\n",
    "    plt.xlabel('Predicted label')"
   ]
  },
  {
   "cell_type": "code",
   "execution_count": 45,
   "metadata": {},
   "outputs": [
    {
     "name": "stdout",
     "output_type": "stream",
     "text": [
      "Confusion matrix, without normalization\n[[199   0]\n [167 295]]\nConfusion matrix, without normalization\n[[ 7  0]\n [19  9]]\n"
     ]
    },
    {
     "data": {
      "image/png": "[encoded data removed]",
      "text/plain": [
       "<matplotlib.figure.Figure at 0x7faa937b03c8>"
      ]
     },
     "metadata": {},
     "output_type": "display_data"
    }
   ],
   "source": [
    "plt.figure(figsize=(10, 4))\n",
    "plt.subplot(121)\n",
    "plot_confusion_matrix(cf_matrix_train, classes=['Neg', 'Pos'], title='Train Confusion matrix')\n",
    "plt.subplot(122)\n",
    "plot_confusion_matrix(cf_matrix_test, classes=['Neg', 'Pos'], title='Test Confusion matrix')\n",
    "plt.show()"
   ]
  },
  {
   "cell_type": "code",
   "execution_count": 46,
   "metadata": {},
   "outputs": [
    {
     "name": "stdout",
     "output_type": "stream",
     "text": [
      "Train Results\n\n               precision    recall  f1-score   support\n\n         Neg       0.54      1.00      0.70       199\n         Pos       1.00      0.64      0.78       462\n\n   micro avg       0.75      0.75      0.75       661\n   macro avg       0.77      0.82      0.74       661\nweighted avg       0.86      0.75      0.76       661\n\n"
     ]
    }
   ],
   "source": [
    "print('Train Results\\n\\n', classification_report(y_train, y_train_pred, target_names=['Neg', 'Pos']))"
   ]
  },
  {
   "cell_type": "code",
   "execution_count": 47,
   "metadata": {},
   "outputs": [
    {
     "name": "stdout",
     "output_type": "stream",
     "text": [
      "Test Results\n\n               precision    recall  f1-score   support\n\n         Neg       0.27      1.00      0.42         7\n         Pos       1.00      0.32      0.49        28\n\n   micro avg       0.46      0.46      0.46        35\n   macro avg       0.63      0.66      0.46        35\nweighted avg       0.85      0.46      0.47        35\n\n"
     ]
    }
   ],
   "source": [
    "print('Test Results\\n\\n', classification_report(y_test, y_test_pred, target_names=['Neg', 'Pos']))"
   ]
  },
  {
   "cell_type": "markdown",
   "metadata": {},
   "source": [
    "## Train the SVM classifier"
   ]
  },
  {
   "cell_type": "code",
   "execution_count": 48,
   "metadata": {},
   "outputs": [],
   "source": [
    "# Using tf-idf docuement vector as features for the SVM classifier\n",
    "vectorizer = TfidfVectorizer()\n",
    "train_vectors = vectorizer.fit_transform(X_train[:, 2])\n",
    "test_vectors = vectorizer.transform(X_test[:, 2])"
   ]
  },
  {
   "cell_type": "code",
   "execution_count": 49,
   "metadata": {},
   "outputs": [],
   "source": [
    "print (\"Train matrix shape \" + str(train_vectors.shape))\n",
    "print (\"Test matrix shape \" + str(test_vectors.shape))"
   ]
  },
  {
   "cell_type": "code",
   "execution_count": 50,
   "metadata": {},
   "outputs": [
    {
     "name": "stdout",
     "output_type": "stream",
     "text": [
      "['00', '000', '01', '06', '10', '100', '10min', '10pm', '10th', '11', '11pm', '12', '120', '13', '130ish', '1330', '135', '138', '14', '15', '16', '17', '18', '188', '18th', '1969', '1980', '1dollar', '1st', '20', '200', '2003', '2008', '2011', '2012', '2013', '2016', '2018', '20mins', '20pm', '20s', '21', '22', '24', '25', '250', '26', '28', '280', '29', '2ish', '2nd', '2pm', '2x', '30', '300', '30minutes', '30pm', '30s', '32', '33', '34', '35', '36', '38', '39', '3ish', '3pm', '3rd', '40', '40sgd', '44', '45', '4th', '50', '500', '50pm', '54', '57', '5min', '5pc', '5s', '5th', '5x', '60', '630pm', '645pm', '68', '69', '6pm', '6th', '70', '730pm', '75', '7pm', '80', '80ft', '80s', '81', '82']\n"
     ]
    }
   ],
   "source": [
    "print(vectorizer.get_feature_names()[:100])"
   ]
  },
  {
   "cell_type": "code",
   "execution_count": 51,
   "metadata": {},
   "outputs": [
    {
     "data": {
      "text/plain": [
       "SVC(C=1.0, cache_size=200, class_weight=None, coef0=0.0,\n  decision_function_shape='ovr', degree=3, gamma='auto', kernel='rbf',\n  max_iter=-1, probability=False, random_state=None, shrinking=True,\n  tol=0.001, verbose=False)"
      ]
     },
     "execution_count": 51,
     "metadata": {},
     "output_type": "execute_result"
    }
   ],
   "source": [
    "# Train the SVM classifier\n",
    "svm = SVC(gamma='auto')\n",
    "svm.fit(train_vectors, y_train)"
   ]
  },
  {
   "cell_type": "code",
   "execution_count": 52,
   "metadata": {},
   "outputs": [],
   "source": [
    "y_train_predsvm = svm.predict(train_vectors)\n",
    "y_test_predsvm = svm.predict(test_vectors)"
   ]
  },
  {
   "cell_type": "code",
   "execution_count": 53,
   "metadata": {},
   "outputs": [
    {
     "data": {
      "text/plain": [
       "array([[  0, 199],\n       [  0, 462]])"
      ]
     },
     "execution_count": 53,
     "metadata": {},
     "output_type": "execute_result"
    }
   ],
   "source": [
    "cf_matrix_trainsvm = confusion_matrix(y_train, y_train_predsvm)\n",
    "cf_matrix_trainsvm"
   ]
  },
  {
   "cell_type": "code",
   "execution_count": 54,
   "metadata": {},
   "outputs": [
    {
     "data": {
      "text/plain": [
       "array([[ 0,  7],\n       [ 0, 28]])"
      ]
     },
     "execution_count": 54,
     "metadata": {},
     "output_type": "execute_result"
    }
   ],
   "source": [
    "cf_matrix_testsvm = confusion_matrix(y_test, y_test_predsvm)\n",
    "cf_matrix_testsvm"
   ]
  },
  {
   "cell_type": "code",
   "execution_count": 55,
   "metadata": {},
   "outputs": [
    {
     "name": "stdout",
     "output_type": "stream",
     "text": [
      "Confusion matrix, without normalization\n[[  0 199]\n [  0 462]]\nConfusion matrix, without normalization\n[[ 0  7]\n [ 0 28]]\n"
     ]
    },
    {
     "data": {
      "image/png": "[encoded data removed]",
      "text/plain": [
       "<matplotlib.figure.Figure at 0x7faa92f523c8>"
      ]
     },
     "metadata": {},
     "output_type": "display_data"
    }
   ],
   "source": [
    "plt.figure(figsize=(10, 4))\n",
    "plt.subplot(121)\n",
    "plot_confusion_matrix(cf_matrix_trainsvm, classes=['Neg', 'Pos'], title='Train Confusion matrix')\n",
    "plt.subplot(122)\n",
    "plot_confusion_matrix(cf_matrix_testsvm, classes=['Neg', 'Pos'], title='Test Confusion matrix')\n",
    "plt.show()"
   ]
  },
  {
   "cell_type": "code",
   "execution_count": 56,
   "metadata": {},
   "outputs": [
    {
     "name": "stdout",
     "output_type": "stream",
     "text": [
      "Train Results\n\n               precision    recall  f1-score   support\n\n         Neg       0.00      0.00      0.00       199\n         Pos       0.70      1.00      0.82       462\n\n   micro avg       0.70      0.70      0.70       661\n   macro avg       0.35      0.50      0.41       661\nweighted avg       0.49      0.70      0.58       661\n\n"
     ]
    },
    {
     "name": "stderr",
     "output_type": "stream",
     "text": [
      "/home/tkokkeng/Documents/EB5204-NMSM/CA1/venv/lib64/python3.6/site-packages/sklearn/metrics/classification.py:1143: UndefinedMetricWarning: Precision and F-score are ill-defined and being set to 0.0 in labels with no predicted samples.\n  'precision', 'predicted', average, warn_for)\n"
     ]
    }
   ],
   "source": [
    "print('Train Results\\n\\n', classification_report(y_train, y_train_predsvm, target_names=['Neg', 'Pos']))"
   ]
  },
  {
   "cell_type": "code",
   "execution_count": 57,
   "metadata": {},
   "outputs": [
    {
     "name": "stdout",
     "output_type": "stream",
     "text": [
      "Test Results\n\n               precision    recall  f1-score   support\n\n         Neg       0.00      0.00      0.00         7\n         Pos       0.80      1.00      0.89        28\n\n   micro avg       0.80      0.80      0.80        35\n   macro avg       0.40      0.50      0.44        35\nweighted avg       0.64      0.80      0.71        35\n\n"
     ]
    },
    {
     "name": "stderr",
     "output_type": "stream",
     "text": [
      "/home/tkokkeng/Documents/EB5204-NMSM/CA1/venv/lib64/python3.6/site-packages/sklearn/metrics/classification.py:1143: UndefinedMetricWarning: Precision and F-score are ill-defined and being set to 0.0 in labels with no predicted samples.\n  'precision', 'predicted', average, warn_for)\n"
     ]
    }
   ],
   "source": [
    "print('Test Results\\n\\n', classification_report(y_test, y_test_predsvm, target_names=['Neg', 'Pos']))"
   ]
  },
  {
   "cell_type": "markdown",
   "metadata": {},
   "source": [
    "## Results"
   ]
  },
  {
   "cell_type": "code",
   "execution_count": 58,
   "metadata": {},
   "outputs": [],
   "source": [
    "train_df = pd.DataFrame(X_train, columns=[i for i in reviews_df.columns if i!='PosNeg'])\n",
    "train_df['PosNeg'] = train_df['reviewRating'] > 3\n",
    "train_df['predicted_NB'] = y_train_pred\n",
    "train_df['predicted_SVM'] = y_train_predsvm"
   ]
  },
  {
   "cell_type": "code",
   "execution_count": 59,
   "metadata": {},
   "outputs": [
    {
     "data": {
      "text/html": [
       "<div>\n",
       "<style scoped>\n",
       "    .dataframe tbody tr th:only-of-type {\n",
       "        vertical-align: middle;\n",
       "    }\n",
       "\n",
       "    .dataframe tbody tr th {\n",
       "        vertical-align: top;\n",
       "    }\n",
       "\n",
       "    .dataframe thead th {\n",
       "        text-align: right;\n",
       "    }\n",
       "</style>\n",
       "<table border=\"1\" class=\"dataframe\">\n",
       "  <thead>\n",
       "    <tr style=\"text-align: right;\">\n",
       "      <th></th>\n",
       "      <th>author</th>\n",
       "      <th>datePublished</th>\n",
       "      <th>description</th>\n",
       "      <th>reviewRating</th>\n",
       "      <th>name</th>\n",
       "      <th>cuisine</th>\n",
       "      <th>desc_tokenised</th>\n",
       "      <th>PosNeg</th>\n",
       "    </tr>\n",
       "  </thead>\n",
       "  <tbody>\n",
       "    <tr>\n",
       "      <th>0</th>\n",
       "      <td>Dru C.</td>\n",
       "      <td>2012-10-23</td>\n",
       "      <td>I've eaten at the DTF location in Arcadia, CA ...</td>\n",
       "      <td>4</td>\n",
       "      <td>Din Tai Fung</td>\n",
       "      <td>Chinese</td>\n",
       "      <td>[I, 've, eaten, at, the, DTF, location, in, Ar...</td>\n",
       "      <td>True</td>\n",
       "    </tr>\n",
       "    <tr>\n",
       "      <th>1</th>\n",
       "      <td>Tram N.</td>\n",
       "      <td>2016-03-13</td>\n",
       "      <td>Overrated. \\n\\nIf you order 1 or 2 orders of d...</td>\n",
       "      <td>3</td>\n",
       "      <td>Din Tai Fung</td>\n",
       "      <td>Chinese</td>\n",
       "      <td>[Overrated, ., If, you, order, 1, or, 2, order...</td>\n",
       "      <td>False</td>\n",
       "    </tr>\n",
       "    <tr>\n",
       "      <th>2</th>\n",
       "      <td>Tian B.</td>\n",
       "      <td>2016-09-23</td>\n",
       "      <td>Wasn't expecting much as my impression of Chij...</td>\n",
       "      <td>4</td>\n",
       "      <td>El Mero Mero</td>\n",
       "      <td>Mexican</td>\n",
       "      <td>[Was, n't, expecting, much, as, my, impression...</td>\n",
       "      <td>True</td>\n",
       "    </tr>\n",
       "    <tr>\n",
       "      <th>3</th>\n",
       "      <td>John A.</td>\n",
       "      <td>2014-07-22</td>\n",
       "      <td>I loved this place!  Very friendly staff and f...</td>\n",
       "      <td>4</td>\n",
       "      <td>The Curry Cultures</td>\n",
       "      <td>Indian</td>\n",
       "      <td>[I, loved, this, place, !, Very, friendly, sta...</td>\n",
       "      <td>True</td>\n",
       "    </tr>\n",
       "    <tr>\n",
       "      <th>4</th>\n",
       "      <td>Ross N.</td>\n",
       "      <td>2016-05-07</td>\n",
       "      <td>Great spot found on tripadvisor. Terrific curr...</td>\n",
       "      <td>4</td>\n",
       "      <td>The Curry Cultures</td>\n",
       "      <td>Indian</td>\n",
       "      <td>[Great, spot, found, on, tripadvisor, ., Terri...</td>\n",
       "      <td>True</td>\n",
       "    </tr>\n",
       "  </tbody>\n",
       "</table>\n",
       "</div>"
      ],
      "text/plain": [
       "<div>\n",
       "<style scoped>\n",
       "    .dataframe tbody tr th:only-of-type {\n",
       "        vertical-align: middle;\n",
       "    }\n",
       "\n",
       "    .dataframe tbody tr th {\n",
       "        vertical-align: top;\n",
       "    }\n",
       "\n",
       "    .dataframe thead th {\n",
       "        text-align: right;\n",
       "    }\n",
       "</style>\n",
       "<table border=\"1\" class=\"dataframe\">\n",
       "  <thead>\n",
       "    <tr style=\"text-align: right;\">\n",
       "      <th></th>\n",
       "      <th>author</th>\n",
       "      <th>datePublished</th>\n",
       "      <th>description</th>\n",
       "      <th>reviewRating</th>\n",
       "      <th>name</th>\n",
       "      <th>cuisine</th>\n",
       "      <th>desc_tokenised</th>\n",
       "      <th>PosNeg</th>\n",
       "    </tr>\n",
       "  </thead>\n",
       "  <tbody>\n",
       "    <tr>\n",
       "      <th>0</th>\n",
       "      <td>Dru C.</td>\n",
       "      <td>2012-10-23</td>\n",
       "      <td>I've eaten at the DTF location in Arcadia, CA ...</td>\n",
       "      <td>4</td>\n",
       "      <td>Din Tai Fung</td>\n",
       "      <td>Chinese</td>\n",
       "      <td>[I, 've, eaten, at, the, DTF, location, in, Ar...</td>\n",
       "      <td>True</td>\n",
       "    </tr>\n",
       "    <tr>\n",
       "      <th>1</th>\n",
       "      <td>Tram N.</td>\n",
       "      <td>2016-03-13</td>\n",
       "      <td>Overrated. \\n\\nIf you order 1 or 2 orders of d...</td>\n",
       "      <td>3</td>\n",
       "      <td>Din Tai Fung</td>\n",
       "      <td>Chinese</td>\n",
       "      <td>[Overrated, ., If, you, order, 1, or, 2, order...</td>\n",
       "      <td>False</td>\n",
       "    </tr>\n",
       "    <tr>\n",
       "      <th>2</th>\n",
       "      <td>Tian B.</td>\n",
       "      <td>2016-09-23</td>\n",
       "      <td>Wasn't expecting much as my impression of Chij...</td>\n",
       "      <td>4</td>\n",
       "      <td>El Mero Mero</td>\n",
       "      <td>Mexican</td>\n",
       "      <td>[Was, n't, expecting, much, as, my, impression...</td>\n",
       "      <td>True</td>\n",
       "    </tr>\n",
       "    <tr>\n",
       "      <th>3</th>\n",
       "      <td>John A.</td>\n",
       "      <td>2014-07-22</td>\n",
       "      <td>I loved this place!  Very friendly staff and f...</td>\n",
       "      <td>4</td>\n",
       "      <td>The Curry Cultures</td>\n",
       "      <td>Indian</td>\n",
       "      <td>[I, loved, this, place, !, Very, friendly, sta...</td>\n",
       "      <td>True</td>\n",
       "    </tr>\n",
       "    <tr>\n",
       "      <th>4</th>\n",
       "      <td>Ross N.</td>\n",
       "      <td>2016-05-07</td>\n",
       "      <td>Great spot found on tripadvisor. Terrific curr...</td>\n",
       "      <td>4</td>\n",
       "      <td>The Curry Cultures</td>\n",
       "      <td>Indian</td>\n",
       "      <td>[Great, spot, found, on, tripadvisor, ., Terri...</td>\n",
       "      <td>True</td>\n",
       "    </tr>\n",
       "  </tbody>\n",
       "</table>\n",
       "</div>"
      ]
     },
     "execution_count": 59,
     "metadata": {},
     "output_type": "execute_result"
    }
   ],
   "source": [
    "train_df.iloc[:5, :8]"
   ]
  },
  {
   "cell_type": "code",
   "execution_count": 60,
   "metadata": {},
   "outputs": [],
   "source": [
    "train_df.iloc[:5, 8:]"
   ]
  },
  {
   "cell_type": "code",
   "execution_count": 61,
   "metadata": {},
   "outputs": [],
   "source": [
    "test_df['PosNeg'] = test_df['reviewRating'] > 3\n",
    "test_df['predicted_NB'] = y_test_pred\n",
    "test_df['predicted_SVM'] = y_test_predsvm"
   ]
  },
  {
   "cell_type": "code",
   "execution_count": 62,
   "metadata": {},
   "outputs": [
    {
     "data": {
      "text/html": [
       "<div>\n",
       "<style scoped>\n",
       "    .dataframe tbody tr th:only-of-type {\n",
       "        vertical-align: middle;\n",
       "    }\n",
       "\n",
       "    .dataframe tbody tr th {\n",
       "        vertical-align: top;\n",
       "    }\n",
       "\n",
       "    .dataframe thead th {\n",
       "        text-align: right;\n",
       "    }\n",
       "</style>\n",
       "<table border=\"1\" class=\"dataframe\">\n",
       "  <thead>\n",
       "    <tr style=\"text-align: right;\">\n",
       "      <th></th>\n",
       "      <th>description</th>\n",
       "      <th>reviewRating</th>\n",
       "      <th>name</th>\n",
       "      <th>cuisine</th>\n",
       "      <th>desc_tokenised</th>\n",
       "      <th>PosNeg</th>\n",
       "      <th>predicted_NB</th>\n",
       "      <th>predicted_SVM</th>\n",
       "    </tr>\n",
       "  </thead>\n",
       "  <tbody>\n",
       "    <tr>\n",
       "      <th>0</th>\n",
       "      <td>The ambience is quite clean and casual. \\n\\nTh...</td>\n",
       "      <td>2</td>\n",
       "      <td>Osaka Ohsho</td>\n",
       "      <td>Japanese</td>\n",
       "      <td>[The, ambience, is, quite, clean, and, casual,...</td>\n",
       "      <td>False</td>\n",
       "      <td>-1</td>\n",
       "      <td>1</td>\n",
       "    </tr>\n",
       "    <tr>\n",
       "      <th>1</th>\n",
       "      <td>I loved this place!  Very friendly staff and f...</td>\n",
       "      <td>4</td>\n",
       "      <td>The Curry Cultures</td>\n",
       "      <td>Indian</td>\n",
       "      <td>[I, loved, this, place, !, Very, friendly, sta...</td>\n",
       "      <td>True</td>\n",
       "      <td>1</td>\n",
       "      <td>1</td>\n",
       "    </tr>\n",
       "    <tr>\n",
       "      <th>2</th>\n",
       "      <td>Amazing, delicious and taste buds are happy.  ...</td>\n",
       "      <td>5</td>\n",
       "      <td>The Curry Cultures</td>\n",
       "      <td>Indian</td>\n",
       "      <td>[Amazing, ,, delicious, and, taste, buds, are,...</td>\n",
       "      <td>True</td>\n",
       "      <td>1</td>\n",
       "      <td>1</td>\n",
       "    </tr>\n",
       "    <tr>\n",
       "      <th>3</th>\n",
       "      <td>We had a chicken biryani which was fine. The a...</td>\n",
       "      <td>3</td>\n",
       "      <td>The Curry Cultures</td>\n",
       "      <td>Indian</td>\n",
       "      <td>[We, had, a, chicken, biryani, which, was, fin...</td>\n",
       "      <td>False</td>\n",
       "      <td>-1</td>\n",
       "      <td>1</td>\n",
       "    </tr>\n",
       "    <tr>\n",
       "      <th>4</th>\n",
       "      <td>Place is alright. I got few types of tacos.  I...</td>\n",
       "      <td>3</td>\n",
       "      <td>Vatos Urban Tacos</td>\n",
       "      <td>Mexican</td>\n",
       "      <td>[Place, is, alright, ., I, got, few, types, of...</td>\n",
       "      <td>False</td>\n",
       "      <td>-1</td>\n",
       "      <td>1</td>\n",
       "    </tr>\n",
       "  </tbody>\n",
       "</table>\n",
       "</div>"
      ],
      "text/plain": [
       "<div>\n",
       "<style scoped>\n",
       "    .dataframe tbody tr th:only-of-type {\n",
       "        vertical-align: middle;\n",
       "    }\n",
       "\n",
       "    .dataframe tbody tr th {\n",
       "        vertical-align: top;\n",
       "    }\n",
       "\n",
       "    .dataframe thead th {\n",
       "        text-align: right;\n",
       "    }\n",
       "</style>\n",
       "<table border=\"1\" class=\"dataframe\">\n",
       "  <thead>\n",
       "    <tr style=\"text-align: right;\">\n",
       "      <th></th>\n",
       "      <th>description</th>\n",
       "      <th>reviewRating</th>\n",
       "      <th>name</th>\n",
       "      <th>cuisine</th>\n",
       "      <th>desc_tokenised</th>\n",
       "      <th>PosNeg</th>\n",
       "      <th>predicted_NB</th>\n",
       "      <th>predicted_SVM</th>\n",
       "    </tr>\n",
       "  </thead>\n",
       "  <tbody>\n",
       "    <tr>\n",
       "      <th>0</th>\n",
       "      <td>The ambience is quite clean and casual. \\n\\nTh...</td>\n",
       "      <td>2</td>\n",
       "      <td>Osaka Ohsho</td>\n",
       "      <td>Japanese</td>\n",
       "      <td>[The, ambience, is, quite, clean, and, casual,...</td>\n",
       "      <td>False</td>\n",
       "      <td>-1</td>\n",
       "      <td>1</td>\n",
       "    </tr>\n",
       "    <tr>\n",
       "      <th>1</th>\n",
       "      <td>I loved this place!  Very friendly staff and f...</td>\n",
       "      <td>4</td>\n",
       "      <td>The Curry Cultures</td>\n",
       "      <td>Indian</td>\n",
       "      <td>[I, loved, this, place, !, Very, friendly, sta...</td>\n",
       "      <td>True</td>\n",
       "      <td>1</td>\n",
       "      <td>1</td>\n",
       "    </tr>\n",
       "    <tr>\n",
       "      <th>2</th>\n",
       "      <td>Amazing, delicious and taste buds are happy.  ...</td>\n",
       "      <td>5</td>\n",
       "      <td>The Curry Cultures</td>\n",
       "      <td>Indian</td>\n",
       "      <td>[Amazing, ,, delicious, and, taste, buds, are,...</td>\n",
       "      <td>True</td>\n",
       "      <td>1</td>\n",
       "      <td>1</td>\n",
       "    </tr>\n",
       "    <tr>\n",
       "      <th>3</th>\n",
       "      <td>We had a chicken biryani which was fine. The a...</td>\n",
       "      <td>3</td>\n",
       "      <td>The Curry Cultures</td>\n",
       "      <td>Indian</td>\n",
       "      <td>[We, had, a, chicken, biryani, which, was, fin...</td>\n",
       "      <td>False</td>\n",
       "      <td>-1</td>\n",
       "      <td>1</td>\n",
       "    </tr>\n",
       "    <tr>\n",
       "      <th>4</th>\n",
       "      <td>Place is alright. I got few types of tacos.  I...</td>\n",
       "      <td>3</td>\n",
       "      <td>Vatos Urban Tacos</td>\n",
       "      <td>Mexican</td>\n",
       "      <td>[Place, is, alright, ., I, got, few, types, of...</td>\n",
       "      <td>False</td>\n",
       "      <td>-1</td>\n",
       "      <td>1</td>\n",
       "    </tr>\n",
       "  </tbody>\n",
       "</table>\n",
       "</div>"
      ]
     },
     "execution_count": 62,
     "metadata": {},
     "output_type": "execute_result"
    }
   ],
   "source": [
    "test_df.iloc[:5, 2:]"
   ]
  },
  {
   "cell_type": "code",
   "execution_count": 63,
   "metadata": {},
   "outputs": [],
   "source": [
    "# Save to csv file\n",
    "train_df.to_csv(os.path.join('data', 'results', 'train_scored.csv'), index=False)\n",
    "test_df.to_csv(os.path.join('data', 'results', 'test_scored.csv'), index=False)"
   ]
  },
  {
   "cell_type": "code",
   "execution_count": 64,
   "metadata": {},
   "outputs": [
    {
     "data": {
      "text/plain": [
       "{'Café Iguana': Int64Index([  9,  20,  30,  59,  80,  99, 110, 118, 129, 180, 185, 224, 232,\n             238, 251, 289, 326, 344, 368, 382, 383, 395, 425, 441, 444, 454,\n             463, 497, 506, 525, 532, 536, 554, 593, 605, 643],\n            dtype='int64'),\n 'Din Tai Fung': Int64Index([  0,   1,  32,  42,  62,  67,  69,  84, 111, 125, 130, 135, 153,\n             189, 197, 239, 253, 279, 290, 313, 349, 367, 413, 419, 438, 451,\n             468, 488, 502, 505, 553, 567, 570, 583, 585, 596, 601, 602, 630,\n             633, 635, 646, 652],\n            dtype='int64'),\n 'El Mero Mero': Int64Index([  2,  17,  18,  46,  49, 108, 121, 144, 167, 188, 198, 206, 208,\n             225, 246, 299, 307, 315, 403, 407, 418, 422, 455, 462, 489, 521,\n             535, 541, 545, 642],\n            dtype='int64'),\n 'First Thai Food': Int64Index([16, 35, 132, 210, 248, 266, 327, 355, 432, 453], dtype='int64'),\n 'Garibaldi Italian Restaurant & Bar': Int64Index([48, 89, 114, 184, 194, 204, 212, 311, 321, 459, 496, 498, 507, 509,\n             523],\n            dtype='int64'),\n 'Jai Thai': Int64Index([ 36,  39,  97, 136, 236, 244, 271, 384, 402, 464, 467, 480, 524,\n             559, 566, 594, 623],\n            dtype='int64'),\n 'Khansama Tandoori': Int64Index([ 21,  26,  52,  57,  76,  79,  83,  87,  93, 102, 112, 120, 140,\n             147, 152, 156, 158, 171, 233, 234, 258, 278, 325, 330, 352, 357,\n             358, 360, 361, 377, 379, 389, 426, 434, 442, 469, 474, 478, 486,\n             487, 500, 501, 504, 518, 537, 547, 569, 574, 586, 587, 589, 622,\n             627, 638, 651, 653, 659],\n            dtype='int64'),\n 'Lei Garden': Int64Index([70, 104, 131, 155, 201, 256, 269, 356, 372, 414, 421, 470, 492,\n             513, 540],\n            dtype='int64'),\n 'Menya Musashi': Int64Index([113, 117, 138, 162, 174, 203, 250, 283, 295, 298, 316, 328, 363,\n             466, 491, 562],\n            dtype='int64'),\n 'Osaka Ohsho': Int64Index([31, 34, 43, 122, 126, 168, 183, 213, 333, 388, 445, 549, 555, 578], dtype='int64'),\n 'Piedra Negra': Int64Index([ 37,  51,  66, 115, 159, 202, 211, 220, 223, 230, 252, 280, 332,\n             335, 370, 393, 440, 448, 457, 477, 519, 530, 538, 561, 564, 599,\n             600, 615, 620, 624, 634],\n            dtype='int64'),\n 'Prego': Int64Index([ 65,  77,  85, 139, 177, 195, 216, 241, 245, 267, 273, 305, 346,\n             350, 374, 380, 410, 542, 579, 607, 650],\n            dtype='int64'),\n 'Standing Sushi Bar': Int64Index([ 47,  54,  74,  78,  86, 157, 179, 288, 409, 417, 423, 461, 490,\n             510, 511, 515, 581, 592, 598, 608, 609, 612, 636, 637, 644],\n            dtype='int64'),\n 'The Curry Cultures': Int64Index([  3,   4,   5,  11,  15,  19,  25,  27,  28,  29,\n             ...\n             606, 610, 611, 618, 625, 632, 645, 649, 657, 660],\n            dtype='int64', length=137),\n 'The Sushi Bar': Int64Index([ 14,  22,  33,  38,  45,  88, 116, 143, 166, 176, 205, 243, 263,\n             275, 322, 336, 337, 366, 386, 406, 427, 482, 484, 499, 528, 588,\n             626, 628, 654, 655],\n            dtype='int64'),\n 'Tim Ho Wan': Int64Index([109, 119, 124, 148, 151, 221, 226, 282, 296, 308, 310, 339, 351,\n             353, 401, 431, 447, 472, 550, 557, 580, 621],\n            dtype='int64'),\n 'Trattoria Lafiandra': Int64Index([7, 8, 40, 71, 161, 172, 306, 334, 341, 348, 494, 503, 546, 552,\n             595],\n            dtype='int64'),\n 'Vatos Urban Tacos': Int64Index([  6,  12,  13,  23,  24,  56,  61,  68,  75,  82,  91,  92, 101,\n             137, 141, 150, 154, 160, 163, 170, 173, 192, 196, 240, 242, 249,\n             259, 261, 285, 294, 302, 303, 314, 318, 343, 347, 354, 359, 362,\n             387, 390, 394, 397, 398, 400, 405, 408, 420, 428, 436, 443, 449,\n             450, 452, 456, 460, 465, 473, 483, 516, 529, 533, 572, 575, 604,\n             616, 617, 619, 631, 640, 641, 648, 656],\n            dtype='int64'),\n 'Yhingthai Palace': Int64Index([64, 72, 95, 106, 165, 199, 217, 255, 272, 274, 292, 476, 481, 527,\n             565],\n            dtype='int64'),\n 'Zam Zam Restaurant': Int64Index([ 10,  50,  60,  94, 107, 123, 127, 175, 178, 182, 218, 247, 264,\n             265, 281, 284, 286, 293, 320, 329, 338, 345, 369, 385, 485, 495,\n             520, 539, 548, 551, 558, 571, 590, 613, 614, 629, 639, 647, 658],\n            dtype='int64')}"
      ]
     },
     "execution_count": 64,
     "metadata": {},
     "output_type": "execute_result"
    }
   ],
   "source": [
    "train_df.groupby('name').groups"
   ]
  },
  {
   "cell_type": "code",
   "execution_count": 65,
   "metadata": {},
   "outputs": [],
   "source": [
    "# Create json\n",
    "train_json = {}\n",
    "\n",
    "cuisine_group = train_df.groupby('cuisine').groups\n",
    "\n",
    "for a_cuisine in cuisine_group.keys():\n",
    "\n",
    "    restaurant_group = train_df.loc[cuisine_group[a_cuisine], :].groupby('name').groups\n",
    "    cuisine_list = []\n",
    "    for a_restaurant in restaurant_group.keys():\n",
    "        d = {}\n",
    "        d['name'] = a_restaurant\n",
    "        reviews_list = train_df.loc[restaurant_group[a_restaurant], ['description', 'predicted_NB', 'predicted_SVM']].to_dict('records')\n",
    "        d['nb_reviews'] = len(reviews_list)\n",
    "        d['reviews'] = reviews_list\n",
    "        cuisine_list.append(d)\n",
    "    train_json[a_cuisine] = cuisine_list"
   ]
  },
  {
   "cell_type": "code",
   "execution_count": 66,
   "metadata": {},
   "outputs": [
    {
     "data": {
      "text/plain": [
       "dict_keys(['Chinese', 'French', 'Indian', 'Italian', 'Japanese', 'Mexican', 'Thai'])"
      ]
     },
     "execution_count": 66,
     "metadata": {},
     "output_type": "execute_result"
    }
   ],
   "source": [
    "train_json.keys()"
   ]
  },
  {
   "cell_type": "code",
   "execution_count": 67,
   "metadata": {},
   "outputs": [
    {
     "data": {
      "text/plain": [
       "3"
      ]
     },
     "execution_count": 67,
     "metadata": {},
     "output_type": "execute_result"
    }
   ],
   "source": [
    "len(train_json['Chinese'])"
   ]
  },
  {
   "cell_type": "code",
   "execution_count": 68,
   "metadata": {},
   "outputs": [
    {
     "data": {
      "text/plain": [
       "['Din Tai Fung', 'Lei Garden', 'Tim Ho Wan']"
      ]
     },
     "execution_count": 68,
     "metadata": {},
     "output_type": "execute_result"
    }
   ],
   "source": [
    "[ i['name'] for i in train_json['Chinese'] ]"
   ]
  },
  {
   "cell_type": "code",
   "execution_count": 69,
   "metadata": {},
   "outputs": [
    {
     "name": "stdout",
     "output_type": "stream",
     "text": [
      "['Din Tai Fung', 'Lei Garden', 'Tim Ho Wan']\n['Prego']\n['Khansama Tandoori', 'The Curry Cultures', 'Zam Zam Restaurant']\n['Garibaldi Italian Restaurant & Bar', 'Trattoria Lafiandra']\n['Menya Musashi', 'Osaka Ohsho', 'Standing Sushi Bar', 'The Sushi Bar']\n['Café Iguana', 'El Mero Mero', 'Piedra Negra', 'Vatos Urban Tacos']\n['First Thai Food', 'Jai Thai', 'Yhingthai Palace']\n"
     ]
    }
   ],
   "source": [
    "for i in train_json.keys():\n",
    "    print([ j['name'] for j in train_json[i] ])"
   ]
  },
  {
   "cell_type": "code",
   "execution_count": 70,
   "metadata": {},
   "outputs": [],
   "source": [
    "with open(os.path.join('data', 'results', 'day2<genesis>-train.json'), 'w') as outfile:\n",
    "    json.dump(train_json, outfile)"
   ]
  },
  {
   "cell_type": "code",
   "execution_count": 71,
   "metadata": {},
   "outputs": [],
   "source": []
  },
  {
   "cell_type": "code",
   "execution_count": 71,
   "metadata": {},
   "outputs": [],
   "source": []
  }
 ],
 "metadata": {
  "kernelspec": {
   "display_name": "Python 2",
   "language": "python",
   "name": "python2"
  },
  "language_info": {
   "codemirror_mode": {
    "name": "ipython",
    "version": 2
   },
   "file_extension": ".py",
   "mimetype": "text/x-python",
   "name": "python",
   "nbconvert_exporter": "python",
   "pygments_lexer": "ipython2",
   "version": "2.7.6"
  }
 },
 "nbformat": 4,
 "nbformat_minor": 0
}
