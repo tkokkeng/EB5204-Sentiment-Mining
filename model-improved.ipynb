{
 "cells": [
  {
   "cell_type": "markdown",
   "metadata": {},
   "source": [
    "# # EB5204 New Media & Sentiment Mining - Naive Bayes and SVM Classifier"
   ]
  },
  {
   "cell_type": "code",
   "execution_count": 157,
   "metadata": {
    "collapsed": true
   },
   "outputs": [],
   "source": [
    "%matplotlib inline\n",
    "import matplotlib.pyplot as plt\n",
    "import json\n",
    "import os\n",
    "import pandas as pd\n",
    "from nltk.tokenize import word_tokenize\n",
    "from nltk.classify import NaiveBayesClassifier\n",
    "from nltk import pos_tag\n",
    "from sklearn.metrics import classification_report\n",
    "import numpy as np\n",
    "import itertools\n",
    "from sklearn.feature_extraction.text import TfidfVectorizer\n",
    "from sklearn.svm import SVC\n",
    "from __future__ import unicode_literals\n",
    "import spacy\n",
    "import re"
   ]
  },
  {
   "cell_type": "markdown",
   "metadata": {},
   "source": [
    "### Load 1 review dataset"
   ]
  },
  {
   "cell_type": "code",
   "execution_count": 2,
   "metadata": {},
   "outputs": [],
   "source": [
    "with open(os.path.join('data', 'reviews', 'yelp_menya-musashi-singapore?start=.json')) as read_file:\n",
    "    reviews = json.load(read_file)"
   ]
  },
  {
   "cell_type": "code",
   "execution_count": 3,
   "metadata": {},
   "outputs": [
    {
     "data": {
      "text/plain": [
       "18"
      ]
     },
     "execution_count": 3,
     "metadata": {},
     "output_type": "execute_result"
    }
   ],
   "source": [
    "len(reviews['review'])"
   ]
  },
  {
   "cell_type": "code",
   "execution_count": 4,
   "metadata": {},
   "outputs": [
    {
     "data": {
      "text/plain": [
       "{'author': 'Conan H.',\n 'datePublished': '2013-01-22',\n 'description': \"Its above average as ramen goes - and a real value meal if you order the tsukemen because you can order up to 5 portions of noodles for the same price. Perfect for the hungry hippo.\\n\\nThe black soup comes recommended. Service is typical Singaporean nonsense.\\n\\nI lived in Tokyo for over a decade and am a purveyor of good ramen. 5 years ago there were only mediocre places. Now you have this, Ippudou and Tonkotsu King. I'd say the latter is one of the best.\",\n 'reviewRating': {'ratingValue': 4}}"
      ]
     },
     "execution_count": 4,
     "metadata": {},
     "output_type": "execute_result"
    }
   ],
   "source": [
    "reviews['review'][0]"
   ]
  },
  {
   "cell_type": "code",
   "execution_count": 5,
   "metadata": {},
   "outputs": [
    {
     "data": {
      "text/plain": [
       "{'@type': 'AggregateRating', 'ratingValue': 3.5, 'reviewCount': 18}"
      ]
     },
     "execution_count": 5,
     "metadata": {},
     "output_type": "execute_result"
    }
   ],
   "source": [
    "reviews['aggregateRating']"
   ]
  },
  {
   "cell_type": "markdown",
   "metadata": {},
   "source": [
    "### Load all the reviews"
   ]
  },
  {
   "cell_type": "code",
   "execution_count": 6,
   "metadata": {},
   "outputs": [
    {
     "name": "stdout",
     "output_type": "stream",
     "text": [
      "yelp_wild-honey-singapore?start=.json\nyelp_imperial-treasure-super-peking-duck-singapore?start=.json\nyelp_anti-dote-singapore?start=.json\nyelp_trattoria-gallo-d-oro-singapore?start=.json\nyelp_mortons-the-steak-house-singapore?start=.json\nyelp_peperoni-pizzeria-singapore-8?start=.json\nyelp_candlenut-singapore-2?start=.json\nyelp_food-for-thought-singapore?start=.json\nyelp_madrinaa-italiano-singapore?start=.json\nyelp_robolots-singapore?start=.json\nyelp_corner-house-singapore?start=.json\nyelp_cut-singapore-2?start=.json\nyelp_long-phung-vietnamese-restaurant-singapore?start=.json\nyelp_first-thai-food-singapore?start=.json\nyelp_two-men-bagel-house-singapore?start=.json\nyelp_little-saigon-singapore?start=.json\nyelp_ikyu-singapore?start=.json\nyelp_silver-kris-lounge-singapore?start=.json\nyelp_28-hong-kong-street-singapore?start=.json\nyelp_le-bistrot-du-sommelier-singapore?start=.json\nyelp_jones-the-grocer-singapore-3?start=.json\nyelp_jaan-singapore?start=.json\nyelp_trattoria-lafiandra-singapore-2?start=.json\nyelp_bar-stories-singapore-2?start=.json\nyelp_khansama-tandoori-singapore?osq=indian?start=.json\nyelp_dulukala-peranakan-house-singapore?start=.json\nyelp_tawandang-microbrewery-singapore?start=.json\nyelp_the-auld-alliance-singapore-2?start=.json\nyelp_montana-brew-bar-singapore?start=.json\nyelp_freshly-baked-by-le-bijoux-singapore?start=.json\nyelp_fatboys-the-burger-bar-singapore-3?start=.json\nyelp_the-populus-coffee-and-food-co-singapore?start=.json\nyelp_chilis-singapore-3?start=.json\nyelp_brewerkz-singapore-2?start=.json\nyelp_potato-head-folk-singapore-2?start=.json\nyelp_new-ubin-seafood-singapore?start=.json\nyelp_hooters-singapore?start=.json\nyelp_the-assembly-ground-singapore?start=.json\nyelp_the-white-rabbit-singapore?start=.json\nyelp_the-coastal-settlement-singapore?start=.json\nyelp_zam-zam-restaurant-singapore?osq=indian?start=.json\nyelp_the-line-singapore?start=.json\nyelp_istanbul-grills-and-cafe-singapore?start=.json\nyelp_burger-joint-singapore?start=.json\nyelp_morganfields-singapore?start=.json\nyelp_national-kitchen-by-violet-oon-singapore-2?start=.json\nyelp_namnam-noodle-bar-singapore?start=.json\nyelp_garibaldi-italian-restaurant-and-bar-singapore-2?start=.json\nyelp_mrs-pho-singapore?start=.json\nyelp_veganburg-singapore?start=.json\nyelp_oriole-coffee-bar-singapore-2?start=.json\nyelp_level33-singapore?start=.json\nyelp_yhingthai-palace-singapore-2?start=.json\nyelp_tolidos-espresso-nook-singapore?start=.json\nyelp_mos-cafe-singapore?start=.json\nyelp_violet-oons-kitchen-singapore?start=.json\nyelp_jai-thai-singapore?start=.json\nyelp_arbite-singapore?start=.json\nyelp_club-street-social-singapore-3?start=.json\nyelp_ps-cafe-singapore-8?start=.json\nyelp_chilis-singapore?start=.json\nyelp_w39-singapore?start=.json\nyelp_salt-tapas-and-bar-by-luke-mangan-singapore?start=.json\nyelp_omakase-burger-singapore-3?start=.json\nyelp_outback-steakhouse-downtown-core?start=.json\nyelp_alfresco-gusto-singapore?start=.json\nyelp_andiamo-gelateria-singapore?start=.json\nyelp_zouk-singapore-singapore?start=.json\nyelp_pasta-fresca-da-salvatore-singapore-7?start=.json\nyelp_blue-ginger-singapore?start=.json\nyelp_black-angus-steakhouse-singapore?start=.json\nyelp_el-mero-mero-singapore?start=.json\nyelp_the-university-club-lounge-and-dining-room-singapore?start=.json\nyelp_vatos-urban-tacos-singapore?start=.json\nyelp_harrys-singapore-8?start=.json\nyelp_comnam-singapore?start=.json\nyelp_tobys-estate-singapore?start=.json\nyelp_cafe-by-the-quad-singapore?start=.json\nyelp_antoinette-singapore?start=.json\nyelp_the-black-swan-singapore?start=.json\nyelp_boomarang-singapore?start=.json\nyelp_saveur-singapore?start=.json\nyelp_mondo-mio-singapore-singapore?start=.json\nyelp_super-loco-singapore?start=.json\nyelp_the-long-bar-singapore?start=.json\nyelp_the-boiler-seafood-bar-and-beer-singapore?start=.json\nyelp_loof-singapore?start=.json\nyelp_canelé-pâtisserie-chocolaterie-singapore-3?start=.json\nyelp_jigger-and-pony-singapore?start=.json\nyelp_the-market-grill-singapore?start=.json\nyelp_prego-singapore?start=.json\nyelp_artichoke-cafe-and-bar-singapore?start=.json\nyelp_hard-rock-cafe-singapore-2?start=.json\nyelp_lei-garden-singapore-2?start=.json\nyelp_the-clifford-pier-singapore?start=.json\nyelp_quentins-singapore-2?start=.json\nyelp_good-o-times-singapore?start=.json\nyelp_fat-cow-singapore?start=.json\nyelp_meat-smith-singapore-2?start=.json\nyelp_iggys-singapore?start=.json\nyelp_ivins-nyonya-specialist-singapore?start=.json\nyelp_straits-cafe-singapore?start=.json\nyelp_chilli-padi-nonya-singapore?start=.json\nyelp_lawrys-the-prime-rib-singapore-singapore?start=.json\nyelp_the-burger-bar-singapore-2?start=.json\nyelp_clinton-street-baking-company-and-restaurant-singapore?start=.json\nyelp_the-good-beer-company-singapore-2?start=.json\nyelp_paul-singapore-3?start=.json\nyelp_guzman-y-gomez-singapore-5?start=.json\nyelp_manhattan-singapore?start=.json\nyelp_straitskitchen-singapore?start=.json\nyelp_piedra-negra-singapore?start=.json\nyelp_el-patio-mexican-restaurant-and-wine-bar-singapore?start=.json\nyelp_hatched-singapore-2?start=.json\nyelp_25-degrees-singapore?start=.json\nyelp_komala-vilas-restaurant-singapore?osq=indian?start=.json\nyelp_the-curry-cultures-no-title?osq=indian?start=.json\nyelp_grub-singapore?start=.json\nyelp_chicken-up-singapore?start=.json\nyelp_the-lokal-singapore?start=.json\nyelp_delifrance-singapore?start=.json\nyelp_boomarang-bistro-and-bar-singapore?start=.json\nyelp_osaka-ohsho-singapore?start=.json\nyelp_the-steakhouse-singapore?start=.json\nyelp_da-paolo-bistrobar-singapore-2?start=.json\nyelp_pastamore-italian-restaurant-singapore?start=.json\nyelp_privé-café-singapore?start=.json\nyelp_the-pelican-seafood-bar-and-grill-singapore?start=.json\nyelp_whole-earth-singapore?start=.json\nyelp_menya-musashi-singapore?start=.json\nyelp_nassim-hill-bakery-bistro-bar-singapore?start=.json\nyelp_jing-hua-restaurant-at-the-qun-zhong-eating-house-singapore?start=.json\nyelp_db-bistro-moderne-singapore?start=.json\nyelp_overeasy-singapore?start=.json\nyelp_chopsuey-cafe-singapore?start=.json\nyelp_din-tai-fung-singapore-4?start=.json\nyelp_the-bar-at-mortons-singapore?start=.json\nyelp_penny-university-singapore?start=.json\nyelp_del-bistro-107-singapore?start=.json\nyelp_tim-ho-wan-singapore-7?start=.json\nyelp_namnam-noodle-bar-wheelock-place-singapore?start=.json\nyelp_smokeys-bbq-singapore?start=.json\nyelp_the-square-singapore?start=.json\nyelp_trattoria-italian-kitchen-singapore?start=.json\nyelp_saizeriya-ristorante-e-caffe-singapore-4?start=.json\nyelp_caf%C3%A9-iguana-singapore-2?start=.json\nyelp_privé-chijmes-singapore-2?start=.json\nyelp_paul-bakery-tanglin-mall-singapore?start=.json\nyelp_sandwich-saigon-cafe-singapore?start=.json\nyelp_mex-out-singapore?start=.json\nyelp_standing-sushi-bar-singapore?start=.json\nyelp_the-beast-singapore?start=.json\nyelp_cé-la-vi-club-lounge-singapore?start=.json\nyelp_bread-street-kitchen-singapore?start=.json\nyelp_high-society-singapore-2?start=.json\n"
     ]
    }
   ],
   "source": [
    "reviews = []\n",
    "for afile in os.listdir(os.path.join('data', 'reviews')):\n",
    "    if os.path.isfile(os.path.join('data', 'reviews', afile)):\n",
    "        print(afile)\n",
    "        with open(os.path.join('data', 'reviews', afile)) as read_file:\n",
    "            reviews.append(json.load(read_file))"
   ]
  },
  {
   "cell_type": "code",
   "execution_count": 7,
   "metadata": {},
   "outputs": [
    {
     "data": {
      "text/plain": [
       "155"
      ]
     },
     "execution_count": 7,
     "metadata": {},
     "output_type": "execute_result"
    }
   ],
   "source": [
    "len(reviews)"
   ]
  },
  {
   "cell_type": "markdown",
   "metadata": {},
   "source": [
    "### Check the total number of reviews"
   ]
  },
  {
   "cell_type": "code",
   "execution_count": 8,
   "metadata": {},
   "outputs": [
    {
     "data": {
      "text/plain": [
       "2472"
      ]
     },
     "execution_count": 8,
     "metadata": {},
     "output_type": "execute_result"
    }
   ],
   "source": [
    "total_reviews = sum([ len(i['review']) for i in reviews ])\n",
    "total_reviews"
   ]
  },
  {
   "cell_type": "code",
   "execution_count": 9,
   "metadata": {},
   "outputs": [
    {
     "data": {
      "text/plain": [
       "dict_keys(['aggregateRating', 'review', 'servesCuisine', 'priceRange', 'name', 'address', '@context', 'image', '@type', 'telephone'])"
      ]
     },
     "execution_count": 9,
     "metadata": {},
     "output_type": "execute_result"
    }
   ],
   "source": [
    "reviews[2].keys()"
   ]
  },
  {
   "cell_type": "code",
   "execution_count": 10,
   "metadata": {},
   "outputs": [
    {
     "data": {
      "text/plain": [
       "{'author': 'Tin C.',\n 'datePublished': '2015-02-21',\n 'description': 'Order at cash desk and pay directly. Cash and credit card works. Staff is neural to customers - neither overly friendly nor rude, mostly preoccupied with cleaning and serving the dishes.\\nFood arrives rather quick after paying at the cash desk. My pho was okay but nothing fancy. Asked for extra herbs and bean sprouts - still trying to find them in my bowl... The iced jade tea needed a lot of sugar before it was drinkable.',\n 'reviewRating': {'ratingValue': 3}}"
      ]
     },
     "execution_count": 10,
     "metadata": {},
     "output_type": "execute_result"
    }
   ],
   "source": [
    "reviews[2]['review'][7]"
   ]
  },
  {
   "cell_type": "code",
   "execution_count": 11,
   "metadata": {},
   "outputs": [
    {
     "data": {
      "text/plain": [
       "'Namnam Noodle Bar'"
      ]
     },
     "execution_count": 11,
     "metadata": {},
     "output_type": "execute_result"
    }
   ],
   "source": [
    "reviews[2]['name']"
   ]
  },
  {
   "cell_type": "code",
   "execution_count": 12,
   "metadata": {},
   "outputs": [
    {
     "data": {
      "text/plain": [
       "'Vietnamese'"
      ]
     },
     "execution_count": 12,
     "metadata": {},
     "output_type": "execute_result"
    }
   ],
   "source": [
    "reviews[2]['servesCuisine']"
   ]
  },
  {
   "cell_type": "markdown",
   "metadata": {},
   "source": [
    "### Put the reviews into a data frame"
   ]
  },
  {
   "cell_type": "code",
   "execution_count": 13,
   "metadata": {},
   "outputs": [
    {
     "data": {
      "text/html": [
       "<div>\n",
       "<style scoped>\n",
       "    .dataframe tbody tr th:only-of-type {\n",
       "        vertical-align: middle;\n",
       "    }\n",
       "\n",
       "    .dataframe tbody tr th {\n",
       "        vertical-align: top;\n",
       "    }\n",
       "\n",
       "    .dataframe thead th {\n",
       "        text-align: right;\n",
       "    }\n",
       "</style>\n",
       "<table border=\"1\" class=\"dataframe\">\n",
       "  <thead>\n",
       "    <tr style=\"text-align: right;\">\n",
       "      <th></th>\n",
       "      <th>author</th>\n",
       "      <th>datePublished</th>\n",
       "      <th>description</th>\n",
       "      <th>reviewRating</th>\n",
       "      <th>name</th>\n",
       "      <th>cuisine</th>\n",
       "    </tr>\n",
       "  </thead>\n",
       "  <tbody>\n",
       "    <tr>\n",
       "      <th>0</th>\n",
       "      <td>怡</td>\n",
       "      <td>2018-08-05</td>\n",
       "      <td>Beef ball is good! Try the beef combo pho. The...</td>\n",
       "      <td>4</td>\n",
       "      <td>Namnam Noodle Bar</td>\n",
       "      <td>Vietnamese</td>\n",
       "    </tr>\n",
       "    <tr>\n",
       "      <th>1</th>\n",
       "      <td>K C.</td>\n",
       "      <td>2018-03-09</td>\n",
       "      <td>Egg noodle with prawns and spare rib- deliciou...</td>\n",
       "      <td>4</td>\n",
       "      <td>Namnam Noodle Bar</td>\n",
       "      <td>Vietnamese</td>\n",
       "    </tr>\n",
       "    <tr>\n",
       "      <th>2</th>\n",
       "      <td>Nicola L.</td>\n",
       "      <td>2016-10-13</td>\n",
       "      <td>Egg noodles with prawns and pork rib ($11) - 3...</td>\n",
       "      <td>3</td>\n",
       "      <td>Namnam Noodle Bar</td>\n",
       "      <td>Vietnamese</td>\n",
       "    </tr>\n",
       "    <tr>\n",
       "      <th>3</th>\n",
       "      <td>Sisyliana H.</td>\n",
       "      <td>2016-07-02</td>\n",
       "      <td>Banh mi is an amazing sandwich... Now I have h...</td>\n",
       "      <td>4</td>\n",
       "      <td>Namnam Noodle Bar</td>\n",
       "      <td>Vietnamese</td>\n",
       "    </tr>\n",
       "    <tr>\n",
       "      <th>4</th>\n",
       "      <td>Jason L.</td>\n",
       "      <td>2014-11-13</td>\n",
       "      <td>Have been seeing Nam Nam with ridiculously lon...</td>\n",
       "      <td>3</td>\n",
       "      <td>Namnam Noodle Bar</td>\n",
       "      <td>Vietnamese</td>\n",
       "    </tr>\n",
       "  </tbody>\n",
       "</table>\n",
       "</div>"
      ],
      "text/plain": [
       "<div>\n",
       "<style scoped>\n",
       "    .dataframe tbody tr th:only-of-type {\n",
       "        vertical-align: middle;\n",
       "    }\n",
       "\n",
       "    .dataframe tbody tr th {\n",
       "        vertical-align: top;\n",
       "    }\n",
       "\n",
       "    .dataframe thead th {\n",
       "        text-align: right;\n",
       "    }\n",
       "</style>\n",
       "<table border=\"1\" class=\"dataframe\">\n",
       "  <thead>\n",
       "    <tr style=\"text-align: right;\">\n",
       "      <th></th>\n",
       "      <th>author</th>\n",
       "      <th>datePublished</th>\n",
       "      <th>description</th>\n",
       "      <th>reviewRating</th>\n",
       "      <th>name</th>\n",
       "      <th>cuisine</th>\n",
       "    </tr>\n",
       "  </thead>\n",
       "  <tbody>\n",
       "    <tr>\n",
       "      <th>0</th>\n",
       "      <td>怡</td>\n",
       "      <td>2018-08-05</td>\n",
       "      <td>Beef ball is good! Try the beef combo pho. The...</td>\n",
       "      <td>4</td>\n",
       "      <td>Namnam Noodle Bar</td>\n",
       "      <td>Vietnamese</td>\n",
       "    </tr>\n",
       "    <tr>\n",
       "      <th>1</th>\n",
       "      <td>K C.</td>\n",
       "      <td>2018-03-09</td>\n",
       "      <td>Egg noodle with prawns and spare rib- deliciou...</td>\n",
       "      <td>4</td>\n",
       "      <td>Namnam Noodle Bar</td>\n",
       "      <td>Vietnamese</td>\n",
       "    </tr>\n",
       "    <tr>\n",
       "      <th>2</th>\n",
       "      <td>Nicola L.</td>\n",
       "      <td>2016-10-13</td>\n",
       "      <td>Egg noodles with prawns and pork rib ($11) - 3...</td>\n",
       "      <td>3</td>\n",
       "      <td>Namnam Noodle Bar</td>\n",
       "      <td>Vietnamese</td>\n",
       "    </tr>\n",
       "    <tr>\n",
       "      <th>3</th>\n",
       "      <td>Sisyliana H.</td>\n",
       "      <td>2016-07-02</td>\n",
       "      <td>Banh mi is an amazing sandwich... Now I have h...</td>\n",
       "      <td>4</td>\n",
       "      <td>Namnam Noodle Bar</td>\n",
       "      <td>Vietnamese</td>\n",
       "    </tr>\n",
       "    <tr>\n",
       "      <th>4</th>\n",
       "      <td>Jason L.</td>\n",
       "      <td>2014-11-13</td>\n",
       "      <td>Have been seeing Nam Nam with ridiculously lon...</td>\n",
       "      <td>3</td>\n",
       "      <td>Namnam Noodle Bar</td>\n",
       "      <td>Vietnamese</td>\n",
       "    </tr>\n",
       "  </tbody>\n",
       "</table>\n",
       "</div>"
      ]
     },
     "execution_count": 13,
     "metadata": {},
     "output_type": "execute_result"
    }
   ],
   "source": [
    "df_list = []\n",
    "for a_restaurant in reviews:\n",
    "    \n",
    "    a_df = pd.DataFrame(a_restaurant['review'])\n",
    "    a_df['reviewRating'] = a_df['reviewRating'].apply(lambda x: x['ratingValue'])\n",
    "    a_df['name'] = a_restaurant['name']\n",
    "    a_df['cuisine'] = a_restaurant['servesCuisine']\n",
    "    df_list.append(a_df)\n",
    "\n",
    "reviews_df = pd.concat(df_list)\n",
    "reviews_df.reset_index(drop=True, inplace=True)\n",
    "reviews_df.head()"
   ]
  },
  {
   "cell_type": "code",
   "execution_count": 14,
   "metadata": {},
   "outputs": [
    {
     "data": {
      "text/plain": [
       "2472"
      ]
     },
     "execution_count": 14,
     "metadata": {},
     "output_type": "execute_result"
    }
   ],
   "source": [
    "len(reviews_df)"
   ]
  },
  {
   "cell_type": "code",
   "execution_count": 15,
   "metadata": {},
   "outputs": [
    {
     "data": {
      "text/plain": [
       "cuisine\nAsian Fusion            70\nBistros                  4\nCafes                  405\nChinese                 84\nDim Sum                 37\nFrench                 146\nIndian                 244\nItalian                 30\nJapanese                53\nMalaysian                2\nMexican                 78\nModern European         82\nRamen                   18\nShanghainese            43\nSingaporean             15\nTapas/Small Plates      40\nThai                    71\nVietnamese            1050\ndtype: int64"
      ]
     },
     "execution_count": 15,
     "metadata": {},
     "output_type": "execute_result"
    }
   ],
   "source": [
    "reviews_df.groupby('cuisine').size()"
   ]
  },
  {
   "cell_type": "markdown",
   "metadata": {},
   "source": [
    "### Convert the ratings to positive and negative"
   ]
  },
  {
   "cell_type": "code",
   "execution_count": 16,
   "metadata": {},
   "outputs": [
    {
     "data": {
      "text/html": [
       "<div>\n",
       "<style scoped>\n",
       "    .dataframe tbody tr th:only-of-type {\n",
       "        vertical-align: middle;\n",
       "    }\n",
       "\n",
       "    .dataframe tbody tr th {\n",
       "        vertical-align: top;\n",
       "    }\n",
       "\n",
       "    .dataframe thead th {\n",
       "        text-align: right;\n",
       "    }\n",
       "</style>\n",
       "<table border=\"1\" class=\"dataframe\">\n",
       "  <thead>\n",
       "    <tr style=\"text-align: right;\">\n",
       "      <th></th>\n",
       "      <th>author</th>\n",
       "      <th>datePublished</th>\n",
       "      <th>description</th>\n",
       "      <th>reviewRating</th>\n",
       "      <th>name</th>\n",
       "      <th>cuisine</th>\n",
       "      <th>PosNeg</th>\n",
       "    </tr>\n",
       "  </thead>\n",
       "  <tbody>\n",
       "    <tr>\n",
       "      <th>0</th>\n",
       "      <td>怡</td>\n",
       "      <td>2018-08-05</td>\n",
       "      <td>Beef ball is good! Try the beef combo pho. The...</td>\n",
       "      <td>4</td>\n",
       "      <td>Namnam Noodle Bar</td>\n",
       "      <td>Vietnamese</td>\n",
       "      <td>1</td>\n",
       "    </tr>\n",
       "    <tr>\n",
       "      <th>1</th>\n",
       "      <td>K C.</td>\n",
       "      <td>2018-03-09</td>\n",
       "      <td>Egg noodle with prawns and spare rib- deliciou...</td>\n",
       "      <td>4</td>\n",
       "      <td>Namnam Noodle Bar</td>\n",
       "      <td>Vietnamese</td>\n",
       "      <td>1</td>\n",
       "    </tr>\n",
       "    <tr>\n",
       "      <th>2</th>\n",
       "      <td>Nicola L.</td>\n",
       "      <td>2016-10-13</td>\n",
       "      <td>Egg noodles with prawns and pork rib ($11) - 3...</td>\n",
       "      <td>3</td>\n",
       "      <td>Namnam Noodle Bar</td>\n",
       "      <td>Vietnamese</td>\n",
       "      <td>-1</td>\n",
       "    </tr>\n",
       "    <tr>\n",
       "      <th>3</th>\n",
       "      <td>Sisyliana H.</td>\n",
       "      <td>2016-07-02</td>\n",
       "      <td>Banh mi is an amazing sandwich... Now I have h...</td>\n",
       "      <td>4</td>\n",
       "      <td>Namnam Noodle Bar</td>\n",
       "      <td>Vietnamese</td>\n",
       "      <td>1</td>\n",
       "    </tr>\n",
       "    <tr>\n",
       "      <th>4</th>\n",
       "      <td>Jason L.</td>\n",
       "      <td>2014-11-13</td>\n",
       "      <td>Have been seeing Nam Nam with ridiculously lon...</td>\n",
       "      <td>3</td>\n",
       "      <td>Namnam Noodle Bar</td>\n",
       "      <td>Vietnamese</td>\n",
       "      <td>-1</td>\n",
       "    </tr>\n",
       "  </tbody>\n",
       "</table>\n",
       "</div>"
      ],
      "text/plain": [
       "<div>\n",
       "<style scoped>\n",
       "    .dataframe tbody tr th:only-of-type {\n",
       "        vertical-align: middle;\n",
       "    }\n",
       "\n",
       "    .dataframe tbody tr th {\n",
       "        vertical-align: top;\n",
       "    }\n",
       "\n",
       "    .dataframe thead th {\n",
       "        text-align: right;\n",
       "    }\n",
       "</style>\n",
       "<table border=\"1\" class=\"dataframe\">\n",
       "  <thead>\n",
       "    <tr style=\"text-align: right;\">\n",
       "      <th></th>\n",
       "      <th>author</th>\n",
       "      <th>datePublished</th>\n",
       "      <th>description</th>\n",
       "      <th>reviewRating</th>\n",
       "      <th>name</th>\n",
       "      <th>cuisine</th>\n",
       "      <th>PosNeg</th>\n",
       "    </tr>\n",
       "  </thead>\n",
       "  <tbody>\n",
       "    <tr>\n",
       "      <th>0</th>\n",
       "      <td>怡</td>\n",
       "      <td>2018-08-05</td>\n",
       "      <td>Beef ball is good! Try the beef combo pho. The...</td>\n",
       "      <td>4</td>\n",
       "      <td>Namnam Noodle Bar</td>\n",
       "      <td>Vietnamese</td>\n",
       "      <td>1</td>\n",
       "    </tr>\n",
       "    <tr>\n",
       "      <th>1</th>\n",
       "      <td>K C.</td>\n",
       "      <td>2018-03-09</td>\n",
       "      <td>Egg noodle with prawns and spare rib- deliciou...</td>\n",
       "      <td>4</td>\n",
       "      <td>Namnam Noodle Bar</td>\n",
       "      <td>Vietnamese</td>\n",
       "      <td>1</td>\n",
       "    </tr>\n",
       "    <tr>\n",
       "      <th>2</th>\n",
       "      <td>Nicola L.</td>\n",
       "      <td>2016-10-13</td>\n",
       "      <td>Egg noodles with prawns and pork rib ($11) - 3...</td>\n",
       "      <td>3</td>\n",
       "      <td>Namnam Noodle Bar</td>\n",
       "      <td>Vietnamese</td>\n",
       "      <td>-1</td>\n",
       "    </tr>\n",
       "    <tr>\n",
       "      <th>3</th>\n",
       "      <td>Sisyliana H.</td>\n",
       "      <td>2016-07-02</td>\n",
       "      <td>Banh mi is an amazing sandwich... Now I have h...</td>\n",
       "      <td>4</td>\n",
       "      <td>Namnam Noodle Bar</td>\n",
       "      <td>Vietnamese</td>\n",
       "      <td>1</td>\n",
       "    </tr>\n",
       "    <tr>\n",
       "      <th>4</th>\n",
       "      <td>Jason L.</td>\n",
       "      <td>2014-11-13</td>\n",
       "      <td>Have been seeing Nam Nam with ridiculously lon...</td>\n",
       "      <td>3</td>\n",
       "      <td>Namnam Noodle Bar</td>\n",
       "      <td>Vietnamese</td>\n",
       "      <td>-1</td>\n",
       "    </tr>\n",
       "  </tbody>\n",
       "</table>\n",
       "</div>"
      ]
     },
     "execution_count": 16,
     "metadata": {},
     "output_type": "execute_result"
    }
   ],
   "source": [
    "reviews_df['PosNeg'] = reviews_df['reviewRating'].apply(lambda x: 1 if x > 3 else -1)\n",
    "reviews_df.head()"
   ]
  },
  {
   "cell_type": "code",
   "execution_count": 17,
   "metadata": {},
   "outputs": [
    {
     "data": {
      "text/plain": [
       "PosNeg\n-1     898\n 1    1574\ndtype: int64"
      ]
     },
     "execution_count": 17,
     "metadata": {},
     "output_type": "execute_result"
    }
   ],
   "source": [
    "reviews_df.groupby('PosNeg').size()"
   ]
  },
  {
   "cell_type": "markdown",
   "metadata": {},
   "source": [
    "## Select some restaurants for the test set"
   ]
  },
  {
   "cell_type": "code",
   "execution_count": 18,
   "metadata": {},
   "outputs": [],
   "source": [
    "test = ['Candlenut', 'National Kitchen', 'Quentin', 'The Square', 'Jaan', 'Le Bistrot Du', 'Prego', 'Saveur', 'First Thai',\n",
    "        'Jai Thai', 'Whole Earth', 'Yhingthai', 'Little Saigon', 'Long Phung', 'NamNam Noodle Bar - Whee', 'Sandwich Saigon']"
   ]
  },
  {
   "cell_type": "code",
   "execution_count": 19,
   "metadata": {},
   "outputs": [
    {
     "data": {
      "text/html": [
       "<div>\n",
       "<style scoped>\n",
       "    .dataframe tbody tr th:only-of-type {\n",
       "        vertical-align: middle;\n",
       "    }\n",
       "\n",
       "    .dataframe tbody tr th {\n",
       "        vertical-align: top;\n",
       "    }\n",
       "\n",
       "    .dataframe thead th {\n",
       "        text-align: right;\n",
       "    }\n",
       "</style>\n",
       "<table border=\"1\" class=\"dataframe\">\n",
       "  <thead>\n",
       "    <tr style=\"text-align: right;\">\n",
       "      <th></th>\n",
       "      <th>author</th>\n",
       "      <th>datePublished</th>\n",
       "      <th>description</th>\n",
       "      <th>reviewRating</th>\n",
       "      <th>name</th>\n",
       "      <th>cuisine</th>\n",
       "      <th>PosNeg</th>\n",
       "    </tr>\n",
       "  </thead>\n",
       "  <tbody>\n",
       "    <tr>\n",
       "      <th>93</th>\n",
       "      <td>Anchisa P.</td>\n",
       "      <td>2018-10-13</td>\n",
       "      <td>4.5 stars. 1 Michelin star Modern Peranakan cu...</td>\n",
       "      <td>4</td>\n",
       "      <td>Candlenut</td>\n",
       "      <td>Asian Fusion</td>\n",
       "      <td>1</td>\n",
       "    </tr>\n",
       "    <tr>\n",
       "      <th>94</th>\n",
       "      <td>Vincent Q.</td>\n",
       "      <td>2018-10-02</td>\n",
       "      <td>This is the first time that I have had Peranka...</td>\n",
       "      <td>5</td>\n",
       "      <td>Candlenut</td>\n",
       "      <td>Asian Fusion</td>\n",
       "      <td>1</td>\n",
       "    </tr>\n",
       "    <tr>\n",
       "      <th>95</th>\n",
       "      <td>George L.</td>\n",
       "      <td>2018-07-25</td>\n",
       "      <td>Came here to try Michelin Star fine dining res...</td>\n",
       "      <td>3</td>\n",
       "      <td>Candlenut</td>\n",
       "      <td>Asian Fusion</td>\n",
       "      <td>-1</td>\n",
       "    </tr>\n",
       "    <tr>\n",
       "      <th>96</th>\n",
       "      <td>Sol A.</td>\n",
       "      <td>2018-04-21</td>\n",
       "      <td>Dining here was not the experience that I expe...</td>\n",
       "      <td>3</td>\n",
       "      <td>Candlenut</td>\n",
       "      <td>Asian Fusion</td>\n",
       "      <td>-1</td>\n",
       "    </tr>\n",
       "    <tr>\n",
       "      <th>97</th>\n",
       "      <td>Aimee K.</td>\n",
       "      <td>2018-10-14</td>\n",
       "      <td>I cannot recommend this restaurant enough, the...</td>\n",
       "      <td>5</td>\n",
       "      <td>Candlenut</td>\n",
       "      <td>Asian Fusion</td>\n",
       "      <td>1</td>\n",
       "    </tr>\n",
       "  </tbody>\n",
       "</table>\n",
       "</div>"
      ],
      "text/plain": [
       "<div>\n",
       "<style scoped>\n",
       "    .dataframe tbody tr th:only-of-type {\n",
       "        vertical-align: middle;\n",
       "    }\n",
       "\n",
       "    .dataframe tbody tr th {\n",
       "        vertical-align: top;\n",
       "    }\n",
       "\n",
       "    .dataframe thead th {\n",
       "        text-align: right;\n",
       "    }\n",
       "</style>\n",
       "<table border=\"1\" class=\"dataframe\">\n",
       "  <thead>\n",
       "    <tr style=\"text-align: right;\">\n",
       "      <th></th>\n",
       "      <th>author</th>\n",
       "      <th>datePublished</th>\n",
       "      <th>description</th>\n",
       "      <th>reviewRating</th>\n",
       "      <th>name</th>\n",
       "      <th>cuisine</th>\n",
       "      <th>PosNeg</th>\n",
       "    </tr>\n",
       "  </thead>\n",
       "  <tbody>\n",
       "    <tr>\n",
       "      <th>93</th>\n",
       "      <td>Anchisa P.</td>\n",
       "      <td>2018-10-13</td>\n",
       "      <td>4.5 stars. 1 Michelin star Modern Peranakan cu...</td>\n",
       "      <td>4</td>\n",
       "      <td>Candlenut</td>\n",
       "      <td>Asian Fusion</td>\n",
       "      <td>1</td>\n",
       "    </tr>\n",
       "    <tr>\n",
       "      <th>94</th>\n",
       "      <td>Vincent Q.</td>\n",
       "      <td>2018-10-02</td>\n",
       "      <td>This is the first time that I have had Peranka...</td>\n",
       "      <td>5</td>\n",
       "      <td>Candlenut</td>\n",
       "      <td>Asian Fusion</td>\n",
       "      <td>1</td>\n",
       "    </tr>\n",
       "    <tr>\n",
       "      <th>95</th>\n",
       "      <td>George L.</td>\n",
       "      <td>2018-07-25</td>\n",
       "      <td>Came here to try Michelin Star fine dining res...</td>\n",
       "      <td>3</td>\n",
       "      <td>Candlenut</td>\n",
       "      <td>Asian Fusion</td>\n",
       "      <td>-1</td>\n",
       "    </tr>\n",
       "    <tr>\n",
       "      <th>96</th>\n",
       "      <td>Sol A.</td>\n",
       "      <td>2018-04-21</td>\n",
       "      <td>Dining here was not the experience that I expe...</td>\n",
       "      <td>3</td>\n",
       "      <td>Candlenut</td>\n",
       "      <td>Asian Fusion</td>\n",
       "      <td>-1</td>\n",
       "    </tr>\n",
       "    <tr>\n",
       "      <th>97</th>\n",
       "      <td>Aimee K.</td>\n",
       "      <td>2018-10-14</td>\n",
       "      <td>I cannot recommend this restaurant enough, the...</td>\n",
       "      <td>5</td>\n",
       "      <td>Candlenut</td>\n",
       "      <td>Asian Fusion</td>\n",
       "      <td>1</td>\n",
       "    </tr>\n",
       "  </tbody>\n",
       "</table>\n",
       "</div>"
      ]
     },
     "execution_count": 19,
     "metadata": {},
     "output_type": "execute_result"
    }
   ],
   "source": [
    "def select_for_test(name):\n",
    "    found = False\n",
    "    for i in test:\n",
    "        if i in name:\n",
    "            found = True\n",
    "            break\n",
    "    return found\n",
    "\n",
    "selected = reviews_df['name'].apply(select_for_test)\n",
    "reviews_test_df = reviews_df[selected]\n",
    "reviews_test_df.head()"
   ]
  },
  {
   "cell_type": "code",
   "execution_count": 20,
   "metadata": {},
   "outputs": [
    {
     "data": {
      "text/plain": [
       "364"
      ]
     },
     "execution_count": 20,
     "metadata": {},
     "output_type": "execute_result"
    }
   ],
   "source": [
    "len(reviews_test_df)"
   ]
  },
  {
   "cell_type": "code",
   "execution_count": 21,
   "metadata": {},
   "outputs": [
    {
     "data": {
      "text/plain": [
       "name\nCandlenut                             21\nFirst Thai Food                       11\nJaan                                  28\nJai Thai                              17\nLe Bistrot Du Sommelier               23\nLittle Saigon                         28\nLong Phung Vietnamese Restaurant      20\nNamNam Noodle Bar - Wheelock Place    32\nNational Kitchen By Violet Oon        20\nPrego                                 22\nQuentin’s                             12\nSandwich Saigon Cafe                  13\nSaveur                                64\nThe Square                            10\nWhole Earth                           27\nYhingthai Palace                      16\ndtype: int64"
      ]
     },
     "execution_count": 21,
     "metadata": {},
     "output_type": "execute_result"
    }
   ],
   "source": [
    "reviews_test_df.groupby('name').size()"
   ]
  },
  {
   "cell_type": "code",
   "execution_count": 22,
   "metadata": {},
   "outputs": [
    {
     "data": {
      "text/plain": [
       "cuisine\nAsian Fusion     63\nFrench          137\nThai             71\nVietnamese       93\ndtype: int64"
      ]
     },
     "execution_count": 22,
     "metadata": {},
     "output_type": "execute_result"
    }
   ],
   "source": [
    "reviews_test_df.groupby('cuisine').size()"
   ]
  },
  {
   "cell_type": "code",
   "execution_count": 23,
   "metadata": {},
   "outputs": [
    {
     "data": {
      "text/plain": [
       "PosNeg\n-1    126\n 1    238\ndtype: int64"
      ]
     },
     "execution_count": 23,
     "metadata": {},
     "output_type": "execute_result"
    }
   ],
   "source": [
    "reviews_test_df.groupby('PosNeg').size()"
   ]
  },
  {
   "cell_type": "code",
   "execution_count": 24,
   "metadata": {},
   "outputs": [
    {
     "data": {
      "text/html": [
       "<div>\n",
       "<style scoped>\n",
       "    .dataframe tbody tr th:only-of-type {\n",
       "        vertical-align: middle;\n",
       "    }\n",
       "\n",
       "    .dataframe tbody tr th {\n",
       "        vertical-align: top;\n",
       "    }\n",
       "\n",
       "    .dataframe thead th {\n",
       "        text-align: right;\n",
       "    }\n",
       "</style>\n",
       "<table border=\"1\" class=\"dataframe\">\n",
       "  <thead>\n",
       "    <tr style=\"text-align: right;\">\n",
       "      <th></th>\n",
       "      <th>author</th>\n",
       "      <th>datePublished</th>\n",
       "      <th>description</th>\n",
       "      <th>reviewRating</th>\n",
       "      <th>name</th>\n",
       "      <th>cuisine</th>\n",
       "      <th>PosNeg</th>\n",
       "    </tr>\n",
       "  </thead>\n",
       "  <tbody>\n",
       "    <tr>\n",
       "      <th>0</th>\n",
       "      <td>怡</td>\n",
       "      <td>2018-08-05</td>\n",
       "      <td>Beef ball is good! Try the beef combo pho. The...</td>\n",
       "      <td>4</td>\n",
       "      <td>Namnam Noodle Bar</td>\n",
       "      <td>Vietnamese</td>\n",
       "      <td>1</td>\n",
       "    </tr>\n",
       "    <tr>\n",
       "      <th>1</th>\n",
       "      <td>K C.</td>\n",
       "      <td>2018-03-09</td>\n",
       "      <td>Egg noodle with prawns and spare rib- deliciou...</td>\n",
       "      <td>4</td>\n",
       "      <td>Namnam Noodle Bar</td>\n",
       "      <td>Vietnamese</td>\n",
       "      <td>1</td>\n",
       "    </tr>\n",
       "    <tr>\n",
       "      <th>2</th>\n",
       "      <td>Nicola L.</td>\n",
       "      <td>2016-10-13</td>\n",
       "      <td>Egg noodles with prawns and pork rib ($11) - 3...</td>\n",
       "      <td>3</td>\n",
       "      <td>Namnam Noodle Bar</td>\n",
       "      <td>Vietnamese</td>\n",
       "      <td>-1</td>\n",
       "    </tr>\n",
       "    <tr>\n",
       "      <th>3</th>\n",
       "      <td>Sisyliana H.</td>\n",
       "      <td>2016-07-02</td>\n",
       "      <td>Banh mi is an amazing sandwich... Now I have h...</td>\n",
       "      <td>4</td>\n",
       "      <td>Namnam Noodle Bar</td>\n",
       "      <td>Vietnamese</td>\n",
       "      <td>1</td>\n",
       "    </tr>\n",
       "    <tr>\n",
       "      <th>4</th>\n",
       "      <td>Jason L.</td>\n",
       "      <td>2014-11-13</td>\n",
       "      <td>Have been seeing Nam Nam with ridiculously lon...</td>\n",
       "      <td>3</td>\n",
       "      <td>Namnam Noodle Bar</td>\n",
       "      <td>Vietnamese</td>\n",
       "      <td>-1</td>\n",
       "    </tr>\n",
       "  </tbody>\n",
       "</table>\n",
       "</div>"
      ],
      "text/plain": [
       "<div>\n",
       "<style scoped>\n",
       "    .dataframe tbody tr th:only-of-type {\n",
       "        vertical-align: middle;\n",
       "    }\n",
       "\n",
       "    .dataframe tbody tr th {\n",
       "        vertical-align: top;\n",
       "    }\n",
       "\n",
       "    .dataframe thead th {\n",
       "        text-align: right;\n",
       "    }\n",
       "</style>\n",
       "<table border=\"1\" class=\"dataframe\">\n",
       "  <thead>\n",
       "    <tr style=\"text-align: right;\">\n",
       "      <th></th>\n",
       "      <th>author</th>\n",
       "      <th>datePublished</th>\n",
       "      <th>description</th>\n",
       "      <th>reviewRating</th>\n",
       "      <th>name</th>\n",
       "      <th>cuisine</th>\n",
       "      <th>PosNeg</th>\n",
       "    </tr>\n",
       "  </thead>\n",
       "  <tbody>\n",
       "    <tr>\n",
       "      <th>0</th>\n",
       "      <td>怡</td>\n",
       "      <td>2018-08-05</td>\n",
       "      <td>Beef ball is good! Try the beef combo pho. The...</td>\n",
       "      <td>4</td>\n",
       "      <td>Namnam Noodle Bar</td>\n",
       "      <td>Vietnamese</td>\n",
       "      <td>1</td>\n",
       "    </tr>\n",
       "    <tr>\n",
       "      <th>1</th>\n",
       "      <td>K C.</td>\n",
       "      <td>2018-03-09</td>\n",
       "      <td>Egg noodle with prawns and spare rib- deliciou...</td>\n",
       "      <td>4</td>\n",
       "      <td>Namnam Noodle Bar</td>\n",
       "      <td>Vietnamese</td>\n",
       "      <td>1</td>\n",
       "    </tr>\n",
       "    <tr>\n",
       "      <th>2</th>\n",
       "      <td>Nicola L.</td>\n",
       "      <td>2016-10-13</td>\n",
       "      <td>Egg noodles with prawns and pork rib ($11) - 3...</td>\n",
       "      <td>3</td>\n",
       "      <td>Namnam Noodle Bar</td>\n",
       "      <td>Vietnamese</td>\n",
       "      <td>-1</td>\n",
       "    </tr>\n",
       "    <tr>\n",
       "      <th>3</th>\n",
       "      <td>Sisyliana H.</td>\n",
       "      <td>2016-07-02</td>\n",
       "      <td>Banh mi is an amazing sandwich... Now I have h...</td>\n",
       "      <td>4</td>\n",
       "      <td>Namnam Noodle Bar</td>\n",
       "      <td>Vietnamese</td>\n",
       "      <td>1</td>\n",
       "    </tr>\n",
       "    <tr>\n",
       "      <th>4</th>\n",
       "      <td>Jason L.</td>\n",
       "      <td>2014-11-13</td>\n",
       "      <td>Have been seeing Nam Nam with ridiculously lon...</td>\n",
       "      <td>3</td>\n",
       "      <td>Namnam Noodle Bar</td>\n",
       "      <td>Vietnamese</td>\n",
       "      <td>-1</td>\n",
       "    </tr>\n",
       "  </tbody>\n",
       "</table>\n",
       "</div>"
      ]
     },
     "execution_count": 24,
     "metadata": {},
     "output_type": "execute_result"
    }
   ],
   "source": [
    "not_selected = [ not i for i in selected ]\n",
    "reviews_train_df = reviews_df[not_selected]\n",
    "reviews_train_df.head()"
   ]
  },
  {
   "cell_type": "code",
   "execution_count": 25,
   "metadata": {},
   "outputs": [
    {
     "data": {
      "text/plain": [
       "2108"
      ]
     },
     "execution_count": 25,
     "metadata": {},
     "output_type": "execute_result"
    }
   ],
   "source": [
    "len(reviews_train_df)"
   ]
  },
  {
   "cell_type": "markdown",
   "metadata": {},
   "source": [
    "### Load the reviews standard set"
   ]
  },
  {
   "cell_type": "code",
   "execution_count": 26,
   "metadata": {},
   "outputs": [
    {
     "data": {
      "text/html": [
       "<div>\n",
       "<style scoped>\n",
       "    .dataframe tbody tr th:only-of-type {\n",
       "        vertical-align: middle;\n",
       "    }\n",
       "\n",
       "    .dataframe tbody tr th {\n",
       "        vertical-align: top;\n",
       "    }\n",
       "\n",
       "    .dataframe thead th {\n",
       "        text-align: right;\n",
       "    }\n",
       "</style>\n",
       "<table border=\"1\" class=\"dataframe\">\n",
       "  <thead>\n",
       "    <tr style=\"text-align: right;\">\n",
       "      <th></th>\n",
       "      <th>restaurant_id</th>\n",
       "      <th>date</th>\n",
       "      <th>review_id</th>\n",
       "      <th>stars</th>\n",
       "      <th>text</th>\n",
       "      <th>Sentiment</th>\n",
       "    </tr>\n",
       "  </thead>\n",
       "  <tbody>\n",
       "    <tr>\n",
       "      <th>0</th>\n",
       "      <td>tr1</td>\n",
       "      <td>3/13/2014</td>\n",
       "      <td>revtrain1</td>\n",
       "      <td>2</td>\n",
       "      <td>Very disappointed in the customer service. We ...</td>\n",
       "      <td>negative</td>\n",
       "    </tr>\n",
       "    <tr>\n",
       "      <th>1</th>\n",
       "      <td>tr2</td>\n",
       "      <td>7/15/2010</td>\n",
       "      <td>revtrain2</td>\n",
       "      <td>2</td>\n",
       "      <td>I really wasn't thrilled with our meal here. T...</td>\n",
       "      <td>negative</td>\n",
       "    </tr>\n",
       "    <tr>\n",
       "      <th>2</th>\n",
       "      <td>tr2</td>\n",
       "      <td>12/20/2010</td>\n",
       "      <td>revtrain3</td>\n",
       "      <td>1</td>\n",
       "      <td>STAY AWAY...\\n\\nWe've been 3 times over the pa...</td>\n",
       "      <td>negative</td>\n",
       "    </tr>\n",
       "    <tr>\n",
       "      <th>3</th>\n",
       "      <td>tr2</td>\n",
       "      <td>5/26/2011</td>\n",
       "      <td>revtrain4</td>\n",
       "      <td>2</td>\n",
       "      <td>The food is good and the portions are large.  ...</td>\n",
       "      <td>negative</td>\n",
       "    </tr>\n",
       "    <tr>\n",
       "      <th>4</th>\n",
       "      <td>tr2</td>\n",
       "      <td>6/22/2011</td>\n",
       "      <td>revtrain5</td>\n",
       "      <td>2</td>\n",
       "      <td>I feel bad about giving this place such a meh ...</td>\n",
       "      <td>negative</td>\n",
       "    </tr>\n",
       "  </tbody>\n",
       "</table>\n",
       "</div>"
      ],
      "text/plain": [
       "<div>\n",
       "<style scoped>\n",
       "    .dataframe tbody tr th:only-of-type {\n",
       "        vertical-align: middle;\n",
       "    }\n",
       "\n",
       "    .dataframe tbody tr th {\n",
       "        vertical-align: top;\n",
       "    }\n",
       "\n",
       "    .dataframe thead th {\n",
       "        text-align: right;\n",
       "    }\n",
       "</style>\n",
       "<table border=\"1\" class=\"dataframe\">\n",
       "  <thead>\n",
       "    <tr style=\"text-align: right;\">\n",
       "      <th></th>\n",
       "      <th>restaurant_id</th>\n",
       "      <th>date</th>\n",
       "      <th>review_id</th>\n",
       "      <th>stars</th>\n",
       "      <th>text</th>\n",
       "      <th>Sentiment</th>\n",
       "    </tr>\n",
       "  </thead>\n",
       "  <tbody>\n",
       "    <tr>\n",
       "      <th>0</th>\n",
       "      <td>tr1</td>\n",
       "      <td>3/13/2014</td>\n",
       "      <td>revtrain1</td>\n",
       "      <td>2</td>\n",
       "      <td>Very disappointed in the customer service. We ...</td>\n",
       "      <td>negative</td>\n",
       "    </tr>\n",
       "    <tr>\n",
       "      <th>1</th>\n",
       "      <td>tr2</td>\n",
       "      <td>7/15/2010</td>\n",
       "      <td>revtrain2</td>\n",
       "      <td>2</td>\n",
       "      <td>I really wasn't thrilled with our meal here. T...</td>\n",
       "      <td>negative</td>\n",
       "    </tr>\n",
       "    <tr>\n",
       "      <th>2</th>\n",
       "      <td>tr2</td>\n",
       "      <td>12/20/2010</td>\n",
       "      <td>revtrain3</td>\n",
       "      <td>1</td>\n",
       "      <td>STAY AWAY...\\n\\nWe've been 3 times over the pa...</td>\n",
       "      <td>negative</td>\n",
       "    </tr>\n",
       "    <tr>\n",
       "      <th>3</th>\n",
       "      <td>tr2</td>\n",
       "      <td>5/26/2011</td>\n",
       "      <td>revtrain4</td>\n",
       "      <td>2</td>\n",
       "      <td>The food is good and the portions are large.  ...</td>\n",
       "      <td>negative</td>\n",
       "    </tr>\n",
       "    <tr>\n",
       "      <th>4</th>\n",
       "      <td>tr2</td>\n",
       "      <td>6/22/2011</td>\n",
       "      <td>revtrain5</td>\n",
       "      <td>2</td>\n",
       "      <td>I feel bad about giving this place such a meh ...</td>\n",
       "      <td>negative</td>\n",
       "    </tr>\n",
       "  </tbody>\n",
       "</table>\n",
       "</div>"
      ]
     },
     "execution_count": 26,
     "metadata": {},
     "output_type": "execute_result"
    }
   ],
   "source": [
    "std_reviews_df = pd.read_csv(os.path.join('data', 'others', 'train.csv'), encoding = \"ISO-8859-1\")\n",
    "std_reviews_df.head()"
   ]
  },
  {
   "cell_type": "code",
   "execution_count": 27,
   "metadata": {},
   "outputs": [
    {
     "data": {
      "text/html": [
       "<div>\n",
       "<style scoped>\n",
       "    .dataframe tbody tr th:only-of-type {\n",
       "        vertical-align: middle;\n",
       "    }\n",
       "\n",
       "    .dataframe tbody tr th {\n",
       "        vertical-align: top;\n",
       "    }\n",
       "\n",
       "    .dataframe thead th {\n",
       "        text-align: right;\n",
       "    }\n",
       "</style>\n",
       "<table border=\"1\" class=\"dataframe\">\n",
       "  <thead>\n",
       "    <tr style=\"text-align: right;\">\n",
       "      <th></th>\n",
       "      <th>restaurant_id</th>\n",
       "      <th>date</th>\n",
       "      <th>review_id</th>\n",
       "      <th>stars</th>\n",
       "      <th>description</th>\n",
       "      <th>Sentiment</th>\n",
       "      <th>PosNeg</th>\n",
       "    </tr>\n",
       "  </thead>\n",
       "  <tbody>\n",
       "    <tr>\n",
       "      <th>0</th>\n",
       "      <td>tr1</td>\n",
       "      <td>3/13/2014</td>\n",
       "      <td>revtrain1</td>\n",
       "      <td>2</td>\n",
       "      <td>Very disappointed in the customer service. We ...</td>\n",
       "      <td>negative</td>\n",
       "      <td>-1</td>\n",
       "    </tr>\n",
       "    <tr>\n",
       "      <th>1</th>\n",
       "      <td>tr2</td>\n",
       "      <td>7/15/2010</td>\n",
       "      <td>revtrain2</td>\n",
       "      <td>2</td>\n",
       "      <td>I really wasn't thrilled with our meal here. T...</td>\n",
       "      <td>negative</td>\n",
       "      <td>-1</td>\n",
       "    </tr>\n",
       "    <tr>\n",
       "      <th>2</th>\n",
       "      <td>tr2</td>\n",
       "      <td>12/20/2010</td>\n",
       "      <td>revtrain3</td>\n",
       "      <td>1</td>\n",
       "      <td>STAY AWAY...\\n\\nWe've been 3 times over the pa...</td>\n",
       "      <td>negative</td>\n",
       "      <td>-1</td>\n",
       "    </tr>\n",
       "    <tr>\n",
       "      <th>3</th>\n",
       "      <td>tr2</td>\n",
       "      <td>5/26/2011</td>\n",
       "      <td>revtrain4</td>\n",
       "      <td>2</td>\n",
       "      <td>The food is good and the portions are large.  ...</td>\n",
       "      <td>negative</td>\n",
       "      <td>-1</td>\n",
       "    </tr>\n",
       "    <tr>\n",
       "      <th>4</th>\n",
       "      <td>tr2</td>\n",
       "      <td>6/22/2011</td>\n",
       "      <td>revtrain5</td>\n",
       "      <td>2</td>\n",
       "      <td>I feel bad about giving this place such a meh ...</td>\n",
       "      <td>negative</td>\n",
       "      <td>-1</td>\n",
       "    </tr>\n",
       "  </tbody>\n",
       "</table>\n",
       "</div>"
      ],
      "text/plain": [
       "<div>\n",
       "<style scoped>\n",
       "    .dataframe tbody tr th:only-of-type {\n",
       "        vertical-align: middle;\n",
       "    }\n",
       "\n",
       "    .dataframe tbody tr th {\n",
       "        vertical-align: top;\n",
       "    }\n",
       "\n",
       "    .dataframe thead th {\n",
       "        text-align: right;\n",
       "    }\n",
       "</style>\n",
       "<table border=\"1\" class=\"dataframe\">\n",
       "  <thead>\n",
       "    <tr style=\"text-align: right;\">\n",
       "      <th></th>\n",
       "      <th>restaurant_id</th>\n",
       "      <th>date</th>\n",
       "      <th>review_id</th>\n",
       "      <th>stars</th>\n",
       "      <th>description</th>\n",
       "      <th>Sentiment</th>\n",
       "      <th>PosNeg</th>\n",
       "    </tr>\n",
       "  </thead>\n",
       "  <tbody>\n",
       "    <tr>\n",
       "      <th>0</th>\n",
       "      <td>tr1</td>\n",
       "      <td>3/13/2014</td>\n",
       "      <td>revtrain1</td>\n",
       "      <td>2</td>\n",
       "      <td>Very disappointed in the customer service. We ...</td>\n",
       "      <td>negative</td>\n",
       "      <td>-1</td>\n",
       "    </tr>\n",
       "    <tr>\n",
       "      <th>1</th>\n",
       "      <td>tr2</td>\n",
       "      <td>7/15/2010</td>\n",
       "      <td>revtrain2</td>\n",
       "      <td>2</td>\n",
       "      <td>I really wasn't thrilled with our meal here. T...</td>\n",
       "      <td>negative</td>\n",
       "      <td>-1</td>\n",
       "    </tr>\n",
       "    <tr>\n",
       "      <th>2</th>\n",
       "      <td>tr2</td>\n",
       "      <td>12/20/2010</td>\n",
       "      <td>revtrain3</td>\n",
       "      <td>1</td>\n",
       "      <td>STAY AWAY...\\n\\nWe've been 3 times over the pa...</td>\n",
       "      <td>negative</td>\n",
       "      <td>-1</td>\n",
       "    </tr>\n",
       "    <tr>\n",
       "      <th>3</th>\n",
       "      <td>tr2</td>\n",
       "      <td>5/26/2011</td>\n",
       "      <td>revtrain4</td>\n",
       "      <td>2</td>\n",
       "      <td>The food is good and the portions are large.  ...</td>\n",
       "      <td>negative</td>\n",
       "      <td>-1</td>\n",
       "    </tr>\n",
       "    <tr>\n",
       "      <th>4</th>\n",
       "      <td>tr2</td>\n",
       "      <td>6/22/2011</td>\n",
       "      <td>revtrain5</td>\n",
       "      <td>2</td>\n",
       "      <td>I feel bad about giving this place such a meh ...</td>\n",
       "      <td>negative</td>\n",
       "      <td>-1</td>\n",
       "    </tr>\n",
       "  </tbody>\n",
       "</table>\n",
       "</div>"
      ]
     },
     "execution_count": 27,
     "metadata": {},
     "output_type": "execute_result"
    }
   ],
   "source": [
    "std_reviews_df['PosNeg'] = std_reviews_df['Sentiment'].apply(lambda x: -1 if 'neg' in x else 1)\n",
    "std_reviews_df.rename(columns={'text': 'description'}, inplace=True)\n",
    "std_reviews_df.head()"
   ]
  },
  {
   "cell_type": "code",
   "execution_count": 28,
   "metadata": {},
   "outputs": [
    {
     "data": {
      "text/plain": [
       "20329"
      ]
     },
     "execution_count": 28,
     "metadata": {},
     "output_type": "execute_result"
    }
   ],
   "source": [
    "len(std_reviews_df)"
   ]
  },
  {
   "cell_type": "markdown",
   "metadata": {},
   "source": [
    "### Add the standard set of reviews to the train set"
   ]
  },
  {
   "cell_type": "code",
   "execution_count": 29,
   "metadata": {},
   "outputs": [
    {
     "data": {
      "text/plain": [
       "22437"
      ]
     },
     "execution_count": 29,
     "metadata": {},
     "output_type": "execute_result"
    }
   ],
   "source": [
    "reviews_train_df = pd.concat([reviews_train_df[['description', 'PosNeg']], std_reviews_df[['description', 'PosNeg']]])\n",
    "len(reviews_train_df)"
   ]
  },
  {
   "cell_type": "markdown",
   "metadata": {},
   "source": [
    "### Pre-process the text data"
   ]
  },
  {
   "cell_type": "code",
   "execution_count": 30,
   "metadata": {},
   "outputs": [],
   "source": [
    "# Load English tokenizer, tagger, parser, NER and word vectors\n",
    "nlp = spacy.load('en')"
   ]
  },
  {
   "cell_type": "code",
   "execution_count": 31,
   "metadata": {},
   "outputs": [
    {
     "data": {
      "text/plain": [
       "'Beef ball is good! Try the beef combo pho. The spicy beef soup is a little too spicy.'"
      ]
     },
     "execution_count": 31,
     "metadata": {},
     "output_type": "execute_result"
    }
   ],
   "source": [
    "reviews_train_df['description'].values[0]"
   ]
  },
  {
   "cell_type": "code",
   "execution_count": 32,
   "metadata": {},
   "outputs": [],
   "source": [
    "doc = nlp(reviews_train_df['description'].values[0])"
   ]
  },
  {
   "cell_type": "code",
   "execution_count": 33,
   "metadata": {},
   "outputs": [
    {
     "data": {
      "text/plain": [
       "['NOUN',\n 'NOUN',\n 'VERB',\n 'ADJ',\n 'PUNCT',\n 'VERB',\n 'DET',\n 'NOUN',\n 'NOUN',\n 'NOUN',\n 'PUNCT',\n 'DET',\n 'ADJ',\n 'NOUN',\n 'NOUN',\n 'VERB',\n 'DET',\n 'ADJ',\n 'ADV',\n 'ADJ',\n 'PUNCT']"
      ]
     },
     "execution_count": 33,
     "metadata": {},
     "output_type": "execute_result"
    }
   ],
   "source": [
    "[ token.pos_ for token in doc ]"
   ]
  },
  {
   "cell_type": "markdown",
   "metadata": {},
   "source": [
    "nlp() was not able to run for the complete dataset due to insufficient memory resources. We will use nltk instead."
   ]
  },
  {
   "cell_type": "code",
   "execution_count": 34,
   "metadata": {},
   "outputs": [
    {
     "data": {
      "text/plain": [
       "[('Beef', 'NNP'),\n ('ball', 'NN'),\n ('is', 'VBZ'),\n ('good', 'JJ'),\n ('!', '.'),\n ('Try', 'VB'),\n ('the', 'DT'),\n ('beef', 'NN'),\n ('combo', 'NN'),\n ('pho', 'NN'),\n ('.', '.'),\n ('The', 'DT'),\n ('spicy', 'NN'),\n ('beef', 'NN'),\n ('soup', 'NN'),\n ('is', 'VBZ'),\n ('a', 'DT'),\n ('little', 'JJ'),\n ('too', 'RB'),\n ('spicy', 'NN'),\n ('.', '.')]"
      ]
     },
     "execution_count": 34,
     "metadata": {},
     "output_type": "execute_result"
    }
   ],
   "source": [
    "doc1 = pos_tag(word_tokenize(reviews_train_df['description'].values[0]))\n",
    "doc1"
   ]
  },
  {
   "cell_type": "code",
   "execution_count": 35,
   "metadata": {},
   "outputs": [
    {
     "data": {
      "text/plain": [
       "[('Beef', 'n'),\n ('ball', 'n'),\n ('be', 'v'),\n ('good', 'a'),\n ('!', '.'),\n ('Try', 'v'),\n ('the', 'DT'),\n ('beef', 'n'),\n ('combo', 'n'),\n ('pho', 'n'),\n ('.', '.'),\n ('The', 'DT'),\n ('spicy', 'n'),\n ('beef', 'n'),\n ('soup', 'n'),\n ('be', 'v'),\n ('a', 'DT'),\n ('little', 'a'),\n ('too', 'r'),\n ('spicy', 'n'),\n ('.', '.')]"
      ]
     },
     "execution_count": 35,
     "metadata": {},
     "output_type": "execute_result"
    }
   ],
   "source": [
    "from nltk import WordNetLemmatizer\n",
    "from nltk.corpus import wordnet\n",
    "\n",
    "def get_wordnet_pos(treebank_tag):\n",
    "\n",
    "    if treebank_tag.startswith('J'):\n",
    "        return wordnet.ADJ\n",
    "    elif treebank_tag.startswith('V'):\n",
    "        return wordnet.VERB\n",
    "    elif treebank_tag.startswith('N'):\n",
    "        return wordnet.NOUN\n",
    "    elif treebank_tag.startswith('R'):\n",
    "        return wordnet.ADV\n",
    "    else:\n",
    "        return ''\n",
    "    \n",
    "wnl = WordNetLemmatizer()\n",
    "doc_res = []\n",
    "for token, postag in doc1:\n",
    "    pos = get_wordnet_pos(postag)\n",
    "    if pos:\n",
    "        doc_res.append((wnl.lemmatize(token, pos=pos), get_wordnet_pos(postag)))\n",
    "    else:\n",
    "        doc_res.append((token, postag))\n",
    "doc_res"
   ]
  },
  {
   "cell_type": "code",
   "execution_count": 36,
   "metadata": {},
   "outputs": [
    {
     "data": {
      "text/plain": [
       "[('Beef', 'n'),\n ('ball', 'n'),\n ('be', 'v'),\n ('good', 'a'),\n ('Try', 'v'),\n ('beef', 'n'),\n ('combo', 'n'),\n ('pho', 'n'),\n ('spicy', 'n'),\n ('beef', 'n'),\n ('soup', 'n'),\n ('be', 'v'),\n ('little', 'a'),\n ('too', 'r'),\n ('spicy', 'n')]"
      ]
     },
     "execution_count": 36,
     "metadata": {},
     "output_type": "execute_result"
    }
   ],
   "source": [
    "[ (wnl.lemmatize(token, pos=get_wordnet_pos(postag)), get_wordnet_pos(postag)) for token, postag in doc1 if get_wordnet_pos(postag) ]"
   ]
  },
  {
   "cell_type": "code",
   "execution_count": 37,
   "metadata": {},
   "outputs": [
    {
     "data": {
      "text/plain": [
       "0    [Beef, ball, be, good, Try, beef, combo, pho, ...\n1    [Egg, noodle, prawn, spare, rib-, delicious, b...\n2    [Egg, noodle, prawn, pork, rib, star, Loved, c...\n3    [Banh, mi, be, amazing, sandwich, Now, have, h...\n4    [Have, be, see, Nam, Nam, ridiculously, long, ...\nName: desc_tokenised, dtype: object"
      ]
     },
     "execution_count": 37,
     "metadata": {},
     "output_type": "execute_result"
    }
   ],
   "source": [
    "reviews_train_df['desc_tokenised'] = reviews_train_df['description'].apply(\n",
    "    lambda x: [ wnl.lemmatize(token, pos=get_wordnet_pos(postag))\n",
    "                for token, postag in pos_tag(word_tokenize(x)) if get_wordnet_pos(postag) ])\n",
    "reviews_train_df['desc_tokenised'][:5]"
   ]
  },
  {
   "cell_type": "code",
   "execution_count": 38,
   "metadata": {},
   "outputs": [
    {
     "data": {
      "text/plain": [
       "PosNeg\n-1    11783\n 1    10654\ndtype: int64"
      ]
     },
     "execution_count": 38,
     "metadata": {},
     "output_type": "execute_result"
    }
   ],
   "source": [
    "reviews_train_df.groupby('PosNeg').size()"
   ]
  },
  {
   "cell_type": "code",
   "execution_count": 39,
   "metadata": {},
   "outputs": [
    {
     "name": "stderr",
     "output_type": "stream",
     "text": [
      "/usr/lib/python3/dist-packages/ipykernel_launcher.py:2: SettingWithCopyWarning: \nA value is trying to be set on a copy of a slice from a DataFrame.\nTry using .loc[row_indexer,col_indexer] = value instead\n\nSee the caveats in the documentation: http://pandas.pydata.org/pandas-docs/stable/indexing.html#indexing-view-versus-copy\n  \n"
     ]
    },
    {
     "data": {
      "text/plain": [
       "93    [star, Michelin, star, Modern, Peranakan, cuis...\n94    [be, first, time, have, have, Perankan, food, ...\n95    [Came, here, try, Michelin, Star, fine, dining...\n96    [Dining, here, be, not, experience, expect, on...\n97    [not, recommend, restaurant, enough, food, be,...\nName: desc_tokenised, dtype: object"
      ]
     },
     "execution_count": 39,
     "metadata": {},
     "output_type": "execute_result"
    }
   ],
   "source": [
    "reviews_test_df['desc_tokenised'] = reviews_test_df['description'].apply(\n",
    "    lambda x: [ wnl.lemmatize(token, pos=get_wordnet_pos(postag))\n",
    "                for token, postag in pos_tag(word_tokenize(x)) if get_wordnet_pos(postag) ])\n",
    "reviews_test_df['desc_tokenised'][:5]"
   ]
  },
  {
   "cell_type": "markdown",
   "metadata": {},
   "source": [
    "## Prepare the Train / Test Dataset"
   ]
  },
  {
   "cell_type": "code",
   "execution_count": 40,
   "metadata": {},
   "outputs": [
    {
     "data": {
      "text/html": [
       "<div>\n",
       "<style scoped>\n",
       "    .dataframe tbody tr th:only-of-type {\n",
       "        vertical-align: middle;\n",
       "    }\n",
       "\n",
       "    .dataframe tbody tr th {\n",
       "        vertical-align: top;\n",
       "    }\n",
       "\n",
       "    .dataframe thead th {\n",
       "        text-align: right;\n",
       "    }\n",
       "</style>\n",
       "<table border=\"1\" class=\"dataframe\">\n",
       "  <thead>\n",
       "    <tr style=\"text-align: right;\">\n",
       "      <th></th>\n",
       "      <th>description</th>\n",
       "      <th>PosNeg</th>\n",
       "      <th>desc_tokenised</th>\n",
       "    </tr>\n",
       "  </thead>\n",
       "  <tbody>\n",
       "    <tr>\n",
       "      <th>0</th>\n",
       "      <td>Beef ball is good! Try the beef combo pho. The...</td>\n",
       "      <td>1</td>\n",
       "      <td>[Beef, ball, be, good, Try, beef, combo, pho, ...</td>\n",
       "    </tr>\n",
       "    <tr>\n",
       "      <th>1</th>\n",
       "      <td>Egg noodle with prawns and spare rib- deliciou...</td>\n",
       "      <td>1</td>\n",
       "      <td>[Egg, noodle, prawn, spare, rib-, delicious, b...</td>\n",
       "    </tr>\n",
       "    <tr>\n",
       "      <th>2</th>\n",
       "      <td>Egg noodles with prawns and pork rib ($11) - 3...</td>\n",
       "      <td>-1</td>\n",
       "      <td>[Egg, noodle, prawn, pork, rib, star, Loved, c...</td>\n",
       "    </tr>\n",
       "    <tr>\n",
       "      <th>3</th>\n",
       "      <td>Banh mi is an amazing sandwich... Now I have h...</td>\n",
       "      <td>1</td>\n",
       "      <td>[Banh, mi, be, amazing, sandwich, Now, have, h...</td>\n",
       "    </tr>\n",
       "    <tr>\n",
       "      <th>4</th>\n",
       "      <td>Have been seeing Nam Nam with ridiculously lon...</td>\n",
       "      <td>-1</td>\n",
       "      <td>[Have, be, see, Nam, Nam, ridiculously, long, ...</td>\n",
       "    </tr>\n",
       "  </tbody>\n",
       "</table>\n",
       "</div>"
      ],
      "text/plain": [
       "<div>\n",
       "<style scoped>\n",
       "    .dataframe tbody tr th:only-of-type {\n",
       "        vertical-align: middle;\n",
       "    }\n",
       "\n",
       "    .dataframe tbody tr th {\n",
       "        vertical-align: top;\n",
       "    }\n",
       "\n",
       "    .dataframe thead th {\n",
       "        text-align: right;\n",
       "    }\n",
       "</style>\n",
       "<table border=\"1\" class=\"dataframe\">\n",
       "  <thead>\n",
       "    <tr style=\"text-align: right;\">\n",
       "      <th></th>\n",
       "      <th>description</th>\n",
       "      <th>PosNeg</th>\n",
       "      <th>desc_tokenised</th>\n",
       "    </tr>\n",
       "  </thead>\n",
       "  <tbody>\n",
       "    <tr>\n",
       "      <th>0</th>\n",
       "      <td>Beef ball is good! Try the beef combo pho. The...</td>\n",
       "      <td>1</td>\n",
       "      <td>[Beef, ball, be, good, Try, beef, combo, pho, ...</td>\n",
       "    </tr>\n",
       "    <tr>\n",
       "      <th>1</th>\n",
       "      <td>Egg noodle with prawns and spare rib- deliciou...</td>\n",
       "      <td>1</td>\n",
       "      <td>[Egg, noodle, prawn, spare, rib-, delicious, b...</td>\n",
       "    </tr>\n",
       "    <tr>\n",
       "      <th>2</th>\n",
       "      <td>Egg noodles with prawns and pork rib ($11) - 3...</td>\n",
       "      <td>-1</td>\n",
       "      <td>[Egg, noodle, prawn, pork, rib, star, Loved, c...</td>\n",
       "    </tr>\n",
       "    <tr>\n",
       "      <th>3</th>\n",
       "      <td>Banh mi is an amazing sandwich... Now I have h...</td>\n",
       "      <td>1</td>\n",
       "      <td>[Banh, mi, be, amazing, sandwich, Now, have, h...</td>\n",
       "    </tr>\n",
       "    <tr>\n",
       "      <th>4</th>\n",
       "      <td>Have been seeing Nam Nam with ridiculously lon...</td>\n",
       "      <td>-1</td>\n",
       "      <td>[Have, be, see, Nam, Nam, ridiculously, long, ...</td>\n",
       "    </tr>\n",
       "  </tbody>\n",
       "</table>\n",
       "</div>"
      ]
     },
     "execution_count": 40,
     "metadata": {},
     "output_type": "execute_result"
    }
   ],
   "source": [
    "reviews_train_df.head()"
   ]
  },
  {
   "cell_type": "code",
   "execution_count": 41,
   "metadata": {},
   "outputs": [
    {
     "data": {
      "text/html": [
       "<div>\n",
       "<style scoped>\n",
       "    .dataframe tbody tr th:only-of-type {\n",
       "        vertical-align: middle;\n",
       "    }\n",
       "\n",
       "    .dataframe tbody tr th {\n",
       "        vertical-align: top;\n",
       "    }\n",
       "\n",
       "    .dataframe thead th {\n",
       "        text-align: right;\n",
       "    }\n",
       "</style>\n",
       "<table border=\"1\" class=\"dataframe\">\n",
       "  <thead>\n",
       "    <tr style=\"text-align: right;\">\n",
       "      <th></th>\n",
       "      <th>author</th>\n",
       "      <th>datePublished</th>\n",
       "      <th>description</th>\n",
       "      <th>reviewRating</th>\n",
       "      <th>name</th>\n",
       "      <th>cuisine</th>\n",
       "      <th>PosNeg</th>\n",
       "      <th>desc_tokenised</th>\n",
       "    </tr>\n",
       "  </thead>\n",
       "  <tbody>\n",
       "    <tr>\n",
       "      <th>93</th>\n",
       "      <td>Anchisa P.</td>\n",
       "      <td>2018-10-13</td>\n",
       "      <td>4.5 stars. 1 Michelin star Modern Peranakan cu...</td>\n",
       "      <td>4</td>\n",
       "      <td>Candlenut</td>\n",
       "      <td>Asian Fusion</td>\n",
       "      <td>1</td>\n",
       "      <td>[star, Michelin, star, Modern, Peranakan, cuis...</td>\n",
       "    </tr>\n",
       "    <tr>\n",
       "      <th>94</th>\n",
       "      <td>Vincent Q.</td>\n",
       "      <td>2018-10-02</td>\n",
       "      <td>This is the first time that I have had Peranka...</td>\n",
       "      <td>5</td>\n",
       "      <td>Candlenut</td>\n",
       "      <td>Asian Fusion</td>\n",
       "      <td>1</td>\n",
       "      <td>[be, first, time, have, have, Perankan, food, ...</td>\n",
       "    </tr>\n",
       "    <tr>\n",
       "      <th>95</th>\n",
       "      <td>George L.</td>\n",
       "      <td>2018-07-25</td>\n",
       "      <td>Came here to try Michelin Star fine dining res...</td>\n",
       "      <td>3</td>\n",
       "      <td>Candlenut</td>\n",
       "      <td>Asian Fusion</td>\n",
       "      <td>-1</td>\n",
       "      <td>[Came, here, try, Michelin, Star, fine, dining...</td>\n",
       "    </tr>\n",
       "    <tr>\n",
       "      <th>96</th>\n",
       "      <td>Sol A.</td>\n",
       "      <td>2018-04-21</td>\n",
       "      <td>Dining here was not the experience that I expe...</td>\n",
       "      <td>3</td>\n",
       "      <td>Candlenut</td>\n",
       "      <td>Asian Fusion</td>\n",
       "      <td>-1</td>\n",
       "      <td>[Dining, here, be, not, experience, expect, on...</td>\n",
       "    </tr>\n",
       "    <tr>\n",
       "      <th>97</th>\n",
       "      <td>Aimee K.</td>\n",
       "      <td>2018-10-14</td>\n",
       "      <td>I cannot recommend this restaurant enough, the...</td>\n",
       "      <td>5</td>\n",
       "      <td>Candlenut</td>\n",
       "      <td>Asian Fusion</td>\n",
       "      <td>1</td>\n",
       "      <td>[not, recommend, restaurant, enough, food, be,...</td>\n",
       "    </tr>\n",
       "  </tbody>\n",
       "</table>\n",
       "</div>"
      ],
      "text/plain": [
       "<div>\n",
       "<style scoped>\n",
       "    .dataframe tbody tr th:only-of-type {\n",
       "        vertical-align: middle;\n",
       "    }\n",
       "\n",
       "    .dataframe tbody tr th {\n",
       "        vertical-align: top;\n",
       "    }\n",
       "\n",
       "    .dataframe thead th {\n",
       "        text-align: right;\n",
       "    }\n",
       "</style>\n",
       "<table border=\"1\" class=\"dataframe\">\n",
       "  <thead>\n",
       "    <tr style=\"text-align: right;\">\n",
       "      <th></th>\n",
       "      <th>author</th>\n",
       "      <th>datePublished</th>\n",
       "      <th>description</th>\n",
       "      <th>reviewRating</th>\n",
       "      <th>name</th>\n",
       "      <th>cuisine</th>\n",
       "      <th>PosNeg</th>\n",
       "      <th>desc_tokenised</th>\n",
       "    </tr>\n",
       "  </thead>\n",
       "  <tbody>\n",
       "    <tr>\n",
       "      <th>93</th>\n",
       "      <td>Anchisa P.</td>\n",
       "      <td>2018-10-13</td>\n",
       "      <td>4.5 stars. 1 Michelin star Modern Peranakan cu...</td>\n",
       "      <td>4</td>\n",
       "      <td>Candlenut</td>\n",
       "      <td>Asian Fusion</td>\n",
       "      <td>1</td>\n",
       "      <td>[star, Michelin, star, Modern, Peranakan, cuis...</td>\n",
       "    </tr>\n",
       "    <tr>\n",
       "      <th>94</th>\n",
       "      <td>Vincent Q.</td>\n",
       "      <td>2018-10-02</td>\n",
       "      <td>This is the first time that I have had Peranka...</td>\n",
       "      <td>5</td>\n",
       "      <td>Candlenut</td>\n",
       "      <td>Asian Fusion</td>\n",
       "      <td>1</td>\n",
       "      <td>[be, first, time, have, have, Perankan, food, ...</td>\n",
       "    </tr>\n",
       "    <tr>\n",
       "      <th>95</th>\n",
       "      <td>George L.</td>\n",
       "      <td>2018-07-25</td>\n",
       "      <td>Came here to try Michelin Star fine dining res...</td>\n",
       "      <td>3</td>\n",
       "      <td>Candlenut</td>\n",
       "      <td>Asian Fusion</td>\n",
       "      <td>-1</td>\n",
       "      <td>[Came, here, try, Michelin, Star, fine, dining...</td>\n",
       "    </tr>\n",
       "    <tr>\n",
       "      <th>96</th>\n",
       "      <td>Sol A.</td>\n",
       "      <td>2018-04-21</td>\n",
       "      <td>Dining here was not the experience that I expe...</td>\n",
       "      <td>3</td>\n",
       "      <td>Candlenut</td>\n",
       "      <td>Asian Fusion</td>\n",
       "      <td>-1</td>\n",
       "      <td>[Dining, here, be, not, experience, expect, on...</td>\n",
       "    </tr>\n",
       "    <tr>\n",
       "      <th>97</th>\n",
       "      <td>Aimee K.</td>\n",
       "      <td>2018-10-14</td>\n",
       "      <td>I cannot recommend this restaurant enough, the...</td>\n",
       "      <td>5</td>\n",
       "      <td>Candlenut</td>\n",
       "      <td>Asian Fusion</td>\n",
       "      <td>1</td>\n",
       "      <td>[not, recommend, restaurant, enough, food, be,...</td>\n",
       "    </tr>\n",
       "  </tbody>\n",
       "</table>\n",
       "</div>"
      ]
     },
     "execution_count": 41,
     "metadata": {},
     "output_type": "execute_result"
    }
   ],
   "source": [
    "reviews_test_df.head()"
   ]
  },
  {
   "cell_type": "code",
   "execution_count": 42,
   "metadata": {},
   "outputs": [],
   "source": [
    "# dict for nltk NB classifier\n",
    "def word_feats(words):\n",
    "    return dict([ (word, True) for word in words ])\n",
    "\n",
    "train_featureset = [ (word_feats(reviews_train_df.iloc[i, 2]), reviews_train_df.iloc[i, 1]) for i in range(len(reviews_train_df)) ]\n",
    "test_featureset = [ (word_feats(reviews_test_df.iloc[i, 7]), reviews_test_df.iloc[i, 6]) for i in range(len(reviews_test_df)) ]"
   ]
  },
  {
   "cell_type": "markdown",
   "metadata": {},
   "source": [
    "## Train the Naive-Bayes Classifier"
   ]
  },
  {
   "cell_type": "code",
   "execution_count": 43,
   "metadata": {},
   "outputs": [
    {
     "name": "stdout",
     "output_type": "stream",
     "text": [
      "Most Informative Features\n"
     ]
    },
    {
     "name": "stdout",
     "output_type": "stream",
     "text": [
      "                  beggar = True                1 : -1     =     66.0 : 1.0\n                 chooser = True                1 : -1     =     65.3 : 1.0\n                    rib- = True                1 : -1     =     64.5 : 1.0\n                  water- = True                1 : -1     =     64.5 : 1.0\n               preoccupy = True               -1 : 1      =     54.0 : 1.0\n               drinkable = True               -1 : 1      =     54.0 : 1.0\n                 orchard = True               -1 : 1      =     53.3 : 1.0\n                Terrible = True               -1 : 1      =     53.3 : 1.0\n                 Orchard = True                1 : -1     =     52.0 : 1.0\n                     Pho = True               -1 : 1      =     48.4 : 1.0\n"
     ]
    }
   ],
   "source": [
    "## Naive Bayes Rule using nltk\n",
    "classifier_nb = NaiveBayesClassifier.train(train_featureset)\n",
    "classifier_nb.show_most_informative_features(10)  # -10 to see positive"
   ]
  },
  {
   "cell_type": "code",
   "execution_count": 44,
   "metadata": {},
   "outputs": [],
   "source": [
    "y_train_pred = [ classifier_nb.classify(word_feats(i)) for i in reviews_train_df['desc_tokenised'] ]\n",
    "y_test_pred = [ classifier_nb.classify(word_feats(i)) for i in reviews_test_df['desc_tokenised'] ]"
   ]
  },
  {
   "cell_type": "code",
   "execution_count": 45,
   "metadata": {},
   "outputs": [
    {
     "data": {
      "text/plain": [
       "[1, 1, -1, 1, -1]"
      ]
     },
     "execution_count": 45,
     "metadata": {},
     "output_type": "execute_result"
    }
   ],
   "source": [
    "y_train_pred[:5]"
   ]
  },
  {
   "cell_type": "code",
   "execution_count": 108,
   "metadata": {},
   "outputs": [
    {
     "data": {
      "text/plain": [
       "array([[11610,   173],\n       [ 3691,  6963]])"
      ]
     },
     "execution_count": 108,
     "metadata": {},
     "output_type": "execute_result"
    }
   ],
   "source": [
    "cf_matrix_train = confusion_matrix(reviews_train_df['PosNeg'].values, y_train_pred)\n",
    "# cf_matrix_train = pd.crosstab(reviews_train_df['PosNeg'], pd.Series(y_train_pred),\n",
    "#                               rownames=['Actual'], colnames=['Predicted'])\n",
    "cf_matrix_train"
   ]
  },
  {
   "cell_type": "code",
   "execution_count": 109,
   "metadata": {},
   "outputs": [
    {
     "data": {
      "text/plain": [
       "array([[118,   8],\n       [121, 117]])"
      ]
     },
     "execution_count": 109,
     "metadata": {},
     "output_type": "execute_result"
    }
   ],
   "source": [
    "cf_matrix_test = confusion_matrix(reviews_test_df['PosNeg'].values, y_test_pred)\n",
    "# cf_matrix_test = pd.crosstab(reviews_test_df['PosNeg'], pd.Series(y_test_pred),\n",
    "#                               rownames=['Actual'], colnames=['Predicted'], margins=True)\n",
    "cf_matrix_test"
   ]
  },
  {
   "cell_type": "code",
   "execution_count": 111,
   "metadata": {},
   "outputs": [],
   "source": [
    "#cfm.sum(axis=1)"
   ]
  },
  {
   "cell_type": "code",
   "execution_count": 110,
   "metadata": {},
   "outputs": [],
   "source": [
    "# cfm = pd.crosstab(reviews_test_df['PosNeg'], pd.Series(y_test_pred),\n",
    "#                   rownames=['Actual'], colnames=['Predicted'])\n",
    "# cf_norm_matrix = (cfm.T / cfm.sum(axis=1)).T\n",
    "# cf_norm_matrix"
   ]
  },
  {
   "cell_type": "code",
   "execution_count": 94,
   "metadata": {},
   "outputs": [],
   "source": [
    "# This function prints and plots the confusion matrix. Normalization can be applied by setting `normalize=True`.\n",
    "def plot_confusion_matrix(cm,title='Confusion matrix', normalize = False, cmap=plt.cm.Blues):\n",
    "\n",
    "    if normalize:\n",
    "        # cm = cm.astype('float') / cm.sum(axis=1)[:, np.newaxis]\n",
    "        cm = cm / cm.sum(axis = 1)\n",
    "        print(\"Normalized confusion matrix\")\n",
    "    else:\n",
    "        print('Confusion matrix, without normalization')\n",
    "\n",
    "    print(cm)\n",
    "\n",
    "    plt.imshow(cm, interpolation='nearest', cmap=cmap)\n",
    "    plt.title(title)\n",
    "    plt.colorbar()\n",
    "    # tick_marks = np.arange(len(classes))\n",
    "    # plt.xticks(tick_marks, classes, rotation=45)\n",
    "    # plt.yticks(tick_marks, classes)\n",
    "    \n",
    "    tick_marks = np.arange(len(cm.columns))\n",
    "    plt.xticks(tick_marks, cm.columns, rotation=45)\n",
    "    plt.yticks(tick_marks, cm.index)\n",
    "\n",
    "    fmt = '.2f' if normalize else 'd'\n",
    "    thresh = cm.values.max() / 2.\n",
    "    # for i, j in itertools.product(range(cm.shape[0]), range(cm.shape[1])):\n",
    "        # plt.text(j, i, format(cm[i, j], fmt),\n",
    "        #          horizontalalignment=\"center\",\n",
    "        #          color=\"white\" if cm[i, j] > thresh else \"black\")\n",
    "\n",
    "    for i, j in itertools.product(range(len(cm)), range(len(cm.columns))):\n",
    "        plt.text(j, i, format(cm.iloc[i, j], fmt),\n",
    "                 horizontalalignment=\"center\",\n",
    "                 color=\"white\" if (cm.iloc[i, j] > thresh) else \"black\")\n",
    "\n",
    "\n",
    "    # for index, row in cm.iterrows():\n",
    "    #     for i, elem in enumerate(row):\n",
    "    #         plt.text(i, index, format(elem, fmt),\n",
    "    #                  horizontalalignment=\"center\",\n",
    "    #                  color=\"white\" if elem > thresh else \"black\")\n",
    "\n",
    "    plt.tight_layout()\n",
    "    # plt.ylabel('True label')\n",
    "    # plt.xlabel('Predicted label')\n",
    "    plt.ylabel(cm.index.name)\n",
    "    plt.xlabel(cm.columns.name)"
   ]
  },
  {
   "cell_type": "code",
   "execution_count": 112,
   "metadata": {},
   "outputs": [],
   "source": [
    "# plt.figure(figsize=(10, 4))\n",
    "# plt.subplot(121)\n",
    "# plot_confusion_matrix(pd.crosstab(reviews_train_df['PosNeg'], pd.Series(y_train_pred),\n",
    "#                                   rownames=['Actual'], colnames=['Predicted']),\n",
    "#                       title='Train Confusion matrix')\n",
    "# plt.subplot(122)\n",
    "# plot_confusion_matrix(pd.crosstab(reviews_test_df['PosNeg'], pd.Series(y_test_pred),\n",
    "#                                   rownames=['Actual'], colnames=['Predicted']),\n",
    "#                       title='Test Confusion matrix')\n",
    "# plt.show()"
   ]
  },
  {
   "cell_type": "code",
   "execution_count": 115,
   "metadata": {},
   "outputs": [
    {
     "name": "stdout",
     "output_type": "stream",
     "text": [
      "Train Results\n\n              precision    recall  f1-score   support\n\n        Neg       0.76      0.99      0.86     11783\n        Pos       0.98      0.65      0.78     10654\n\navg / total       0.86      0.83      0.82     22437\n\n"
     ]
    }
   ],
   "source": [
    "print('Train Results\\n\\n', classification_report(reviews_train_df['PosNeg'].values, y_train_pred, target_names=['Neg', 'Pos']))"
   ]
  },
  {
   "cell_type": "code",
   "execution_count": 116,
   "metadata": {},
   "outputs": [
    {
     "name": "stdout",
     "output_type": "stream",
     "text": [
      "Test Results\n\n              precision    recall  f1-score   support\n\n        Neg       0.49      0.94      0.65       126\n        Pos       0.94      0.49      0.64       238\n\navg / total       0.78      0.65      0.65       364\n\n"
     ]
    }
   ],
   "source": [
    "print('Test Results\\n\\n', classification_report(reviews_test_df['PosNeg'], y_test_pred, target_names=['Neg', 'Pos']))"
   ]
  },
  {
   "cell_type": "markdown",
   "metadata": {},
   "source": [
    "## Train the SVM classifier"
   ]
  },
  {
   "cell_type": "code",
   "execution_count": 118,
   "metadata": {},
   "outputs": [
    {
     "data": {
      "text/plain": [
       "'Beef ball be good Try beef combo pho spicy beef soup be little too spicy'"
      ]
     },
     "execution_count": 118,
     "metadata": {},
     "output_type": "execute_result"
    }
   ],
   "source": [
    "' '.join(reviews_train_df['desc_tokenised'].values[0])"
   ]
  },
  {
   "cell_type": "code",
   "execution_count": 119,
   "metadata": {},
   "outputs": [
    {
     "data": {
      "text/plain": [
       "array(['Beef ball be good Try beef combo pho spicy beef soup be little too spicy',\n       \"Egg noodle prawn spare rib- delicious be queue everyone enjoy meal lose star do n't provide water- even purchase other drink only sell bottled water\",\n       \"Egg noodle prawn pork rib star Loved crunchy texture noodle pork rib be well do However prawn come only stomach taste fishy not fresh Gross Portion be also small do n't taste very authentic Also do n't know actual Vietnamese dish look so perhaps 'm ignorant\",\n       \"Banh mi be amazing sandwich Now have have fair share sandwich grow up New Zealand have eat breakfast dinner have bahn mi get taste lot more just mayo pickle Bahn mi be flavor spice place have 're run Vietnamese people place be quite first then get lively be hit Singapore start day then grab sambal chicken have chicken cook sambal CHILLI 's amaze spice do dish place have n't wait have pho be hard get as well shore New Zealand\",\n       \"Have be see Nam Nam ridiculously long queue finally have chance try PS slow know Not sure expect everyone know hard be find good Vietnamese food Singapore say be please tot surprise soup be nice delicate everything taste fresh crisp way Vietnamese food be Spring Roll skin be little bit starchy compare others 've try Pho be delicious course visit try beef slice pork ball beef ball mixed beef beef ball be little touched average beef ball beef slice be lack fat content make turn hard dry very quickly however pork ball be die even have chance try friend banana coconut cream be lovely as well 's good casual place reasonably price bite orchard sandwich Pho start only setback place be service Staff be little rude last cashier always give matter-of-fact-ly tone have idea direction want customer queue pay Was bit chaotic entrance customer be there first time be n't sure order pay be seat queue be seat lead straight cashier However service food come out decent place 's great place grab lunch lunch come free drink be great simple yet tasty lunch\"],\n      dtype=object)"
      ]
     },
     "execution_count": 119,
     "metadata": {},
     "output_type": "execute_result"
    }
   ],
   "source": [
    "reviews_train_df['desc_tokenised'][:5].apply(lambda x: ' '.join(x)).values"
   ]
  },
  {
   "cell_type": "code",
   "execution_count": 120,
   "metadata": {},
   "outputs": [],
   "source": [
    "# Using tf-idf docuement vector as features for the SVM classifier\n",
    "vectorizer = TfidfVectorizer()\n",
    "# train_vectors = vectorizer.fit_transform(reviews_train_df['description'].values)\n",
    "# test_vectors = vectorizer.transform(reviews_test_df['description'].values)\n",
    "train_vectors = vectorizer.fit_transform(reviews_train_df['desc_tokenised'].apply(lambda x: ' '.join(x)).values)\n",
    "test_vectors = vectorizer.transform(reviews_test_df['desc_tokenised'].apply(lambda x: ' '.join(x)).values)"
   ]
  },
  {
   "cell_type": "code",
   "execution_count": 121,
   "metadata": {},
   "outputs": [
    {
     "data": {
      "text/plain": [
       "array([[0., 0., 0., ..., 0., 0., 0.]])"
      ]
     },
     "execution_count": 121,
     "metadata": {},
     "output_type": "execute_result"
    }
   ],
   "source": [
    "train_vectors[0].toarray()"
   ]
  },
  {
   "cell_type": "code",
   "execution_count": 122,
   "metadata": {},
   "outputs": [
    {
     "name": "stdout",
     "output_type": "stream",
     "text": [
      "Train matrix shape (22437, 30745)\nTest matrix shape (364, 30745)\n"
     ]
    }
   ],
   "source": [
    "print (\"Train matrix shape \" + str(train_vectors.shape))\n",
    "print (\"Test matrix shape \" + str(test_vectors.shape))"
   ]
  },
  {
   "cell_type": "code",
   "execution_count": 123,
   "metadata": {},
   "outputs": [
    {
     "name": "stdout",
     "output_type": "stream",
     "text": [
      "['00', '00p', '00pm', '01', '02', '04', '05', '06', '07', '08', '09', '0d', '10', '100', '1000', '1007', '104', '10am', '10min', '10mins', '10minutes', '10p', '10pm', '10th', '10x', '11', '11a', '11am', '11p', '11pm', '12', '120', '12am', '12ys', '13', '130', '130th', '13th', '14', '15', '150', '1547736', '155848485', '157cal', '15min', '15mins', '16', '162', '17', '177746751', '18', '18o6avt', '19', '19485', '1955', '1dm_xzefusgbh', '1hr', '1pm', '1st', '20', '200', '2002', '2005', '2006', '2008', '2009', '2010', '20100127chris', '2011', '2012', '2013', '20130212', '2014', '2018', '20mins', '20th', '20yr', '21', '2166', '21st', '22', '22286174', '23', '24', '24045479', '24oz', '25', '250', '25th', '26', '27', '28', '29', '29p', '2a', '2am', '2exiflcfnvhc7albemi2lw', '2fn8mn7uujow', '2hours', '2hr']\n"
     ]
    }
   ],
   "source": [
    "print(vectorizer.get_feature_names()[:100])"
   ]
  },
  {
   "cell_type": "code",
   "execution_count": 124,
   "metadata": {},
   "outputs": [
    {
     "data": {
      "text/plain": [
       "SVC(C=10000.0, cache_size=200, class_weight=None, coef0=0.0,\n  decision_function_shape='ovr', degree=3, gamma='auto', kernel='rbf',\n  max_iter=-1, probability=False, random_state=None, shrinking=True,\n  tol=0.001, verbose=False)"
      ]
     },
     "execution_count": 124,
     "metadata": {},
     "output_type": "execute_result"
    }
   ],
   "source": [
    "# Train the SVM classifier\n",
    "svm = SVC(C=10000.0, gamma='auto', kernel='rbf')\n",
    "svm.fit(train_vectors, reviews_train_df['PosNeg'].values)\n",
    "\n",
    "# C_range = [1e-2, 1, 1e2]\n",
    "# gamma_range = [1e-1, 1, 1e1]\n",
    "# param_grid = dict(gamma=gamma_range, C=C_range)\n",
    "# grid = GridSearchCV(SVC(), param_grid=param_grid)\n",
    "# grid.fit(train_vectors, reviews_train_df['PosNeg'].values)"
   ]
  },
  {
   "cell_type": "code",
   "execution_count": 125,
   "metadata": {},
   "outputs": [],
   "source": [
    "y_train_predsvm = svm.predict(train_vectors)\n",
    "y_test_predsvm = svm.predict(test_vectors)"
   ]
  },
  {
   "cell_type": "code",
   "execution_count": 126,
   "metadata": {},
   "outputs": [
    {
     "data": {
      "text/plain": [
       "array([[10994,   789],\n       [  684,  9970]])"
      ]
     },
     "execution_count": 126,
     "metadata": {},
     "output_type": "execute_result"
    }
   ],
   "source": [
    "cf_matrix_trainsvm = confusion_matrix(reviews_train_df['PosNeg'].values, y_train_predsvm)\n",
    "# cf_matrix_trainsvm = pd.crosstab(reviews_train_df['PosNeg'], pd.Series(y_train_predsvm),\n",
    "#                               rownames=['Actual'], colnames=['Predicted'], margins=True)\n",
    "cf_matrix_trainsvm"
   ]
  },
  {
   "cell_type": "code",
   "execution_count": 127,
   "metadata": {},
   "outputs": [
    {
     "data": {
      "text/plain": [
       "array([[101,  25],\n       [ 39, 199]])"
      ]
     },
     "execution_count": 127,
     "metadata": {},
     "output_type": "execute_result"
    }
   ],
   "source": [
    "cf_matrix_testsvm = confusion_matrix(reviews_test_df['PosNeg'].values, y_test_predsvm)\n",
    "# cf_matrix_testsvm = pd.crosstab(reviews_test_df['PosNeg'], pd.Series(y_test_predsvm),\n",
    "#                                 rownames=['Actual'], colnames=['Predicted'], margins=True)\n",
    "cf_matrix_testsvm"
   ]
  },
  {
   "cell_type": "code",
   "execution_count": 128,
   "metadata": {},
   "outputs": [],
   "source": [
    "# plt.figure(figsize=(10, 4))\n",
    "# plt.subplot(121)\n",
    "# plot_confusion_matrix(pd.crosstab(reviews_train_df['PosNeg'], pd.Series(y_train_predsvm),\n",
    "#                               rownames=['Actual'], colnames=['Predicted']),\n",
    "#                       title='Train Confusion matrix')\n",
    "# plt.subplot(122)\n",
    "# plot_confusion_matrix(pd.crosstab(reviews_test_df['PosNeg'], pd.Series(y_test_predsvm),\n",
    "#                               rownames=['Actual'], colnames=['Predicted']),\n",
    "#                       title='Test Confusion matrix')\n",
    "# plt.show()"
   ]
  },
  {
   "cell_type": "code",
   "execution_count": 129,
   "metadata": {},
   "outputs": [
    {
     "name": "stdout",
     "output_type": "stream",
     "text": [
      "Train Results\n\n              precision    recall  f1-score   support\n\n        Neg       0.94      0.93      0.94     11783\n        Pos       0.93      0.94      0.93     10654\n\navg / total       0.93      0.93      0.93     22437\n\n"
     ]
    }
   ],
   "source": [
    "print('Train Results\\n\\n', classification_report(reviews_train_df['PosNeg'].values, y_train_predsvm, target_names=['Neg', 'Pos']))"
   ]
  },
  {
   "cell_type": "code",
   "execution_count": 130,
   "metadata": {},
   "outputs": [
    {
     "name": "stdout",
     "output_type": "stream",
     "text": [
      "Test Results\n\n              precision    recall  f1-score   support\n\n        Neg       0.72      0.80      0.76       126\n        Pos       0.89      0.84      0.86       238\n\navg / total       0.83      0.82      0.83       364\n\n"
     ]
    }
   ],
   "source": [
    "print('Test Results\\n\\n', classification_report(reviews_test_df['PosNeg'].values, y_test_predsvm, target_names=['Neg', 'Pos']))"
   ]
  },
  {
   "cell_type": "markdown",
   "metadata": {},
   "source": [
    "### Train SVM using bigrams"
   ]
  },
  {
   "cell_type": "code",
   "execution_count": 146,
   "metadata": {},
   "outputs": [],
   "source": [
    "# Using tf-idf docuement vector as features for the SVM classifier\n",
    "vectorizer_bigram = TfidfVectorizer(ngram_range = (1, 2))\n",
    "train_vectors_bg = vectorizer_bigram.fit_transform(reviews_train_df['desc_tokenised'].apply(lambda x: ' '.join(x)).values)\n",
    "test_vectors_bg = vectorizer_bigram.transform(reviews_test_df['desc_tokenised'].apply(lambda x: ' '.join(x)).values)"
   ]
  },
  {
   "cell_type": "code",
   "execution_count": 147,
   "metadata": {},
   "outputs": [
    {
     "name": "stdout",
     "output_type": "stream",
     "text": [
      "Train matrix shape (22437, 592321)\nTest matrix shape (364, 592321)\n"
     ]
    }
   ],
   "source": [
    "print (\"Train matrix shape \" + str(train_vectors_bg.shape))\n",
    "print (\"Test matrix shape \" + str(test_vectors_bg.shape))"
   ]
  },
  {
   "cell_type": "code",
   "execution_count": 148,
   "metadata": {},
   "outputs": [
    {
     "name": "stdout",
     "output_type": "stream",
     "text": [
      "['00', '00 flavored', '00 pm', '00p', '00p learn', '00pm', '00pm eat', '00pm web', '01', '01 16', '01 star', '02', '02 type', '04', '04 22', '05', '05 10', '05 16', '05 former', '05 have', '06', '06 06', '06 mitchell', '07', '07 even', '07 so', '08', '08 28', '09', '09 01', '09 admit', '09 noon', '09 so', '0d', '0d also', '10', '10 00p', '10 10', '10 11', '10 12', '10 15', '10 15min', '10 15mins', '10 18', '10 20', '10 2012', '10 23', '10 26', '10 2am', '10 30', '10 30pm', '10 always', '10 anthony', '10 be', '10 breakfast', '10 buck', '10 burger', '10 church', '10 consider', '10 construction', '10 daily', '10 decide', '10 do', '10 dollar', '10 eat', '10 folk', '10 get', '10 give', '10 great', '10 have', '10 heat', '10 hour', '10 least', '10 leisurely', '10 love', '10 madison', '10 make', '10 min', '10 minute', '10 missable', '10 more', '10 multiple', '10 order', '10 other', '10 oz', '10 pages', '10 people', '10 pizza', '10 pm', '10 possible', '10 price', '10 rating', '10 recommend', '10 say', '10 scale', '10 seat', '10 seater', '10 second', '10 server', '10 set']\n"
     ]
    }
   ],
   "source": [
    "print(vectorizer_bigram.get_feature_names()[:100])"
   ]
  },
  {
   "cell_type": "code",
   "execution_count": 149,
   "metadata": {},
   "outputs": [
    {
     "data": {
      "text/plain": [
       "SVC(C=10000.0, cache_size=200, class_weight=None, coef0=0.0,\n  decision_function_shape='ovr', degree=3, gamma='auto', kernel='rbf',\n  max_iter=-1, probability=False, random_state=None, shrinking=True,\n  tol=0.001, verbose=False)"
      ]
     },
     "execution_count": 149,
     "metadata": {},
     "output_type": "execute_result"
    }
   ],
   "source": [
    "# Train the SVM classifier\n",
    "svm_bg = SVC(C=10000.0, gamma='auto', kernel='rbf')\n",
    "svm_bg.fit(train_vectors_bg, reviews_train_df['PosNeg'].values)"
   ]
  },
  {
   "cell_type": "code",
   "execution_count": 150,
   "metadata": {},
   "outputs": [],
   "source": [
    "y_train_predsvmbg = svm_bg.predict(train_vectors_bg)\n",
    "y_test_predsvmbg = svm_bg.predict(test_vectors_bg)"
   ]
  },
  {
   "cell_type": "code",
   "execution_count": 151,
   "metadata": {},
   "outputs": [
    {
     "data": {
      "text/plain": [
       "array([[11100,   683],\n       [ 2496,  8158]])"
      ]
     },
     "execution_count": 151,
     "metadata": {},
     "output_type": "execute_result"
    }
   ],
   "source": [
    "cf_matrix_trainsvmbg = confusion_matrix(reviews_train_df['PosNeg'].values, y_train_predsvmbg)\n",
    "cf_matrix_trainsvmbg"
   ]
  },
  {
   "cell_type": "code",
   "execution_count": 152,
   "metadata": {},
   "outputs": [
    {
     "data": {
      "text/plain": [
       "array([[110,  16],\n       [ 80, 158]])"
      ]
     },
     "execution_count": 152,
     "metadata": {},
     "output_type": "execute_result"
    }
   ],
   "source": [
    "cf_matrix_testsvmbg = confusion_matrix(reviews_test_df['PosNeg'].values, y_test_predsvmbg)\n",
    "cf_matrix_testsvmbg"
   ]
  },
  {
   "cell_type": "code",
   "execution_count": 153,
   "metadata": {},
   "outputs": [
    {
     "name": "stdout",
     "output_type": "stream",
     "text": [
      "Train Results\n\n              precision    recall  f1-score   support\n\n        Neg       0.82      0.94      0.87     11783\n        Pos       0.92      0.77      0.84     10654\n\navg / total       0.87      0.86      0.86     22437\n\n"
     ]
    }
   ],
   "source": [
    "print('Train Results\\n\\n', classification_report(reviews_train_df['PosNeg'].values, y_train_predsvmbg, target_names=['Neg', 'Pos']))"
   ]
  },
  {
   "cell_type": "code",
   "execution_count": 154,
   "metadata": {},
   "outputs": [
    {
     "name": "stdout",
     "output_type": "stream",
     "text": [
      "Test Results\n\n              precision    recall  f1-score   support\n\n        Neg       0.58      0.87      0.70       126\n        Pos       0.91      0.66      0.77       238\n\navg / total       0.79      0.74      0.74       364\n\n"
     ]
    }
   ],
   "source": [
    "print('Test Results\\n\\n', classification_report(reviews_test_df['PosNeg'].values, y_test_predsvmbg, target_names=['Neg', 'Pos']))"
   ]
  },
  {
   "cell_type": "markdown",
   "metadata": {},
   "source": [
    "### Use the negation feature with SVM"
   ]
  },
  {
   "cell_type": "code",
   "execution_count": 158,
   "metadata": {},
   "outputs": [],
   "source": [
    "def neg_tag(text):\n",
    "    transformed = re.sub(r\"\\b(?:never|nothing|nowhere|noone|none|not|haven't|hasn't|hasnt|hadn't|hadnt|can't|cant|couldn't|couldnt|shouldn't|shouldnt|won't|wont|wouldn't|wouldnt|don't|dont|doesn't|doesnt|didn't|didnt|isnt|isn't|aren't|arent|aint|ain't|hardly|seldom)\\b[\\w\\s]+[^\\w\\s]\",\n",
    "                         lambda match: re.sub(r'(\\s+)(\\w+)', r'\\1NEG_\\2', match.group(0)), text, flags=re.IGNORECASE)\n",
    "    return(transformed)"
   ]
  },
  {
   "cell_type": "code",
   "execution_count": 160,
   "metadata": {},
   "outputs": [
    {
     "data": {
      "text/plain": [
       "0    [Beef, ball, is, good, !, Try, the, beef, comb...\n1    [Egg, noodle, with, prawns, and, spare, rib-, ...\n2    [Egg, noodles, with, prawns, and, pork, rib, (...\n3    [Banh, mi, is, an, amazing, sandwich, ..., Now...\n4    [Have, been, seeing, Nam, Nam, with, ridiculou...\nName: desc_neg_tokenised, dtype: object"
      ]
     },
     "execution_count": 160,
     "metadata": {},
     "output_type": "execute_result"
    }
   ],
   "source": [
    "reviews_train_df['desc_neg_tokenised'] = reviews_train_df['description'].apply(lambda x: word_tokenize(neg_tag(x)))\n",
    "reviews_train_df['desc_neg_tokenised'][:5]"
   ]
  },
  {
   "cell_type": "code",
   "execution_count": 161,
   "metadata": {},
   "outputs": [
    {
     "data": {
      "text/html": [
       "<div>\n",
       "<style scoped>\n",
       "    .dataframe tbody tr th:only-of-type {\n",
       "        vertical-align: middle;\n",
       "    }\n",
       "\n",
       "    .dataframe tbody tr th {\n",
       "        vertical-align: top;\n",
       "    }\n",
       "\n",
       "    .dataframe thead th {\n",
       "        text-align: right;\n",
       "    }\n",
       "</style>\n",
       "<table border=\"1\" class=\"dataframe\">\n",
       "  <thead>\n",
       "    <tr style=\"text-align: right;\">\n",
       "      <th></th>\n",
       "      <th>description</th>\n",
       "      <th>PosNeg</th>\n",
       "      <th>desc_tokenised</th>\n",
       "      <th>pred_NB</th>\n",
       "      <th>pred_SVM</th>\n",
       "      <th>desc_neg_tokenised</th>\n",
       "    </tr>\n",
       "  </thead>\n",
       "  <tbody>\n",
       "    <tr>\n",
       "      <th>0</th>\n",
       "      <td>Beef ball is good! Try the beef combo pho. The...</td>\n",
       "      <td>1</td>\n",
       "      <td>[Beef, ball, be, good, Try, beef, combo, pho, ...</td>\n",
       "      <td>1</td>\n",
       "      <td>1</td>\n",
       "      <td>[Beef, ball, is, good, !, Try, the, beef, comb...</td>\n",
       "    </tr>\n",
       "    <tr>\n",
       "      <th>1</th>\n",
       "      <td>Egg noodle with prawns and spare rib- deliciou...</td>\n",
       "      <td>1</td>\n",
       "      <td>[Egg, noodle, prawn, spare, rib-, delicious, b...</td>\n",
       "      <td>1</td>\n",
       "      <td>1</td>\n",
       "      <td>[Egg, noodle, with, prawns, and, spare, rib-, ...</td>\n",
       "    </tr>\n",
       "    <tr>\n",
       "      <th>2</th>\n",
       "      <td>Egg noodles with prawns and pork rib ($11) - 3...</td>\n",
       "      <td>-1</td>\n",
       "      <td>[Egg, noodle, prawn, pork, rib, star, Loved, c...</td>\n",
       "      <td>-1</td>\n",
       "      <td>-1</td>\n",
       "      <td>[Egg, noodles, with, prawns, and, pork, rib, (...</td>\n",
       "    </tr>\n",
       "    <tr>\n",
       "      <th>3</th>\n",
       "      <td>Banh mi is an amazing sandwich... Now I have h...</td>\n",
       "      <td>1</td>\n",
       "      <td>[Banh, mi, be, amazing, sandwich, Now, have, h...</td>\n",
       "      <td>1</td>\n",
       "      <td>1</td>\n",
       "      <td>[Banh, mi, is, an, amazing, sandwich, ..., Now...</td>\n",
       "    </tr>\n",
       "    <tr>\n",
       "      <th>4</th>\n",
       "      <td>Have been seeing Nam Nam with ridiculously lon...</td>\n",
       "      <td>-1</td>\n",
       "      <td>[Have, be, see, Nam, Nam, ridiculously, long, ...</td>\n",
       "      <td>-1</td>\n",
       "      <td>-1</td>\n",
       "      <td>[Have, been, seeing, Nam, Nam, with, ridiculou...</td>\n",
       "    </tr>\n",
       "  </tbody>\n",
       "</table>\n",
       "</div>"
      ],
      "text/plain": [
       "<div>\n",
       "<style scoped>\n",
       "    .dataframe tbody tr th:only-of-type {\n",
       "        vertical-align: middle;\n",
       "    }\n",
       "\n",
       "    .dataframe tbody tr th {\n",
       "        vertical-align: top;\n",
       "    }\n",
       "\n",
       "    .dataframe thead th {\n",
       "        text-align: right;\n",
       "    }\n",
       "</style>\n",
       "<table border=\"1\" class=\"dataframe\">\n",
       "  <thead>\n",
       "    <tr style=\"text-align: right;\">\n",
       "      <th></th>\n",
       "      <th>description</th>\n",
       "      <th>PosNeg</th>\n",
       "      <th>desc_tokenised</th>\n",
       "      <th>pred_NB</th>\n",
       "      <th>pred_SVM</th>\n",
       "      <th>desc_neg_tokenised</th>\n",
       "    </tr>\n",
       "  </thead>\n",
       "  <tbody>\n",
       "    <tr>\n",
       "      <th>0</th>\n",
       "      <td>Beef ball is good! Try the beef combo pho. The...</td>\n",
       "      <td>1</td>\n",
       "      <td>[Beef, ball, be, good, Try, beef, combo, pho, ...</td>\n",
       "      <td>1</td>\n",
       "      <td>1</td>\n",
       "      <td>[Beef, ball, is, good, !, Try, the, beef, comb...</td>\n",
       "    </tr>\n",
       "    <tr>\n",
       "      <th>1</th>\n",
       "      <td>Egg noodle with prawns and spare rib- deliciou...</td>\n",
       "      <td>1</td>\n",
       "      <td>[Egg, noodle, prawn, spare, rib-, delicious, b...</td>\n",
       "      <td>1</td>\n",
       "      <td>1</td>\n",
       "      <td>[Egg, noodle, with, prawns, and, spare, rib-, ...</td>\n",
       "    </tr>\n",
       "    <tr>\n",
       "      <th>2</th>\n",
       "      <td>Egg noodles with prawns and pork rib ($11) - 3...</td>\n",
       "      <td>-1</td>\n",
       "      <td>[Egg, noodle, prawn, pork, rib, star, Loved, c...</td>\n",
       "      <td>-1</td>\n",
       "      <td>-1</td>\n",
       "      <td>[Egg, noodles, with, prawns, and, pork, rib, (...</td>\n",
       "    </tr>\n",
       "    <tr>\n",
       "      <th>3</th>\n",
       "      <td>Banh mi is an amazing sandwich... Now I have h...</td>\n",
       "      <td>1</td>\n",
       "      <td>[Banh, mi, be, amazing, sandwich, Now, have, h...</td>\n",
       "      <td>1</td>\n",
       "      <td>1</td>\n",
       "      <td>[Banh, mi, is, an, amazing, sandwich, ..., Now...</td>\n",
       "    </tr>\n",
       "    <tr>\n",
       "      <th>4</th>\n",
       "      <td>Have been seeing Nam Nam with ridiculously lon...</td>\n",
       "      <td>-1</td>\n",
       "      <td>[Have, be, see, Nam, Nam, ridiculously, long, ...</td>\n",
       "      <td>-1</td>\n",
       "      <td>-1</td>\n",
       "      <td>[Have, been, seeing, Nam, Nam, with, ridiculou...</td>\n",
       "    </tr>\n",
       "  </tbody>\n",
       "</table>\n",
       "</div>"
      ]
     },
     "execution_count": 161,
     "metadata": {},
     "output_type": "execute_result"
    }
   ],
   "source": [
    "reviews_train_df.head()"
   ]
  },
  {
   "cell_type": "code",
   "execution_count": 162,
   "metadata": {},
   "outputs": [
    {
     "name": "stderr",
     "output_type": "stream",
     "text": [
      "/usr/lib/python3/dist-packages/ipykernel_launcher.py:1: SettingWithCopyWarning: \nA value is trying to be set on a copy of a slice from a DataFrame.\nTry using .loc[row_indexer,col_indexer] = value instead\n\nSee the caveats in the documentation: http://pandas.pydata.org/pandas-docs/stable/indexing.html#indexing-view-versus-copy\n  \"\"\"Entry point for launching an IPython kernel.\n"
     ]
    },
    {
     "data": {
      "text/plain": [
       "93    [4.5, stars, ., 1, Michelin, star, Modern, Per...\n94    [This, is, the, first, time, that, I, have, ha...\n95    [Came, here, to, try, Michelin, Star, fine, di...\n96    [Dining, here, was, not, NEG_the, NEG_experien...\n97    [I, can, not, recommend, this, restaurant, eno...\nName: desc_neg_tokenised, dtype: object"
      ]
     },
     "execution_count": 162,
     "metadata": {},
     "output_type": "execute_result"
    }
   ],
   "source": [
    "reviews_test_df['desc_neg_tokenised'] = reviews_test_df['description'].apply(lambda x: word_tokenize(neg_tag(x)))\n",
    "reviews_test_df['desc_neg_tokenised'][:5]"
   ]
  },
  {
   "cell_type": "code",
   "execution_count": 163,
   "metadata": {},
   "outputs": [],
   "source": [
    "train_vectors_neg = vectorizer.fit_transform(reviews_train_df['desc_neg_tokenised'].apply(lambda x: ' '.join(x)).values)\n",
    "test_vectors_neg = vectorizer.transform(reviews_test_df['desc_neg_tokenised'].apply(lambda x: ' '.join(x)).values)"
   ]
  },
  {
   "cell_type": "code",
   "execution_count": 164,
   "metadata": {},
   "outputs": [
    {
     "data": {
      "text/plain": [
       "SVC(C=10000.0, cache_size=200, class_weight=None, coef0=0.0,\n  decision_function_shape='ovr', degree=3, gamma='auto', kernel='rbf',\n  max_iter=-1, probability=False, random_state=None, shrinking=True,\n  tol=0.001, verbose=False)"
      ]
     },
     "execution_count": 164,
     "metadata": {},
     "output_type": "execute_result"
    }
   ],
   "source": [
    "# Train the SVM classifier\n",
    "svm_neg = SVC(C=10000.0, gamma='auto', kernel='rbf')\n",
    "svm_neg.fit(train_vectors_neg, reviews_train_df['PosNeg'].values)"
   ]
  },
  {
   "cell_type": "code",
   "execution_count": 166,
   "metadata": {},
   "outputs": [],
   "source": [
    "y_train_predsvmng = svm_neg.predict(train_vectors_neg)\n",
    "y_test_predsvmng = svm_neg.predict(test_vectors_neg)"
   ]
  },
  {
   "cell_type": "code",
   "execution_count": 168,
   "metadata": {},
   "outputs": [
    {
     "data": {
      "text/plain": [
       "array([[11052,   731],\n       [  692,  9962]])"
      ]
     },
     "execution_count": 168,
     "metadata": {},
     "output_type": "execute_result"
    }
   ],
   "source": [
    "cf_matrix_trainsvmneg = confusion_matrix(reviews_train_df['PosNeg'].values, y_train_predsvmng)\n",
    "cf_matrix_trainsvmneg"
   ]
  },
  {
   "cell_type": "code",
   "execution_count": 169,
   "metadata": {},
   "outputs": [
    {
     "data": {
      "text/plain": [
       "array([[100,  26],\n       [ 35, 203]])"
      ]
     },
     "execution_count": 169,
     "metadata": {},
     "output_type": "execute_result"
    }
   ],
   "source": [
    "cf_matrix_testsvmneg = confusion_matrix(reviews_test_df['PosNeg'].values, y_test_predsvmng)\n",
    "cf_matrix_testsvmneg"
   ]
  },
  {
   "cell_type": "code",
   "execution_count": 170,
   "metadata": {},
   "outputs": [
    {
     "name": "stdout",
     "output_type": "stream",
     "text": [
      "Train Results\n\n              precision    recall  f1-score   support\n\n        Neg       0.94      0.94      0.94     11783\n        Pos       0.93      0.94      0.93     10654\n\navg / total       0.94      0.94      0.94     22437\n\n"
     ]
    }
   ],
   "source": [
    "print('Train Results\\n\\n', classification_report(reviews_train_df['PosNeg'].values, y_train_predsvmng, target_names=['Neg', 'Pos']))"
   ]
  },
  {
   "cell_type": "code",
   "execution_count": 172,
   "metadata": {},
   "outputs": [
    {
     "name": "stdout",
     "output_type": "stream",
     "text": [
      "Test Results\n\n              precision    recall  f1-score   support\n\n        Neg       0.74      0.79      0.77       126\n        Pos       0.89      0.85      0.87       238\n\navg / total       0.84      0.83      0.83       364\n\n"
     ]
    }
   ],
   "source": [
    "print('Test Results\\n\\n', classification_report(reviews_test_df['PosNeg'].values, y_test_predsvmng, target_names=['Neg', 'Pos']))"
   ]
  },
  {
   "cell_type": "markdown",
   "metadata": {},
   "source": [
    "## Results"
   ]
  },
  {
   "cell_type": "code",
   "execution_count": 131,
   "metadata": {},
   "outputs": [
    {
     "data": {
      "text/html": [
       "<div>\n",
       "<style scoped>\n",
       "    .dataframe tbody tr th:only-of-type {\n",
       "        vertical-align: middle;\n",
       "    }\n",
       "\n",
       "    .dataframe tbody tr th {\n",
       "        vertical-align: top;\n",
       "    }\n",
       "\n",
       "    .dataframe thead th {\n",
       "        text-align: right;\n",
       "    }\n",
       "</style>\n",
       "<table border=\"1\" class=\"dataframe\">\n",
       "  <thead>\n",
       "    <tr style=\"text-align: right;\">\n",
       "      <th></th>\n",
       "      <th>description</th>\n",
       "      <th>PosNeg</th>\n",
       "      <th>desc_tokenised</th>\n",
       "      <th>pred_NB</th>\n",
       "      <th>pred_SVM</th>\n",
       "    </tr>\n",
       "  </thead>\n",
       "  <tbody>\n",
       "    <tr>\n",
       "      <th>0</th>\n",
       "      <td>Beef ball is good! Try the beef combo pho. The...</td>\n",
       "      <td>1</td>\n",
       "      <td>[Beef, ball, be, good, Try, beef, combo, pho, ...</td>\n",
       "      <td>1</td>\n",
       "      <td>1</td>\n",
       "    </tr>\n",
       "    <tr>\n",
       "      <th>1</th>\n",
       "      <td>Egg noodle with prawns and spare rib- deliciou...</td>\n",
       "      <td>1</td>\n",
       "      <td>[Egg, noodle, prawn, spare, rib-, delicious, b...</td>\n",
       "      <td>1</td>\n",
       "      <td>1</td>\n",
       "    </tr>\n",
       "    <tr>\n",
       "      <th>2</th>\n",
       "      <td>Egg noodles with prawns and pork rib ($11) - 3...</td>\n",
       "      <td>-1</td>\n",
       "      <td>[Egg, noodle, prawn, pork, rib, star, Loved, c...</td>\n",
       "      <td>-1</td>\n",
       "      <td>-1</td>\n",
       "    </tr>\n",
       "    <tr>\n",
       "      <th>3</th>\n",
       "      <td>Banh mi is an amazing sandwich... Now I have h...</td>\n",
       "      <td>1</td>\n",
       "      <td>[Banh, mi, be, amazing, sandwich, Now, have, h...</td>\n",
       "      <td>1</td>\n",
       "      <td>1</td>\n",
       "    </tr>\n",
       "    <tr>\n",
       "      <th>4</th>\n",
       "      <td>Have been seeing Nam Nam with ridiculously lon...</td>\n",
       "      <td>-1</td>\n",
       "      <td>[Have, be, see, Nam, Nam, ridiculously, long, ...</td>\n",
       "      <td>-1</td>\n",
       "      <td>-1</td>\n",
       "    </tr>\n",
       "  </tbody>\n",
       "</table>\n",
       "</div>"
      ],
      "text/plain": [
       "<div>\n",
       "<style scoped>\n",
       "    .dataframe tbody tr th:only-of-type {\n",
       "        vertical-align: middle;\n",
       "    }\n",
       "\n",
       "    .dataframe tbody tr th {\n",
       "        vertical-align: top;\n",
       "    }\n",
       "\n",
       "    .dataframe thead th {\n",
       "        text-align: right;\n",
       "    }\n",
       "</style>\n",
       "<table border=\"1\" class=\"dataframe\">\n",
       "  <thead>\n",
       "    <tr style=\"text-align: right;\">\n",
       "      <th></th>\n",
       "      <th>description</th>\n",
       "      <th>PosNeg</th>\n",
       "      <th>desc_tokenised</th>\n",
       "      <th>pred_NB</th>\n",
       "      <th>pred_SVM</th>\n",
       "    </tr>\n",
       "  </thead>\n",
       "  <tbody>\n",
       "    <tr>\n",
       "      <th>0</th>\n",
       "      <td>Beef ball is good! Try the beef combo pho. The...</td>\n",
       "      <td>1</td>\n",
       "      <td>[Beef, ball, be, good, Try, beef, combo, pho, ...</td>\n",
       "      <td>1</td>\n",
       "      <td>1</td>\n",
       "    </tr>\n",
       "    <tr>\n",
       "      <th>1</th>\n",
       "      <td>Egg noodle with prawns and spare rib- deliciou...</td>\n",
       "      <td>1</td>\n",
       "      <td>[Egg, noodle, prawn, spare, rib-, delicious, b...</td>\n",
       "      <td>1</td>\n",
       "      <td>1</td>\n",
       "    </tr>\n",
       "    <tr>\n",
       "      <th>2</th>\n",
       "      <td>Egg noodles with prawns and pork rib ($11) - 3...</td>\n",
       "      <td>-1</td>\n",
       "      <td>[Egg, noodle, prawn, pork, rib, star, Loved, c...</td>\n",
       "      <td>-1</td>\n",
       "      <td>-1</td>\n",
       "    </tr>\n",
       "    <tr>\n",
       "      <th>3</th>\n",
       "      <td>Banh mi is an amazing sandwich... Now I have h...</td>\n",
       "      <td>1</td>\n",
       "      <td>[Banh, mi, be, amazing, sandwich, Now, have, h...</td>\n",
       "      <td>1</td>\n",
       "      <td>1</td>\n",
       "    </tr>\n",
       "    <tr>\n",
       "      <th>4</th>\n",
       "      <td>Have been seeing Nam Nam with ridiculously lon...</td>\n",
       "      <td>-1</td>\n",
       "      <td>[Have, be, see, Nam, Nam, ridiculously, long, ...</td>\n",
       "      <td>-1</td>\n",
       "      <td>-1</td>\n",
       "    </tr>\n",
       "  </tbody>\n",
       "</table>\n",
       "</div>"
      ]
     },
     "execution_count": 131,
     "metadata": {},
     "output_type": "execute_result"
    }
   ],
   "source": [
    "reviews_train_df['pred_NB'] = y_train_pred\n",
    "reviews_train_df['pred_SVM'] = y_train_predsvm\n",
    "reviews_train_df.head()"
   ]
  },
  {
   "cell_type": "code",
   "execution_count": 132,
   "metadata": {},
   "outputs": [
    {
     "name": "stderr",
     "output_type": "stream",
     "text": [
      "/usr/lib/python3/dist-packages/ipykernel_launcher.py:1: SettingWithCopyWarning: \nA value is trying to be set on a copy of a slice from a DataFrame.\nTry using .loc[row_indexer,col_indexer] = value instead\n\nSee the caveats in the documentation: http://pandas.pydata.org/pandas-docs/stable/indexing.html#indexing-view-versus-copy\n  \"\"\"Entry point for launching an IPython kernel.\n/usr/lib/python3/dist-packages/ipykernel_launcher.py:2: SettingWithCopyWarning: \nA value is trying to be set on a copy of a slice from a DataFrame.\nTry using .loc[row_indexer,col_indexer] = value instead\n\nSee the caveats in the documentation: http://pandas.pydata.org/pandas-docs/stable/indexing.html#indexing-view-versus-copy\n  \n"
     ]
    },
    {
     "data": {
      "text/html": [
       "<div>\n",
       "<style scoped>\n",
       "    .dataframe tbody tr th:only-of-type {\n",
       "        vertical-align: middle;\n",
       "    }\n",
       "\n",
       "    .dataframe tbody tr th {\n",
       "        vertical-align: top;\n",
       "    }\n",
       "\n",
       "    .dataframe thead th {\n",
       "        text-align: right;\n",
       "    }\n",
       "</style>\n",
       "<table border=\"1\" class=\"dataframe\">\n",
       "  <thead>\n",
       "    <tr style=\"text-align: right;\">\n",
       "      <th></th>\n",
       "      <th>author</th>\n",
       "      <th>datePublished</th>\n",
       "      <th>description</th>\n",
       "      <th>reviewRating</th>\n",
       "      <th>name</th>\n",
       "      <th>cuisine</th>\n",
       "      <th>PosNeg</th>\n",
       "      <th>desc_tokenised</th>\n",
       "      <th>pred_NB</th>\n",
       "      <th>pred_SVM</th>\n",
       "    </tr>\n",
       "  </thead>\n",
       "  <tbody>\n",
       "    <tr>\n",
       "      <th>93</th>\n",
       "      <td>Anchisa P.</td>\n",
       "      <td>2018-10-13</td>\n",
       "      <td>4.5 stars. 1 Michelin star Modern Peranakan cu...</td>\n",
       "      <td>4</td>\n",
       "      <td>Candlenut</td>\n",
       "      <td>Asian Fusion</td>\n",
       "      <td>1</td>\n",
       "      <td>[star, Michelin, star, Modern, Peranakan, cuis...</td>\n",
       "      <td>1</td>\n",
       "      <td>1</td>\n",
       "    </tr>\n",
       "    <tr>\n",
       "      <th>94</th>\n",
       "      <td>Vincent Q.</td>\n",
       "      <td>2018-10-02</td>\n",
       "      <td>This is the first time that I have had Peranka...</td>\n",
       "      <td>5</td>\n",
       "      <td>Candlenut</td>\n",
       "      <td>Asian Fusion</td>\n",
       "      <td>1</td>\n",
       "      <td>[be, first, time, have, have, Perankan, food, ...</td>\n",
       "      <td>-1</td>\n",
       "      <td>1</td>\n",
       "    </tr>\n",
       "    <tr>\n",
       "      <th>95</th>\n",
       "      <td>George L.</td>\n",
       "      <td>2018-07-25</td>\n",
       "      <td>Came here to try Michelin Star fine dining res...</td>\n",
       "      <td>3</td>\n",
       "      <td>Candlenut</td>\n",
       "      <td>Asian Fusion</td>\n",
       "      <td>-1</td>\n",
       "      <td>[Came, here, try, Michelin, Star, fine, dining...</td>\n",
       "      <td>1</td>\n",
       "      <td>1</td>\n",
       "    </tr>\n",
       "    <tr>\n",
       "      <th>96</th>\n",
       "      <td>Sol A.</td>\n",
       "      <td>2018-04-21</td>\n",
       "      <td>Dining here was not the experience that I expe...</td>\n",
       "      <td>3</td>\n",
       "      <td>Candlenut</td>\n",
       "      <td>Asian Fusion</td>\n",
       "      <td>-1</td>\n",
       "      <td>[Dining, here, be, not, experience, expect, on...</td>\n",
       "      <td>-1</td>\n",
       "      <td>-1</td>\n",
       "    </tr>\n",
       "    <tr>\n",
       "      <th>97</th>\n",
       "      <td>Aimee K.</td>\n",
       "      <td>2018-10-14</td>\n",
       "      <td>I cannot recommend this restaurant enough, the...</td>\n",
       "      <td>5</td>\n",
       "      <td>Candlenut</td>\n",
       "      <td>Asian Fusion</td>\n",
       "      <td>1</td>\n",
       "      <td>[not, recommend, restaurant, enough, food, be,...</td>\n",
       "      <td>1</td>\n",
       "      <td>1</td>\n",
       "    </tr>\n",
       "  </tbody>\n",
       "</table>\n",
       "</div>"
      ],
      "text/plain": [
       "<div>\n",
       "<style scoped>\n",
       "    .dataframe tbody tr th:only-of-type {\n",
       "        vertical-align: middle;\n",
       "    }\n",
       "\n",
       "    .dataframe tbody tr th {\n",
       "        vertical-align: top;\n",
       "    }\n",
       "\n",
       "    .dataframe thead th {\n",
       "        text-align: right;\n",
       "    }\n",
       "</style>\n",
       "<table border=\"1\" class=\"dataframe\">\n",
       "  <thead>\n",
       "    <tr style=\"text-align: right;\">\n",
       "      <th></th>\n",
       "      <th>author</th>\n",
       "      <th>datePublished</th>\n",
       "      <th>description</th>\n",
       "      <th>reviewRating</th>\n",
       "      <th>name</th>\n",
       "      <th>cuisine</th>\n",
       "      <th>PosNeg</th>\n",
       "      <th>desc_tokenised</th>\n",
       "      <th>pred_NB</th>\n",
       "      <th>pred_SVM</th>\n",
       "    </tr>\n",
       "  </thead>\n",
       "  <tbody>\n",
       "    <tr>\n",
       "      <th>93</th>\n",
       "      <td>Anchisa P.</td>\n",
       "      <td>2018-10-13</td>\n",
       "      <td>4.5 stars. 1 Michelin star Modern Peranakan cu...</td>\n",
       "      <td>4</td>\n",
       "      <td>Candlenut</td>\n",
       "      <td>Asian Fusion</td>\n",
       "      <td>1</td>\n",
       "      <td>[star, Michelin, star, Modern, Peranakan, cuis...</td>\n",
       "      <td>1</td>\n",
       "      <td>1</td>\n",
       "    </tr>\n",
       "    <tr>\n",
       "      <th>94</th>\n",
       "      <td>Vincent Q.</td>\n",
       "      <td>2018-10-02</td>\n",
       "      <td>This is the first time that I have had Peranka...</td>\n",
       "      <td>5</td>\n",
       "      <td>Candlenut</td>\n",
       "      <td>Asian Fusion</td>\n",
       "      <td>1</td>\n",
       "      <td>[be, first, time, have, have, Perankan, food, ...</td>\n",
       "      <td>-1</td>\n",
       "      <td>1</td>\n",
       "    </tr>\n",
       "    <tr>\n",
       "      <th>95</th>\n",
       "      <td>George L.</td>\n",
       "      <td>2018-07-25</td>\n",
       "      <td>Came here to try Michelin Star fine dining res...</td>\n",
       "      <td>3</td>\n",
       "      <td>Candlenut</td>\n",
       "      <td>Asian Fusion</td>\n",
       "      <td>-1</td>\n",
       "      <td>[Came, here, try, Michelin, Star, fine, dining...</td>\n",
       "      <td>1</td>\n",
       "      <td>1</td>\n",
       "    </tr>\n",
       "    <tr>\n",
       "      <th>96</th>\n",
       "      <td>Sol A.</td>\n",
       "      <td>2018-04-21</td>\n",
       "      <td>Dining here was not the experience that I expe...</td>\n",
       "      <td>3</td>\n",
       "      <td>Candlenut</td>\n",
       "      <td>Asian Fusion</td>\n",
       "      <td>-1</td>\n",
       "      <td>[Dining, here, be, not, experience, expect, on...</td>\n",
       "      <td>-1</td>\n",
       "      <td>-1</td>\n",
       "    </tr>\n",
       "    <tr>\n",
       "      <th>97</th>\n",
       "      <td>Aimee K.</td>\n",
       "      <td>2018-10-14</td>\n",
       "      <td>I cannot recommend this restaurant enough, the...</td>\n",
       "      <td>5</td>\n",
       "      <td>Candlenut</td>\n",
       "      <td>Asian Fusion</td>\n",
       "      <td>1</td>\n",
       "      <td>[not, recommend, restaurant, enough, food, be,...</td>\n",
       "      <td>1</td>\n",
       "      <td>1</td>\n",
       "    </tr>\n",
       "  </tbody>\n",
       "</table>\n",
       "</div>"
      ]
     },
     "execution_count": 132,
     "metadata": {},
     "output_type": "execute_result"
    }
   ],
   "source": [
    "reviews_test_df['pred_NB'] = y_test_pred\n",
    "reviews_test_df['pred_SVM'] = y_test_predsvm\n",
    "reviews_test_df.head()"
   ]
  },
  {
   "cell_type": "code",
   "execution_count": 133,
   "metadata": {},
   "outputs": [],
   "source": [
    "# Save to csv file\n",
    "reviews_train_df.to_csv(os.path.join('data', 'results', 'train_scored.csv'), index=False)\n",
    "reviews_test_df.to_csv(os.path.join('data', 'results', 'test_scored.csv'), index=False)"
   ]
  },
  {
   "cell_type": "code",
   "execution_count": 134,
   "metadata": {},
   "outputs": [
    {
     "data": {
      "text/plain": [
       "{'Candlenut': Int64Index([ 93,  94,  95,  96,  97,  98,  99, 100, 101, 102, 103, 104, 105,\n             106, 107, 108, 109, 110, 111, 112, 113],\n            dtype='int64'),\n 'First Thai Food': Int64Index([238, 239, 240, 241, 242, 243, 244, 245, 246, 247, 248], dtype='int64'),\n 'Jaan': Int64Index([350, 351, 352, 353, 354, 355, 356, 357, 358, 359, 360, 361, 362,\n             363, 364, 365, 366, 367, 368, 369, 370, 371, 372, 373, 374, 375,\n             376, 377],\n            dtype='int64'),\n 'Jai Thai': Int64Index([865, 866, 867, 868, 869, 870, 871, 872, 873, 874, 875, 876, 877,\n             878, 879, 880, 881],\n            dtype='int64'),\n 'Le Bistrot Du Sommelier': Int64Index([316, 317, 318, 319, 320, 321, 322, 323, 324, 325, 326, 327, 328,\n             329, 330, 331, 332, 333, 334, 335, 336, 337, 338],\n            dtype='int64'),\n 'Little Saigon': Int64Index([ 260,  261,  262,  263,  264,  265,  266,  267,  268,  269,  270,\n              271,  272,  273, 1200, 1201, 1202, 1203, 1204, 1205, 1206, 1207,\n             1208, 1209, 1210, 1211, 1212, 1213],\n            dtype='int64'),\n 'Long Phung Vietnamese Restaurant': Int64Index([218, 219, 220, 221, 222, 223, 224, 225, 226, 227, 228, 229, 230,\n             231, 232, 233, 234, 235, 236, 237],\n            dtype='int64'),\n 'NamNam Noodle Bar - Wheelock Place': Int64Index([2259, 2260, 2261, 2262, 2263, 2264, 2265, 2266, 2267, 2268, 2269,\n             2270, 2271, 2272, 2273, 2274, 2275, 2276, 2277, 2278, 2279, 2280,\n             2281, 2282, 2283, 2284, 2285, 2286, 2287, 2288, 2289, 2290],\n            dtype='int64'),\n 'National Kitchen By Violet Oon': Int64Index([718, 719, 720, 721, 722, 723, 724, 725, 726, 727, 728, 729, 730,\n             731, 732, 733, 734, 735, 736, 737],\n            dtype='int64'),\n 'Prego': Int64Index([1431, 1432, 1433, 1434, 1435, 1436, 1437, 1438, 1439, 1440, 1441,\n             1442, 1443, 1444, 1445, 1446, 1447, 1448, 1449, 1450, 1451, 1452],\n            dtype='int64'),\n 'Quentin’s': Int64Index([1499, 1500, 1501, 1502, 1503, 1504, 1505, 1506, 1507, 1508, 1509,\n             1510],\n            dtype='int64'),\n 'Sandwich Saigon Cafe': Int64Index([2402, 2403, 2404, 2405, 2406, 2407, 2408, 2409, 2410, 2411, 2412,\n             2413, 2414],\n            dtype='int64'),\n 'Saveur': Int64Index([1278, 1279, 1280, 1281, 1282, 1283, 1284, 1285, 1286, 1287, 1288,\n             1289, 1290, 1291, 1292, 1293, 1294, 1295, 1296, 1297, 1298, 1299,\n             1300, 1301, 1302, 1303, 1304, 1305, 1306, 1307, 1308, 1309, 1310,\n             1311, 1312, 1313, 1314, 1315, 1316, 1317, 1318, 1319, 1320, 1321,\n             1322, 1323, 1324, 1325, 1326, 1327, 1328, 1329, 1330, 1331, 1332,\n             1333, 1334, 1335, 1336, 1337, 1338, 1339, 1340, 1341],\n            dtype='int64'),\n 'The Square': Int64Index([764, 765, 766, 767, 768, 2302, 2303, 2304, 2305, 2306], dtype='int64'),\n 'Whole Earth': Int64Index([2043, 2044, 2045, 2046, 2047, 2048, 2049, 2050, 2051, 2052, 2053,\n             2054, 2055, 2056, 2057, 2058, 2059, 2060, 2061, 2062, 2063, 2064,\n             2065, 2066, 2067, 2068, 2069],\n            dtype='int64'),\n 'Yhingthai Palace': Int64Index([802, 803, 804, 805, 806, 807, 808, 809, 810, 811, 812, 813, 814,\n             815, 816, 817],\n            dtype='int64')}"
      ]
     },
     "execution_count": 134,
     "metadata": {},
     "output_type": "execute_result"
    }
   ],
   "source": [
    "reviews_test_df.groupby('name').groups"
   ]
  },
  {
   "cell_type": "code",
   "execution_count": 135,
   "metadata": {},
   "outputs": [],
   "source": [
    "# Create json\n",
    "test_json = {}\n",
    "\n",
    "cuisine_group = reviews_test_df.groupby('cuisine').groups\n",
    "\n",
    "for a_cuisine in cuisine_group.keys():\n",
    "\n",
    "    restaurant_group = reviews_test_df.loc[cuisine_group[a_cuisine], :].groupby('name').groups\n",
    "    cuisine_list = []\n",
    "    for a_restaurant in restaurant_group.keys():\n",
    "        d = {}\n",
    "        d['name'] = a_restaurant\n",
    "        reviews_list = reviews_test_df.loc[restaurant_group[a_restaurant], ['description', 'pred_SVM']].to_dict('records')\n",
    "        d['nb_reviews'] = len(reviews_list)\n",
    "        d['reviews'] = reviews_list\n",
    "        cuisine_list.append(d)\n",
    "    test_json[a_cuisine] = cuisine_list"
   ]
  },
  {
   "cell_type": "code",
   "execution_count": 136,
   "metadata": {},
   "outputs": [
    {
     "data": {
      "text/plain": [
       "dict_keys(['Asian Fusion', 'French', 'Thai', 'Vietnamese'])"
      ]
     },
     "execution_count": 136,
     "metadata": {},
     "output_type": "execute_result"
    }
   ],
   "source": [
    "test_json.keys()"
   ]
  },
  {
   "cell_type": "code",
   "execution_count": 137,
   "metadata": {},
   "outputs": [],
   "source": [
    "len(test_json['French'])"
   ]
  },
  {
   "cell_type": "code",
   "execution_count": 138,
   "metadata": {},
   "outputs": [
    {
     "data": {
      "text/plain": [
       "['Jaan', 'Le Bistrot Du Sommelier', 'Prego', 'Saveur']"
      ]
     },
     "execution_count": 138,
     "metadata": {},
     "output_type": "execute_result"
    }
   ],
   "source": [
    "[ i['name'] for i in test_json['French'] ]"
   ]
  },
  {
   "cell_type": "code",
   "execution_count": 139,
   "metadata": {},
   "outputs": [
    {
     "name": "stdout",
     "output_type": "stream",
     "text": [
      "Asian Fusion\n['Candlenut', 'National Kitchen By Violet Oon', 'Quentin’s', 'The Square']\nFrench\n['Jaan', 'Le Bistrot Du Sommelier', 'Prego', 'Saveur']\nThai\n['First Thai Food', 'Jai Thai', 'Whole Earth', 'Yhingthai Palace']\nVietnamese\n['Little Saigon', 'Long Phung Vietnamese Restaurant', 'NamNam Noodle Bar - Wheelock Place', 'Sandwich Saigon Cafe']\n"
     ]
    }
   ],
   "source": [
    "for i in test_json.keys():\n",
    "    print(i)\n",
    "    print([ j['name'] for j in test_json[i] ])"
   ]
  },
  {
   "cell_type": "code",
   "execution_count": 140,
   "metadata": {},
   "outputs": [],
   "source": [
    "with open(os.path.join('data', 'results', 'day2-genesis-test.json'), 'w') as outfile:\n",
    "    json.dump(test_json, outfile)"
   ]
  },
  {
   "cell_type": "code",
   "execution_count": 67,
   "metadata": {},
   "outputs": [],
   "source": []
  }
 ],
 "metadata": {
  "kernelspec": {
   "display_name": "Python 2",
   "language": "python",
   "name": "python2"
  },
  "language_info": {
   "codemirror_mode": {
    "name": "ipython",
    "version": 2
   },
   "file_extension": ".py",
   "mimetype": "text/x-python",
   "name": "python",
   "nbconvert_exporter": "python",
   "pygments_lexer": "ipython2",
   "version": "2.7.6"
  }
 },
 "nbformat": 4,
 "nbformat_minor": 0
}
